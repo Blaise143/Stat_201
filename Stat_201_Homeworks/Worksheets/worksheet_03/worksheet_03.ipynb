{
 "cells": [
  {
   "cell_type": "markdown",
   "metadata": {
    "deletable": false,
    "editable": false,
    "nbgrader": {
     "cell_type": "markdown",
     "checksum": "e74aceff7ff293312405c2ef890ab6ab",
     "grade": false,
     "grade_id": "cell-e883b594bd088087",
     "locked": true,
     "schema_version": 3,
     "solution": false,
     "task": false
    }
   },
   "source": [
    "# Worksheet 3: Bootstrapping and its Relationship to the Sampling Distribution"
   ]
  },
  {
   "cell_type": "markdown",
   "metadata": {
    "deletable": false,
    "editable": false,
    "nbgrader": {
     "cell_type": "markdown",
     "checksum": "049bda460bad4f83117d546bbe10321b",
     "grade": false,
     "grade_id": "cell-9460eb96253e3080",
     "locked": true,
     "schema_version": 3,
     "solution": false,
     "task": false
    }
   },
   "source": [
    "### Lecture and Tutorial Learning Goals\n",
    "After completing this week's lecture and tutorial work, you will be able to:\n",
    "1. Explain why we don’t know/have a sampling distribution in practice/real life.\n",
    "2. Define bootstrapping.\n",
    "3. Write a computer script to create a bootstrap distribution to approximate a sampling distribution.\n",
    "4. Contrast a bootstrap sampling distribution with a sampling distribution obtained using multiple samples."
   ]
  },
  {
   "cell_type": "code",
   "execution_count": 1,
   "metadata": {
    "deletable": false,
    "editable": false,
    "nbgrader": {
     "cell_type": "code",
     "checksum": "8e4ea5f6af2c4baffbf1f0d12d6eda7e",
     "grade": false,
     "grade_id": "cell-9e25e98e883dccff",
     "locked": true,
     "schema_version": 3,
     "solution": false,
     "task": false
    }
   },
   "outputs": [
    {
     "name": "stderr",
     "output_type": "stream",
     "text": [
      "\n",
      "********************************************************\n",
      "\n",
      "Note: As of version 1.0.0, cowplot does not change the\n",
      "\n",
      "  default ggplot2 theme anymore. To recover the previous\n",
      "\n",
      "  behavior, execute:\n",
      "  theme_set(theme_cowplot())\n",
      "\n",
      "********************************************************\n",
      "\n",
      "\n",
      "Warning message:\n",
      "“package ‘infer’ was built under R version 4.0.2”\n",
      "── \u001b[1mAttaching packages\u001b[22m ─────────────────────────────────────── tidyverse 1.3.0 ──\n",
      "\n",
      "\u001b[32m✔\u001b[39m \u001b[34mggplot2\u001b[39m 3.3.2     \u001b[32m✔\u001b[39m \u001b[34mpurrr  \u001b[39m 0.3.4\n",
      "\u001b[32m✔\u001b[39m \u001b[34mtibble \u001b[39m 3.0.3     \u001b[32m✔\u001b[39m \u001b[34mdplyr  \u001b[39m 1.0.2\n",
      "\u001b[32m✔\u001b[39m \u001b[34mtidyr  \u001b[39m 1.1.1     \u001b[32m✔\u001b[39m \u001b[34mstringr\u001b[39m 1.4.0\n",
      "\u001b[32m✔\u001b[39m \u001b[34mreadr  \u001b[39m 1.3.1     \u001b[32m✔\u001b[39m \u001b[34mforcats\u001b[39m 0.5.0\n",
      "\n",
      "Warning message:\n",
      "“package ‘ggplot2’ was built under R version 4.0.1”\n",
      "Warning message:\n",
      "“package ‘tibble’ was built under R version 4.0.2”\n",
      "Warning message:\n",
      "“package ‘tidyr’ was built under R version 4.0.2”\n",
      "Warning message:\n",
      "“package ‘dplyr’ was built under R version 4.0.2”\n",
      "── \u001b[1mConflicts\u001b[22m ────────────────────────────────────────── tidyverse_conflicts() ──\n",
      "\u001b[31m✖\u001b[39m \u001b[34mdplyr\u001b[39m::\u001b[32mcombine()\u001b[39m masks \u001b[34mgridExtra\u001b[39m::combine()\n",
      "\u001b[31m✖\u001b[39m \u001b[34mdplyr\u001b[39m::\u001b[32mfilter()\u001b[39m  masks \u001b[34mstats\u001b[39m::filter()\n",
      "\u001b[31m✖\u001b[39m \u001b[34mdplyr\u001b[39m::\u001b[32mlag()\u001b[39m     masks \u001b[34mstats\u001b[39m::lag()\n",
      "\n",
      "\n",
      "Attaching package: ‘testthat’\n",
      "\n",
      "\n",
      "The following object is masked from ‘package:dplyr’:\n",
      "\n",
      "    matches\n",
      "\n",
      "\n",
      "The following object is masked from ‘package:purrr’:\n",
      "\n",
      "    is_null\n",
      "\n",
      "\n",
      "The following object is masked from ‘package:tidyr’:\n",
      "\n",
      "    matches\n",
      "\n",
      "\n"
     ]
    }
   ],
   "source": [
    "# Run this cell before continuing.\n",
    "library(cowplot)\n",
    "library(digest)\n",
    "library(gridExtra)\n",
    "library(infer)\n",
    "library(repr)\n",
    "library(taxyvr)\n",
    "library(tidyverse)\n",
    "source(\"tests_worksheet_03.R\")"
   ]
  },
  {
   "cell_type": "markdown",
   "metadata": {
    "deletable": false,
    "editable": false,
    "nbgrader": {
     "cell_type": "markdown",
     "checksum": "dd2381152ee03caebb7e99863d972111",
     "grade": false,
     "grade_id": "cell-2ab7d5e0c77883ab",
     "locked": true,
     "schema_version": 3,
     "solution": false,
     "task": false
    }
   },
   "source": [
    "## 1. Warm Up Questions"
   ]
  },
  {
   "cell_type": "markdown",
   "metadata": {
    "deletable": false,
    "editable": false,
    "nbgrader": {
     "cell_type": "markdown",
     "checksum": "9ff0bf458f619f1fda7d2f08168c3dd9",
     "grade": false,
     "grade_id": "cell-c5774e72ef309fbb",
     "locked": true,
     "schema_version": 3,
     "solution": false,
     "task": false
    }
   },
   "source": [
    "**Question 1.0**\n",
    "<br> {points: 1}\n",
    "\n",
    "Below is a table that lists out various types of distributions that require sampling to generate. The right column of the table is empty but should describe the location(s) from which one **must** sample (at some point) to produce the corresponding distribution. Fill in the blanks of the table by assigning the object name with the letter associated with the phrase that is the most appropriate for that cell. The options are listed below the table.\n",
    "\n",
    "| Distribution                    | Requires sampling from? |\n",
    "| ------------------------------- | ----------------------- |\n",
    "| Sampling distribution           | `answer1.0.0`           |\n",
    "| Bootstrap sample distribution   | `answer1.0.1`           |\n",
    "| Bootstrap sampling distribution | `answer1.0.2`           |\n",
    "| Sample distribution             | `answer1.0.3`           |\n",
    "\n",
    "A. The population.\n",
    "\n",
    "B. A sample from the population.\n",
    "\n",
    "C. Both A & B.\n",
    "\n",
    "_Assign your answers to the objects  `answer1.0.0`, `answer1.0.1`, `answer1.0.2`, and `answer1.0.3`. Your answer should each be a single character surrounded by quotes._"
   ]
  },
  {
   "cell_type": "code",
   "execution_count": 2,
   "metadata": {
    "deletable": false,
    "nbgrader": {
     "cell_type": "code",
     "checksum": "d933570fd74dcecd4c3ede0df82979c6",
     "grade": false,
     "grade_id": "cell-bdb1f0ffdd6da9e6",
     "locked": false,
     "schema_version": 3,
     "solution": true,
     "task": false
    }
   },
   "outputs": [],
   "source": [
    "answer1.0.0 <- \"A\"\n",
    "answer1.0.1 <- \"C\"\n",
    "answer1.0.2 <- \"C\"\n",
    "answer1.0.3 <- \"A\"\n",
    "\n",
    "# your code here\n"
   ]
  },
  {
   "cell_type": "code",
   "execution_count": 3,
   "metadata": {
    "deletable": false,
    "editable": false,
    "nbgrader": {
     "cell_type": "code",
     "checksum": "a37902e636d6912317218aa0234327d1",
     "grade": true,
     "grade_id": "cell-f7e3a38d921ae45d",
     "locked": true,
     "points": 1,
     "schema_version": 3,
     "solution": false,
     "task": false
    }
   },
   "outputs": [
    {
     "name": "stdout",
     "output_type": "stream",
     "text": [
      "[1] \"Success!\"\n"
     ]
    }
   ],
   "source": [
    "test_1.0()"
   ]
  },
  {
   "cell_type": "markdown",
   "metadata": {
    "deletable": false,
    "editable": false,
    "nbgrader": {
     "cell_type": "markdown",
     "checksum": "d874e7dc59ae1b6f7c4c1166db8b3071",
     "grade": false,
     "grade_id": "cell-33fde50e9b5f9dcb",
     "locked": true,
     "schema_version": 3,
     "solution": false,
     "task": false
    }
   },
   "source": [
    "**Question 1.1**\n",
    "<br> {points: 1}\n",
    "\n",
    "You are tasked with finding the proportion of UBC undergraduate students who own one or more pairs of Blundstone boots. You only have the time and resources to take a single sample of around 45 students.\n",
    "\n",
    "True or false?\n",
    "\n",
    "Given the scenario above, it would be possible to generate a bootstrap sampling distribution of point estimates for the population parameter of interest.\n",
    "\n",
    "_Assign your answer to an object called `answer1.1`. Your answer should be either \"true\" or \"false\", surrounded by quotes._"
   ]
  },
  {
   "cell_type": "code",
   "execution_count": 4,
   "metadata": {
    "deletable": false,
    "nbgrader": {
     "cell_type": "code",
     "checksum": "16c627d85e3336f342a3949a83805a57",
     "grade": false,
     "grade_id": "cell-dbaa0d908d99de44",
     "locked": false,
     "schema_version": 3,
     "solution": true,
     "task": false
    }
   },
   "outputs": [],
   "source": [
    "# answer1.1 <- ...\n",
    "\n",
    "# your code here\n",
    "answer1.1 <- \"true\""
   ]
  },
  {
   "cell_type": "code",
   "execution_count": 5,
   "metadata": {
    "deletable": false,
    "editable": false,
    "nbgrader": {
     "cell_type": "code",
     "checksum": "be3f456359b02aac45982de80b8c40a7",
     "grade": true,
     "grade_id": "cell-24bcecb2e78c1557",
     "locked": true,
     "points": 1,
     "schema_version": 3,
     "solution": false,
     "task": false
    }
   },
   "outputs": [
    {
     "name": "stdout",
     "output_type": "stream",
     "text": [
      "[1] \"Success!\"\n"
     ]
    }
   ],
   "source": [
    "test_1.1()"
   ]
  },
  {
   "cell_type": "markdown",
   "metadata": {
    "deletable": false,
    "editable": false,
    "nbgrader": {
     "cell_type": "markdown",
     "checksum": "a93b0b1951576157f6e6d8ccb7ff3664",
     "grade": false,
     "grade_id": "cell-2ec23f379874e209",
     "locked": true,
     "schema_version": 3,
     "solution": false,
     "task": false
    }
   },
   "source": [
    "**Question 1.2**\n",
    "<br> {points: 1}\n",
    "\n",
    "True or false?\n",
    "\n",
    "In reality, we most often have the ability to directly compute the population parameter that we are interested in.\n",
    "\n",
    "_Assign your answer to an object called `answer1.2`. Your answer should be either \"true\" or \"false\" surrounded by quotes._"
   ]
  },
  {
   "cell_type": "code",
   "execution_count": 6,
   "metadata": {
    "deletable": false,
    "nbgrader": {
     "cell_type": "code",
     "checksum": "ae47cc4ba564ec7b1ecd14cc91e527f4",
     "grade": false,
     "grade_id": "cell-f61e1c57732aee28",
     "locked": false,
     "schema_version": 3,
     "solution": true,
     "task": false
    }
   },
   "outputs": [],
   "source": [
    "# answer1.2 <- ...\n",
    "\n",
    "# your code here\n",
    "answer1.2 <- \"false\""
   ]
  },
  {
   "cell_type": "code",
   "execution_count": 7,
   "metadata": {
    "deletable": false,
    "editable": false,
    "nbgrader": {
     "cell_type": "code",
     "checksum": "3a685666096c714972c27a148d1cec03",
     "grade": true,
     "grade_id": "cell-d8a18c40c1276dca",
     "locked": true,
     "points": 1,
     "schema_version": 3,
     "solution": false,
     "task": false
    }
   },
   "outputs": [
    {
     "name": "stdout",
     "output_type": "stream",
     "text": [
      "[1] \"Success!\"\n"
     ]
    }
   ],
   "source": [
    "test_1.2()"
   ]
  },
  {
   "cell_type": "markdown",
   "metadata": {
    "deletable": false,
    "editable": false,
    "nbgrader": {
     "cell_type": "markdown",
     "checksum": "ffaf96915907a06de727048b6b85e97a",
     "grade": false,
     "grade_id": "cell-7e27e396adcfb7e1",
     "locked": true,
     "schema_version": 3,
     "solution": false,
     "task": false
    }
   },
   "source": [
    "## 2. We Need More Samples (An Introduction to Bootstrapping)\n",
    "\n",
    "If you recall from the last tutorial, you were given a hypothetical scenario where you did not have access to data for the population of interest. Instead, you had two different samples from the population, and we got stuck when we wanted to study the variation (or, more formally, the standard error) of our point estimates (also called the *sampling variation*). The reasoning behind this was because we need many point estimates to study sampling variation, but we only had one of each size... So how do we study sampling variation without taking more samples from the population to produce a sampling distribution?\n",
    "\n",
    "<br>\n",
    "\n",
    "![](https://i1.wp.com/www.r-bloggers.com/wp-content/uploads/2010/06/boot.jpg?resize=210%2C294&ssl=1)\n",
    "<div style=\"text-align: center\"><i>Image from <a href=\"https://www.r-bloggers.com/bootstrapping-the-latest-r-into-amazon-elastic-map-reduce/\" width=\"100\">R-bloggers</i></a></div><br>\n",
    "\n",
    "The solution to this is **bootstrapping** (or specifically, **bootstrap resampling with replacement**). The term bootstrapping originates from the phrase \"to pull oneself up by one's bootstraps\", which refers to completing a seemingly impossible task with no external help. In Statistics, Bootstrapping is the idea of sampling from our original sample **with replacement** (also called **resampling with replacement**) to generate a **bootstrap sampling distribution**. Sampling with replacement means that each time we choose an observation from the population or sample, we return it before randomly selecting another. With this procedure, the original sample acts as an *estimate* of the population, and resampling with replacement gives us enough samples and results in enough *sampling variation* necessary to produce an approximation of the sampling distributions we have generated in the previous weeks. In this sense, our single sample has acted as our \"bootstrap\", and we have used it to \"pull ourselves up\" and create an approximation of the desired sampling distribution."
   ]
  },
  {
   "cell_type": "markdown",
   "metadata": {
    "deletable": false,
    "editable": false,
    "nbgrader": {
     "cell_type": "markdown",
     "checksum": "df916681627390ccf488a47195a383c7",
     "grade": false,
     "grade_id": "cell-3cf9e544012b7eda",
     "locked": true,
     "schema_version": 3,
     "solution": false,
     "task": false
    }
   },
   "source": [
    "**Question 2.0**\n",
    "<br> {points: 1}\n",
    "\n",
    "Suppose you had a single sample of size 20 held in the data frame `sample` and you wanted to study the variation of a point estimate from samples of this size. This means we need many more samples of size 20 to generate a sampling distribution. **Which of the following statements is true about the approach below?**\n",
    "\n",
    "```r\n",
    "more_samples <- sample %>% \n",
    "    rep_sample_n(size = 20, reps = 1400, replace = FALSE)\n",
    "```\n",
    "\n",
    "A. This approach would enable us to approximate the sampling distribution so we can study sampling variation.\n",
    "\n",
    "B. This approach would not give us enough samples (we need to increase the `reps` argument).\n",
    "\n",
    "C. This approach would give us 1400 identical samples.\n",
    "\n",
    "D. This approach is known as sampling with replacement.\n",
    "\n",
    "E. Both A & D.\n",
    "\n",
    "F. None of the above.\n",
    "\n",
    "_Assign your answer to an object called `answer2.0`. Your answer should be a single character surrounded by quotes._"
   ]
  },
  {
   "cell_type": "code",
   "execution_count": 8,
   "metadata": {
    "deletable": false,
    "nbgrader": {
     "cell_type": "code",
     "checksum": "8375ebf6af5ce95260d4cb00a41b051f",
     "grade": false,
     "grade_id": "cell-17beaf6d485bc828",
     "locked": false,
     "schema_version": 3,
     "solution": true,
     "task": false
    }
   },
   "outputs": [],
   "source": [
    "# answer2.0 <- ...\n",
    "\n",
    "# your code here\n",
    "answer2.0<- \"C\""
   ]
  },
  {
   "cell_type": "code",
   "execution_count": 9,
   "metadata": {
    "deletable": false,
    "editable": false,
    "nbgrader": {
     "cell_type": "code",
     "checksum": "e51028a0572b891beb67716c21550221",
     "grade": true,
     "grade_id": "cell-f6e3d66d982cf39a",
     "locked": true,
     "points": 1,
     "schema_version": 3,
     "solution": false,
     "task": false
    }
   },
   "outputs": [
    {
     "name": "stdout",
     "output_type": "stream",
     "text": [
      "[1] \"Success!\"\n"
     ]
    }
   ],
   "source": [
    "test_2.0()"
   ]
  },
  {
   "cell_type": "markdown",
   "metadata": {
    "deletable": false,
    "editable": false,
    "nbgrader": {
     "cell_type": "markdown",
     "checksum": "65559f030eee6478672763027bb1ac17",
     "grade": false,
     "grade_id": "cell-18405f12fa50f6dc",
     "locked": true,
     "schema_version": 3,
     "solution": false,
     "task": false
    }
   },
   "source": [
    "Use the following scenario to answer the **next two questions**:\n",
    "\n",
    "Suppose you had a small bowl of 9 Canadian dimes with the following production years (listed in increasing order):\n",
    "\n",
    "```\n",
    "1994, 1995, 1997, 1999, 2000, 2000, 2001, 2001, 2012\n",
    "```"
   ]
  },
  {
   "cell_type": "markdown",
   "metadata": {
    "deletable": false,
    "editable": false,
    "nbgrader": {
     "cell_type": "markdown",
     "checksum": "ab231eb67909277b48bf8163db5c8260",
     "grade": false,
     "grade_id": "cell-d94685a11194b662",
     "locked": true,
     "schema_version": 3,
     "solution": false,
     "task": false
    }
   },
   "source": [
    "**Question 2.1**\n",
    "<br> {points: 1}\n",
    "\n",
    "Assume we sampled 9 dimes out of the bowl, one at a time, in the order below. However, you do not know whether we returned the dime that we chose before taking another (sampling with replacement) or not (sampling without replacement).\n",
    "\n",
    "```\n",
    "1997, 1999, 1994, 2001, 1994, 2012, 2001, 2012, 2000\n",
    "```\n",
    "\n",
    "Given the sample above, was it a result of sampling **with replacement** or **without replacement**?\n",
    "\n",
    "A. The sample is a result of sampling with replacement.\n",
    "\n",
    "B. The sample is a result of sampling without replacement.\n",
    "\n",
    "C. There is not enough information to answer the question.\n",
    "\n",
    "_Assign your answer to an object called `answer2.1`. Your answer should be a single character surrounded by quotes._"
   ]
  },
  {
   "cell_type": "code",
   "execution_count": 10,
   "metadata": {
    "deletable": false,
    "nbgrader": {
     "cell_type": "code",
     "checksum": "5e36bb0b2a26dde9e17568ed46925a91",
     "grade": false,
     "grade_id": "cell-cd12b59b81ebaeb9",
     "locked": false,
     "schema_version": 3,
     "solution": true,
     "task": false
    }
   },
   "outputs": [],
   "source": [
    "# answer2.1 <- ...\n",
    "\n",
    "# your code here\n",
    "answer2.1<- \"A\""
   ]
  },
  {
   "cell_type": "code",
   "execution_count": 11,
   "metadata": {
    "deletable": false,
    "editable": false,
    "nbgrader": {
     "cell_type": "code",
     "checksum": "f2067ce2693cc3c8ad43736261aba0b6",
     "grade": true,
     "grade_id": "cell-c4693651ea64e97c",
     "locked": true,
     "points": 1,
     "schema_version": 3,
     "solution": false,
     "task": false
    }
   },
   "outputs": [
    {
     "name": "stdout",
     "output_type": "stream",
     "text": [
      "[1] \"Success!\"\n"
     ]
    }
   ],
   "source": [
    "test_2.1()"
   ]
  },
  {
   "cell_type": "markdown",
   "metadata": {
    "deletable": false,
    "editable": false,
    "nbgrader": {
     "cell_type": "markdown",
     "checksum": "d95b93a9dcd453ab7bc53ea911a20ba5",
     "grade": false,
     "grade_id": "cell-08bdbd88e7b40015",
     "locked": true,
     "schema_version": 3,
     "solution": false,
     "task": false
    }
   },
   "source": [
    "**Question 2.2**\n",
    "<br> {points: 1}\n",
    "\n",
    "Assume we sampled 9 dimes out of the bowl, one at a time, in the order below. However, you do not know whether we returned the dime that we chose before taking another (sampling with replacement) or not (sampling without replacement).\n",
    "\n",
    "```\n",
    "2012, 1994, 2001, 1999, 1997, 2001, 2000, 2000, 1995\n",
    "```\n",
    "\n",
    "Given the sample above, was it a result of sampling **with replacement** or **without replacement**?\n",
    "\n",
    "A. The sample is a result of sampling with replacement.\n",
    "\n",
    "B. The sample is a result of sampling without replacement.\n",
    "\n",
    "C. There is not enough information to answer the question.\n",
    "\n",
    "_Assign your answer to an object called `answer2.2`. Your answer should be a single character surrounded by quotes._"
   ]
  },
  {
   "cell_type": "code",
   "execution_count": 12,
   "metadata": {
    "deletable": false,
    "nbgrader": {
     "cell_type": "code",
     "checksum": "95f9ad1a3003658ab271d2604708266a",
     "grade": false,
     "grade_id": "cell-991f90f96be76120",
     "locked": false,
     "schema_version": 3,
     "solution": true,
     "task": false
    }
   },
   "outputs": [],
   "source": [
    "# answer2.2 <- ...\n",
    "\n",
    "# your code here\n",
    "answer2.2 <-\"C\""
   ]
  },
  {
   "cell_type": "code",
   "execution_count": 13,
   "metadata": {
    "deletable": false,
    "editable": false,
    "nbgrader": {
     "cell_type": "code",
     "checksum": "2c8659d46d7e6d22ee8a88a3e6c5b67b",
     "grade": true,
     "grade_id": "cell-3280774d9788a5d5",
     "locked": true,
     "points": 1,
     "schema_version": 3,
     "solution": false,
     "task": false
    }
   },
   "outputs": [
    {
     "name": "stdout",
     "output_type": "stream",
     "text": [
      "[1] \"Success!\"\n"
     ]
    }
   ],
   "source": [
    "test_2.2()"
   ]
  },
  {
   "cell_type": "markdown",
   "metadata": {
    "deletable": false,
    "editable": false,
    "nbgrader": {
     "cell_type": "markdown",
     "checksum": "61b80ba1c212bf63799c9a6d085ace2c",
     "grade": false,
     "grade_id": "cell-255aba27bffea910",
     "locked": true,
     "schema_version": 3,
     "solution": false,
     "task": false
    }
   },
   "source": [
    "**Question 2.3**\n",
    "<br> {points: 1}\n",
    "\n",
    "True or false?\n",
    "\n",
    "When you take a bootstrap sample, you are sampling with replacement from the population.\n",
    "\n",
    "_Assign your answer to an object called `answer2.3`. Your answer should be either \"true\" or \"false\", surrounded by quotes._"
   ]
  },
  {
   "cell_type": "code",
   "execution_count": 14,
   "metadata": {
    "deletable": false,
    "nbgrader": {
     "cell_type": "code",
     "checksum": "853e6af568e83670a5caf3ef03554251",
     "grade": false,
     "grade_id": "cell-92f4cdff4df3b451",
     "locked": false,
     "schema_version": 3,
     "solution": true,
     "task": false
    }
   },
   "outputs": [],
   "source": [
    "# answer2.3 <- ...\n",
    "\n",
    "# your code here\n",
    "answer2.3 <- \"false\""
   ]
  },
  {
   "cell_type": "code",
   "execution_count": 15,
   "metadata": {
    "deletable": false,
    "editable": false,
    "nbgrader": {
     "cell_type": "code",
     "checksum": "f3e7beb2227a225a33dead228535280f",
     "grade": true,
     "grade_id": "cell-771676480db29167",
     "locked": true,
     "points": 1,
     "schema_version": 3,
     "solution": false,
     "task": false
    }
   },
   "outputs": [
    {
     "name": "stdout",
     "output_type": "stream",
     "text": [
      "[1] \"Success!\"\n"
     ]
    }
   ],
   "source": [
    "test_2.3()"
   ]
  },
  {
   "cell_type": "markdown",
   "metadata": {
    "deletable": false,
    "editable": false,
    "nbgrader": {
     "cell_type": "markdown",
     "checksum": "70e070af628cbd8539e7a0b8cfa51fac",
     "grade": false,
     "grade_id": "cell-93ad5f31ad660c76",
     "locked": true,
     "schema_version": 3,
     "solution": false,
     "task": false
    }
   },
   "source": [
    "## 3. Sample Distribution vs. Bootstrap Sample Distribution(s)\n",
    "\n",
    "Before we jump into creating bootstrap sampling distributions, let's take a moment to gain some more insight into how sampling with replacement introduces **sampling variation**. Consider the population of all current UBC students, and suppose we were interested in the mean number of **full** years that they have been studying at UBC. Assume we had the following sample of size 35 from the population named `ubc_sample`:"
   ]
  },
  {
   "cell_type": "code",
   "execution_count": 16,
   "metadata": {
    "deletable": false,
    "editable": false,
    "nbgrader": {
     "cell_type": "code",
     "checksum": "d14cdb0ff78b73b6fd68a60939a79dfa",
     "grade": false,
     "grade_id": "cell-88a0a3192fae352b",
     "locked": true,
     "schema_version": 3,
     "solution": false,
     "task": false
    }
   },
   "outputs": [
    {
     "data": {
      "text/html": [
       "<table>\n",
       "<caption>A tibble: 6 × 1</caption>\n",
       "<thead>\n",
       "\t<tr><th scope=col>full_years</th></tr>\n",
       "\t<tr><th scope=col>&lt;dbl&gt;</th></tr>\n",
       "</thead>\n",
       "<tbody>\n",
       "\t<tr><td>0</td></tr>\n",
       "\t<tr><td>1</td></tr>\n",
       "\t<tr><td>4</td></tr>\n",
       "\t<tr><td>0</td></tr>\n",
       "\t<tr><td>4</td></tr>\n",
       "\t<tr><td>5</td></tr>\n",
       "</tbody>\n",
       "</table>\n"
      ],
      "text/latex": [
       "A tibble: 6 × 1\n",
       "\\begin{tabular}{l}\n",
       " full\\_years\\\\\n",
       " <dbl>\\\\\n",
       "\\hline\n",
       "\t 0\\\\\n",
       "\t 1\\\\\n",
       "\t 4\\\\\n",
       "\t 0\\\\\n",
       "\t 4\\\\\n",
       "\t 5\\\\\n",
       "\\end{tabular}\n"
      ],
      "text/markdown": [
       "\n",
       "A tibble: 6 × 1\n",
       "\n",
       "| full_years &lt;dbl&gt; |\n",
       "|---|\n",
       "| 0 |\n",
       "| 1 |\n",
       "| 4 |\n",
       "| 0 |\n",
       "| 4 |\n",
       "| 5 |\n",
       "\n"
      ],
      "text/plain": [
       "  full_years\n",
       "1 0         \n",
       "2 1         \n",
       "3 4         \n",
       "4 0         \n",
       "5 4         \n",
       "6 5         "
      ]
     },
     "metadata": {},
     "output_type": "display_data"
    },
    {
     "data": {
      "text/html": [
       "35"
      ],
      "text/latex": [
       "35"
      ],
      "text/markdown": [
       "35"
      ],
      "text/plain": [
       "[1] 35"
      ]
     },
     "metadata": {},
     "output_type": "display_data"
    }
   ],
   "source": [
    "# Run this cell before continuing.\n",
    "source(\"section_3.R\") # Runs code to produce the sample.\n",
    "head(ubc_sample)\n",
    "nrow(ubc_sample)"
   ]
  },
  {
   "cell_type": "markdown",
   "metadata": {
    "deletable": false,
    "editable": false,
    "nbgrader": {
     "cell_type": "markdown",
     "checksum": "8a8cf635a38be44f2901addce4802b7d",
     "grade": false,
     "grade_id": "cell-fc10e0e5c79ee757",
     "locked": true,
     "schema_version": 3,
     "solution": false,
     "task": false
    }
   },
   "source": [
    "**Question 3.0**\n",
    "<br> {points: 1}\n",
    "\n",
    "Take a single bootstrap sample from `ubc_sample` using `rep_sample_n` with a seed of 0242. The resulting data frame should have two columns: `replicate` and `full_years`.\n",
    "\n",
    "_Assign your data frame to an object called `bootstrap_sample`._"
   ]
  },
  {
   "cell_type": "code",
   "execution_count": 17,
   "metadata": {
    "deletable": false,
    "nbgrader": {
     "cell_type": "code",
     "checksum": "f214b5c5350112dff4169d55358ee62f",
     "grade": false,
     "grade_id": "cell-f4bcf34fa7f83066",
     "locked": false,
     "schema_version": 3,
     "solution": true,
     "task": false
    }
   },
   "outputs": [
    {
     "data": {
      "text/html": [
       "<table>\n",
       "<caption>A grouped_df: 6 × 2</caption>\n",
       "<thead>\n",
       "\t<tr><th scope=col>replicate</th><th scope=col>full_years</th></tr>\n",
       "\t<tr><th scope=col>&lt;int&gt;</th><th scope=col>&lt;dbl&gt;</th></tr>\n",
       "</thead>\n",
       "<tbody>\n",
       "\t<tr><td>1</td><td>4</td></tr>\n",
       "\t<tr><td>1</td><td>3</td></tr>\n",
       "\t<tr><td>1</td><td>4</td></tr>\n",
       "\t<tr><td>1</td><td>3</td></tr>\n",
       "\t<tr><td>1</td><td>0</td></tr>\n",
       "\t<tr><td>1</td><td>4</td></tr>\n",
       "</tbody>\n",
       "</table>\n"
      ],
      "text/latex": [
       "A grouped\\_df: 6 × 2\n",
       "\\begin{tabular}{ll}\n",
       " replicate & full\\_years\\\\\n",
       " <int> & <dbl>\\\\\n",
       "\\hline\n",
       "\t 1 & 4\\\\\n",
       "\t 1 & 3\\\\\n",
       "\t 1 & 4\\\\\n",
       "\t 1 & 3\\\\\n",
       "\t 1 & 0\\\\\n",
       "\t 1 & 4\\\\\n",
       "\\end{tabular}\n"
      ],
      "text/markdown": [
       "\n",
       "A grouped_df: 6 × 2\n",
       "\n",
       "| replicate &lt;int&gt; | full_years &lt;dbl&gt; |\n",
       "|---|---|\n",
       "| 1 | 4 |\n",
       "| 1 | 3 |\n",
       "| 1 | 4 |\n",
       "| 1 | 3 |\n",
       "| 1 | 0 |\n",
       "| 1 | 4 |\n",
       "\n"
      ],
      "text/plain": [
       "  replicate full_years\n",
       "1 1         4         \n",
       "2 1         3         \n",
       "3 1         4         \n",
       "4 1         3         \n",
       "5 1         0         \n",
       "6 1         4         "
      ]
     },
     "metadata": {},
     "output_type": "display_data"
    }
   ],
   "source": [
    "set.seed(0242) # DO NOT CHANGE!\n",
    "\n",
    "# bootstrap_sample <- ... %>% \n",
    "#     rep_sample_n(size = ..., replace = ...)\n",
    "\n",
    "# your code here\n",
    "bootstrap_sample <- ubc_sample %>%\n",
    "    rep_sample_n(size=35, replace=TRUE)\n",
    "\n",
    "head(bootstrap_sample)"
   ]
  },
  {
   "cell_type": "code",
   "execution_count": 18,
   "metadata": {
    "deletable": false,
    "editable": false,
    "nbgrader": {
     "cell_type": "code",
     "checksum": "b4dc83238133562d93a056382c82967d",
     "grade": true,
     "grade_id": "cell-79158cb203e2a650",
     "locked": true,
     "points": 1,
     "schema_version": 3,
     "solution": false,
     "task": false
    }
   },
   "outputs": [
    {
     "name": "stdout",
     "output_type": "stream",
     "text": [
      "[1] \"Success!\"\n"
     ]
    }
   ],
   "source": [
    "test_3.0()"
   ]
  },
  {
   "cell_type": "markdown",
   "metadata": {
    "deletable": false,
    "editable": false,
    "nbgrader": {
     "cell_type": "markdown",
     "checksum": "f9e11a47bbcd76cd58d1fb07b276a599",
     "grade": false,
     "grade_id": "cell-b8690eaec88d238e",
     "locked": true,
     "schema_version": 3,
     "solution": false,
     "task": false
    }
   },
   "source": [
    "**Question 3.1** \n",
    "<br> {points: 1}\n",
    "\n",
    "Calculate the mean of the sample (`ubc_sample`).\n",
    "\n",
    "_Assign your answer to an object called `ubc_sample_mean`. Your answer should be a single number._"
   ]
  },
  {
   "cell_type": "code",
   "execution_count": 19,
   "metadata": {
    "deletable": false,
    "nbgrader": {
     "cell_type": "code",
     "checksum": "cc3ce514b9ffebb16f5acd81f7be293a",
     "grade": false,
     "grade_id": "cell-a955e4165977b263",
     "locked": false,
     "schema_version": 3,
     "solution": true,
     "task": false
    }
   },
   "outputs": [
    {
     "data": {
      "text/html": [
       "2.37142857142857"
      ],
      "text/latex": [
       "2.37142857142857"
      ],
      "text/markdown": [
       "2.37142857142857"
      ],
      "text/plain": [
       "[1] 2.371429"
      ]
     },
     "metadata": {},
     "output_type": "display_data"
    }
   ],
   "source": [
    "# your code here\n",
    "ubc_sample_mean <- mean(ubc_sample$full_years)\n",
    "\n",
    "ubc_sample_mean"
   ]
  },
  {
   "cell_type": "code",
   "execution_count": 20,
   "metadata": {
    "deletable": false,
    "editable": false,
    "nbgrader": {
     "cell_type": "code",
     "checksum": "c8d54cae12388dfb03078367a99aff7d",
     "grade": true,
     "grade_id": "cell-9f921dd2e40bf012",
     "locked": true,
     "points": 1,
     "schema_version": 3,
     "solution": false,
     "task": false
    }
   },
   "outputs": [
    {
     "name": "stdout",
     "output_type": "stream",
     "text": [
      "[1] \"Success!\"\n"
     ]
    }
   ],
   "source": [
    "test_3.1()"
   ]
  },
  {
   "cell_type": "markdown",
   "metadata": {
    "deletable": false,
    "editable": false,
    "nbgrader": {
     "cell_type": "markdown",
     "checksum": "9fcc4194ddd2e1d5cb779e6c6b295af7",
     "grade": false,
     "grade_id": "cell-8a25972eddd20fcf",
     "locked": true,
     "schema_version": 3,
     "solution": false,
     "task": false
    }
   },
   "source": [
    "**Question 3.2** \n",
    "<br> {points: 1}\n",
    "\n",
    "Calculate the mean of the bootstrap sample that you took in **question 3.0** (`bootstrap_sample`).\n",
    "\n",
    "_Assign your answer to an object called `bootstrap_sample_mean`. Your answer should be a single number._"
   ]
  },
  {
   "cell_type": "code",
   "execution_count": 23,
   "metadata": {
    "deletable": false,
    "nbgrader": {
     "cell_type": "code",
     "checksum": "40ad6c4c1dee67b2b9510c7d7f002d64",
     "grade": false,
     "grade_id": "cell-33cecf1485afe722",
     "locked": false,
     "schema_version": 3,
     "solution": true,
     "task": false
    }
   },
   "outputs": [
    {
     "data": {
      "text/html": [
       "2.14285714285714"
      ],
      "text/latex": [
       "2.14285714285714"
      ],
      "text/markdown": [
       "2.14285714285714"
      ],
      "text/plain": [
       "[1] 2.142857"
      ]
     },
     "metadata": {},
     "output_type": "display_data"
    }
   ],
   "source": [
    "# your code here\n",
    "bootstrap_sample_mean <- mean(bootstrap_sample$full_years)\n",
    "\n",
    "\n",
    "bootstrap_sample_mean"
   ]
  },
  {
   "cell_type": "code",
   "execution_count": 24,
   "metadata": {
    "deletable": false,
    "editable": false,
    "nbgrader": {
     "cell_type": "code",
     "checksum": "aa3cd6f8ff2a48b518dba2512b0b6b5d",
     "grade": true,
     "grade_id": "cell-a46af22ef1b12f46",
     "locked": true,
     "points": 1,
     "schema_version": 3,
     "solution": false,
     "task": false
    }
   },
   "outputs": [
    {
     "name": "stdout",
     "output_type": "stream",
     "text": [
      "[1] \"Success!\"\n"
     ]
    }
   ],
   "source": [
    "test_3.2()"
   ]
  },
  {
   "cell_type": "markdown",
   "metadata": {
    "deletable": false,
    "editable": false,
    "nbgrader": {
     "cell_type": "markdown",
     "checksum": "1e882d99420422b1cc79f8452bd0a6de",
     "grade": false,
     "grade_id": "cell-1b210e15af6de543",
     "locked": true,
     "schema_version": 3,
     "solution": false,
     "task": false
    }
   },
   "source": [
    "**Question 3.3**\n",
    "<br> {points: 1}\n",
    "\n",
    "True or false?\n",
    "\n",
    "The mean of the bootstrap sample is different than the original sample because we sampled **with replacement** from the original sample.\n",
    "\n",
    "_Assign your answer to an object called `answer3.3`. Your answer should be either \"true\" or \"false\", surrounded by quotes._"
   ]
  },
  {
   "cell_type": "code",
   "execution_count": 25,
   "metadata": {
    "deletable": false,
    "nbgrader": {
     "cell_type": "code",
     "checksum": "498f4ea04b65e2a1353401438c632a5b",
     "grade": false,
     "grade_id": "cell-b20cbe04061d9bfb",
     "locked": false,
     "schema_version": 3,
     "solution": true,
     "task": false
    }
   },
   "outputs": [],
   "source": [
    "# answer3.3 <- ...\n",
    "\n",
    "# your code here\n",
    "answer3.3 <-\"true\""
   ]
  },
  {
   "cell_type": "code",
   "execution_count": 26,
   "metadata": {
    "deletable": false,
    "editable": false,
    "nbgrader": {
     "cell_type": "code",
     "checksum": "96693a976429b40e15f92597ae85b371",
     "grade": true,
     "grade_id": "cell-3616eec8b17904be",
     "locked": true,
     "points": 1,
     "schema_version": 3,
     "solution": false,
     "task": false
    }
   },
   "outputs": [
    {
     "name": "stdout",
     "output_type": "stream",
     "text": [
      "[1] \"Success!\"\n"
     ]
    }
   ],
   "source": [
    "test_3.3()"
   ]
  },
  {
   "cell_type": "markdown",
   "metadata": {
    "deletable": false,
    "editable": false,
    "nbgrader": {
     "cell_type": "markdown",
     "checksum": "81db23884bb7667dc2012b47ac62d960",
     "grade": false,
     "grade_id": "cell-af13c58c5dd4a8e0",
     "locked": true,
     "schema_version": 3,
     "solution": false,
     "task": false
    }
   },
   "source": [
    "**Question 3.4**\n",
    "<br> {points: 1}\n",
    "\n",
    "Plot the bootstrap sample you just took by filling in the scaffolding below to create a histogram with bin widths of 1.\n",
    "\n",
    "**Notes:**\n",
    "- The `colour = \"white\"` argument in `geom_histogram` adds outlines to the histogram bars.\n",
    "- The `scale_x_continuous` layer modifies the x-axis scale to make it more readable.\n",
    "\n",
    "_Assign your plot to an object called `bootstrap_sample_dist`._"
   ]
  },
  {
   "cell_type": "code",
   "execution_count": 27,
   "metadata": {
    "deletable": false,
    "nbgrader": {
     "cell_type": "code",
     "checksum": "b446434c118aeee3915d1ae435a83f89",
     "grade": false,
     "grade_id": "cell-15b934fd4299ba32",
     "locked": false,
     "schema_version": 3,
     "solution": true,
     "task": false
    }
   },
   "outputs": [
    {
     "data": {
      "image/png": "[encoded data removed]",
      "text/plain": [
       "plot without title"
      ]
     },
     "metadata": {
      "image/png": {
       "height": 420,
       "width": 420
      }
     },
     "output_type": "display_data"
    }
   ],
   "source": [
    "# bootstrap_sample_dist <- ... %>% \n",
    "#     ...(aes(x = ...)) + \n",
    "#         geom_histogram(binwidth = ..., colour = \"white\") +\n",
    "#         ...(\"Bootstrap Sample Distribution\") +\n",
    "#         xlab(\"# Full Years At UBC\") + \n",
    "#         scale_x_continuous(breaks = seq(0, 10, 1), limits = c(-0.5, 10.5)) \n",
    "\n",
    "# your code here\n",
    "bootstrap_sample_dist <- bootstrap_sample %>% \n",
    "     ggplot(aes(x = full_years)) + \n",
    "         geom_histogram(binwidth = 1, colour = \"white\") +\n",
    "         ggtitle(\"Bootstrap Sample Distribution\") +\n",
    "         xlab(\"# Full Years At UBC\") + \n",
    "         scale_x_continuous(breaks = seq(0, 10, 1), limits = c(-0.5, 10.5)) \n",
    "\n",
    "\n",
    "bootstrap_sample_dist"
   ]
  },
  {
   "cell_type": "code",
   "execution_count": 28,
   "metadata": {
    "deletable": false,
    "editable": false,
    "nbgrader": {
     "cell_type": "code",
     "checksum": "a03f5988d55a328f67d53f23706ad9e4",
     "grade": true,
     "grade_id": "cell-817473b6609acfbc",
     "locked": true,
     "points": 1,
     "schema_version": 3,
     "solution": false,
     "task": false
    }
   },
   "outputs": [
    {
     "name": "stdout",
     "output_type": "stream",
     "text": [
      "[1] \"Success!\"\n"
     ]
    }
   ],
   "source": [
    "test_3.4()"
   ]
  },
  {
   "cell_type": "markdown",
   "metadata": {
    "deletable": false,
    "editable": false,
    "nbgrader": {
     "cell_type": "markdown",
     "checksum": "481c182a3e79e1d6d67a38965e6bd6a1",
     "grade": false,
     "grade_id": "cell-b64797421e69d54a",
     "locked": true,
     "schema_version": 3,
     "solution": false,
     "task": false
    }
   },
   "source": [
    "In the code cell below, we have used `plot_grid` to plot the sample distribution and bootstrap distribution together.\n",
    "\n",
    "_Use the set of plots below to answer the **next question**._"
   ]
  },
  {
   "cell_type": "code",
   "execution_count": 29,
   "metadata": {
    "deletable": false,
    "editable": false,
    "nbgrader": {
     "cell_type": "code",
     "checksum": "a4403ff4afb08bca8ea2a3932af4d3cd",
     "grade": false,
     "grade_id": "cell-c259d96c4d2a6bcc",
     "locked": true,
     "schema_version": 3,
     "solution": false,
     "task": false
    }
   },
   "outputs": [
    {
     "data": {
      "image/png": "[encoded data removed]",
      "text/plain": [
       "plot without title"
      ]
     },
     "metadata": {
      "image/png": {
       "height": 420,
       "width": 420
      }
     },
     "output_type": "display_data"
    }
   ],
   "source": [
    "plot_grid(sample_dist, bootstrap_sample_dist, ncol = 1)"
   ]
  },
  {
   "cell_type": "markdown",
   "metadata": {
    "deletable": false,
    "editable": false,
    "nbgrader": {
     "cell_type": "markdown",
     "checksum": "911720cfbbe57cf16bea2fd7af4cfe13",
     "grade": false,
     "grade_id": "cell-2b75e7dead17cf81",
     "locked": true,
     "schema_version": 3,
     "solution": false,
     "task": false
    }
   },
   "source": [
    "**Question 3.5**\n",
    "<br> {points: 1}\n",
    "\n",
    "Suppose we repeated the process above, but using a different seed when we took our bootstrap sample (`bootstrap_sample`) from the original sample (`ubc_sample`).\n",
    "\n",
    "True or false?\n",
    "\n",
    "We are guaranteed that the two distributions above will be different.\n",
    "\n",
    "_Assign your answer to an object called `answer3.5`. Your answer should be either \"true\" or \"false\", surrounded by quotes._"
   ]
  },
  {
   "cell_type": "code",
   "execution_count": 30,
   "metadata": {
    "deletable": false,
    "nbgrader": {
     "cell_type": "code",
     "checksum": "a69ab9222d9fbfc01b96a8aa2124f821",
     "grade": false,
     "grade_id": "cell-26b26e8fec74b1bd",
     "locked": false,
     "schema_version": 3,
     "solution": true,
     "task": false
    }
   },
   "outputs": [],
   "source": [
    "# answer3.5 <- ...\n",
    "\n",
    "# your code here\n",
    "answer3.5<- \"false\""
   ]
  },
  {
   "cell_type": "code",
   "execution_count": 31,
   "metadata": {
    "deletable": false,
    "editable": false,
    "nbgrader": {
     "cell_type": "code",
     "checksum": "252bb0234596e3cac9b38a4a3b703735",
     "grade": true,
     "grade_id": "cell-7e74ab7f7467ea07",
     "locked": true,
     "points": 1,
     "schema_version": 3,
     "solution": false,
     "task": false
    }
   },
   "outputs": [
    {
     "name": "stdout",
     "output_type": "stream",
     "text": [
      "[1] \"Success!\"\n"
     ]
    }
   ],
   "source": [
    "test_3.5()"
   ]
  },
  {
   "cell_type": "markdown",
   "metadata": {
    "deletable": false,
    "editable": false,
    "nbgrader": {
     "cell_type": "markdown",
     "checksum": "a824dffb4b2c4ac5bba5719ec5065092",
     "grade": false,
     "grade_id": "cell-da1566194fd1cfbc",
     "locked": true,
     "schema_version": 3,
     "solution": false,
     "task": false
    }
   },
   "source": [
    "## 4. Sampling Distributions vs. Bootstrap Sampling Distributions\n",
    "\n",
    "Now that we understand that we can use **bootstrapping** to produce an **approximation** of a sampling distribution, we are going to use it to approximate the sampling distributions that we produced in `worksheet_02` and compare the two. You will produce a bootstrap sample distribution of size 10, 30, and 100 for the tax assessment values in the population of **multiple-family dwellings in strata housing** in Vancouver, we will give you their corresponding sampling distributions, and then you'll be able to compare the two types of distributions for each sample size. Let's get started!\n",
    "\n",
    "Recall our population of interest (**multiple-family dwellings in strata housing** in Vancouver) originates from the `tax_2019` data set included in the `taxyvr` R package. Again, since you have already done this is `worksheet_01`, we have done it for you in the code cell below. To filter the `tax_2019` data set for the population that we are interested in, we need the `current_land_value` of properties that meet the following critera:\n",
    "- **Have a `current_land_value` greater than \\$1:**  Some properties are assigned a value of `NA` and these are the properties undergoing big renovations. These values get ammended after the improvement and are reflected in the following year's assessment. The same occurs with homes that are asssessed at $0.\n",
    "- **Are of `legal_type` `\"STRATA\"`**\n",
    "- **Are of `zone_category` `\"Multiple Family Dwelling\"`**\n",
    "\n",
    "_If you need a refresher on the `tax_2019` data set and where it came from, please look back at `worksheet_01` and re-read the introduction of section 2 there._"
   ]
  },
  {
   "cell_type": "code",
   "execution_count": 32,
   "metadata": {
    "deletable": false,
    "editable": false,
    "nbgrader": {
     "cell_type": "code",
     "checksum": "3649e69f61d54d29252de4e2856e99b5",
     "grade": false,
     "grade_id": "cell-99cae01db68690dd",
     "locked": true,
     "schema_version": 3,
     "solution": false,
     "task": false
    }
   },
   "outputs": [
    {
     "data": {
      "text/html": [
       "<table>\n",
       "<caption>A tibble: 6 × 1</caption>\n",
       "<thead>\n",
       "\t<tr><th scope=col>current_land_value</th></tr>\n",
       "\t<tr><th scope=col>&lt;dbl&gt;</th></tr>\n",
       "</thead>\n",
       "<tbody>\n",
       "\t<tr><td>1052000</td></tr>\n",
       "\t<tr><td> 984000</td></tr>\n",
       "\t<tr><td> 984000</td></tr>\n",
       "\t<tr><td>1067000</td></tr>\n",
       "\t<tr><td> 500000</td></tr>\n",
       "\t<tr><td> 982000</td></tr>\n",
       "</tbody>\n",
       "</table>\n"
      ],
      "text/latex": [
       "A tibble: 6 × 1\n",
       "\\begin{tabular}{l}\n",
       " current\\_land\\_value\\\\\n",
       " <dbl>\\\\\n",
       "\\hline\n",
       "\t 1052000\\\\\n",
       "\t  984000\\\\\n",
       "\t  984000\\\\\n",
       "\t 1067000\\\\\n",
       "\t  500000\\\\\n",
       "\t  982000\\\\\n",
       "\\end{tabular}\n"
      ],
      "text/markdown": [
       "\n",
       "A tibble: 6 × 1\n",
       "\n",
       "| current_land_value &lt;dbl&gt; |\n",
       "|---|\n",
       "| 1052000 |\n",
       "|  984000 |\n",
       "|  984000 |\n",
       "| 1067000 |\n",
       "|  500000 |\n",
       "|  982000 |\n",
       "\n"
      ],
      "text/plain": [
       "  current_land_value\n",
       "1 1052000           \n",
       "2  984000           \n",
       "3  984000           \n",
       "4 1067000           \n",
       "5  500000           \n",
       "6  982000           "
      ]
     },
     "metadata": {},
     "output_type": "display_data"
    }
   ],
   "source": [
    "# Run this cell before continuing.\n",
    "multi_family_strata <- tax_2019 %>%  \n",
    "    filter(!is.na(current_land_value),\n",
    "           current_land_value > 1,\n",
    "           legal_type == \"STRATA\",\n",
    "           zone_category == \"Multiple Family Dwelling\") %>% \n",
    "    select(current_land_value)\n",
    "head(multi_family_strata)"
   ]
  },
  {
   "cell_type": "markdown",
   "metadata": {
    "deletable": false,
    "editable": false,
    "nbgrader": {
     "cell_type": "markdown",
     "checksum": "9e191607b86ad6a63a39194b7543b554",
     "grade": false,
     "grade_id": "cell-2924b562681fb65f",
     "locked": true,
     "schema_version": 3,
     "solution": false,
     "task": false
    }
   },
   "source": [
    "**Question 4.0** \n",
    "<br> {points: 1}\n",
    "\n",
    "Imagine you only have the resources to take a single random sample of size 10 from the population of interest. Use `rep_sample_n` with a seed of 2485 to take a single sample of size 10 from `multi_family_strata`. Select only the `current_land_value` column so your data frame has a single column.\n",
    "\n",
    "**Note:** we use `ungroup()` here because `rep_sample_n` returns a data frame that is grouped by `replicate`, but we want an ungrouped data frame so we can select `current_land_value` by itself! If you are curious, try commenting out the `ungroup() %>%` line to see why.\n",
    "\n",
    "_Assign your data frame to an object called `sample_10`._"
   ]
  },
  {
   "cell_type": "code",
   "execution_count": 33,
   "metadata": {
    "deletable": false,
    "nbgrader": {
     "cell_type": "code",
     "checksum": "949f1aa51d25c9b452f4d08485b8c3ea",
     "grade": false,
     "grade_id": "cell-83a392262f6ac62b",
     "locked": false,
     "schema_version": 3,
     "solution": true,
     "task": false
    }
   },
   "outputs": [
    {
     "data": {
      "text/html": [
       "<table>\n",
       "<caption>A tibble: 10 × 1</caption>\n",
       "<thead>\n",
       "\t<tr><th scope=col>current_land_value</th></tr>\n",
       "\t<tr><th scope=col>&lt;dbl&gt;</th></tr>\n",
       "</thead>\n",
       "<tbody>\n",
       "\t<tr><td> 499000</td></tr>\n",
       "\t<tr><td> 331000</td></tr>\n",
       "\t<tr><td> 294000</td></tr>\n",
       "\t<tr><td> 559000</td></tr>\n",
       "\t<tr><td> 948000</td></tr>\n",
       "\t<tr><td>1208000</td></tr>\n",
       "\t<tr><td> 648000</td></tr>\n",
       "\t<tr><td> 486000</td></tr>\n",
       "\t<tr><td> 689000</td></tr>\n",
       "\t<tr><td>1850000</td></tr>\n",
       "</tbody>\n",
       "</table>\n"
      ],
      "text/latex": [
       "A tibble: 10 × 1\n",
       "\\begin{tabular}{l}\n",
       " current\\_land\\_value\\\\\n",
       " <dbl>\\\\\n",
       "\\hline\n",
       "\t  499000\\\\\n",
       "\t  331000\\\\\n",
       "\t  294000\\\\\n",
       "\t  559000\\\\\n",
       "\t  948000\\\\\n",
       "\t 1208000\\\\\n",
       "\t  648000\\\\\n",
       "\t  486000\\\\\n",
       "\t  689000\\\\\n",
       "\t 1850000\\\\\n",
       "\\end{tabular}\n"
      ],
      "text/markdown": [
       "\n",
       "A tibble: 10 × 1\n",
       "\n",
       "| current_land_value &lt;dbl&gt; |\n",
       "|---|\n",
       "|  499000 |\n",
       "|  331000 |\n",
       "|  294000 |\n",
       "|  559000 |\n",
       "|  948000 |\n",
       "| 1208000 |\n",
       "|  648000 |\n",
       "|  486000 |\n",
       "|  689000 |\n",
       "| 1850000 |\n",
       "\n"
      ],
      "text/plain": [
       "   current_land_value\n",
       "1   499000           \n",
       "2   331000           \n",
       "3   294000           \n",
       "4   559000           \n",
       "5   948000           \n",
       "6  1208000           \n",
       "7   648000           \n",
       "8   486000           \n",
       "9   689000           \n",
       "10 1850000           "
      ]
     },
     "metadata": {},
     "output_type": "display_data"
    }
   ],
   "source": [
    "set.seed(2485) # DO NOT CHANGE!\n",
    "\n",
    "# sample_10 <- multi_family_strata %>% \n",
    "#     rep_sample_n(size = ..., replace = ...) %>%\n",
    "#     ungroup() %>% \n",
    "#     ...(...)\n",
    "\n",
    "# your code here\n",
    "sample_10 <- multi_family_strata %>% \n",
    "     rep_sample_n(size = 10, replace = TRUE) %>%\n",
    "     ungroup() %>% \n",
    "     select(current_land_value)\n",
    "\n",
    "\n",
    "sample_10"
   ]
  },
  {
   "cell_type": "code",
   "execution_count": 34,
   "metadata": {
    "deletable": false,
    "editable": false,
    "nbgrader": {
     "cell_type": "code",
     "checksum": "c2b0d03051ab69a08601ecea6b621ddb",
     "grade": true,
     "grade_id": "cell-cf37e3b4dbe8561a",
     "locked": true,
     "points": 1,
     "schema_version": 3,
     "solution": false,
     "task": false
    }
   },
   "outputs": [
    {
     "name": "stdout",
     "output_type": "stream",
     "text": [
      "[1] \"Success!\"\n"
     ]
    }
   ],
   "source": [
    "test_4.0()"
   ]
  },
  {
   "cell_type": "markdown",
   "metadata": {
    "deletable": false,
    "editable": false,
    "nbgrader": {
     "cell_type": "markdown",
     "checksum": "49c1281a35f9e15af46e17a8d612c1fc",
     "grade": false,
     "grade_id": "cell-59dd69eb7fc74b9c",
     "locked": true,
     "schema_version": 3,
     "solution": false,
     "task": false
    }
   },
   "source": [
    "**Question 4.1** \n",
    "<br> {points: 1}\n",
    "\n",
    "Take 2000 bootstrap samples from the sample you just took (`sample_10`) using `rep_sample_n` and a seed of 0510. Then, calculate the mean for each bootstrap sample and name the resulting column `mean_land_value`. The resulting data frame should have two columns: `replicate` and `mean_land_value`.\n",
    "\n",
    "_Assign your data frame to an object called `resampled_means_10`._"
   ]
  },
  {
   "cell_type": "code",
   "execution_count": 35,
   "metadata": {
    "deletable": false,
    "nbgrader": {
     "cell_type": "code",
     "checksum": "36cc4b7fe0ed21a1e3c2a1760b6f4d78",
     "grade": false,
     "grade_id": "cell-e1bdb3abbcdf5c99",
     "locked": false,
     "schema_version": 3,
     "solution": true,
     "task": false
    }
   },
   "outputs": [
    {
     "name": "stderr",
     "output_type": "stream",
     "text": [
      "`summarise()` ungrouping output (override with `.groups` argument)\n",
      "\n"
     ]
    },
    {
     "data": {
      "text/html": [
       "<table>\n",
       "<caption>A tibble: 6 × 2</caption>\n",
       "<thead>\n",
       "\t<tr><th scope=col>replicate</th><th scope=col>mean_land_value</th></tr>\n",
       "\t<tr><th scope=col>&lt;int&gt;</th><th scope=col>&lt;dbl&gt;</th></tr>\n",
       "</thead>\n",
       "<tbody>\n",
       "\t<tr><td>1</td><td>684500</td></tr>\n",
       "\t<tr><td>2</td><td>867100</td></tr>\n",
       "\t<tr><td>3</td><td>558700</td></tr>\n",
       "\t<tr><td>4</td><td>725500</td></tr>\n",
       "\t<tr><td>5</td><td>669600</td></tr>\n",
       "\t<tr><td>6</td><td>951700</td></tr>\n",
       "</tbody>\n",
       "</table>\n"
      ],
      "text/latex": [
       "A tibble: 6 × 2\n",
       "\\begin{tabular}{ll}\n",
       " replicate & mean\\_land\\_value\\\\\n",
       " <int> & <dbl>\\\\\n",
       "\\hline\n",
       "\t 1 & 684500\\\\\n",
       "\t 2 & 867100\\\\\n",
       "\t 3 & 558700\\\\\n",
       "\t 4 & 725500\\\\\n",
       "\t 5 & 669600\\\\\n",
       "\t 6 & 951700\\\\\n",
       "\\end{tabular}\n"
      ],
      "text/markdown": [
       "\n",
       "A tibble: 6 × 2\n",
       "\n",
       "| replicate &lt;int&gt; | mean_land_value &lt;dbl&gt; |\n",
       "|---|---|\n",
       "| 1 | 684500 |\n",
       "| 2 | 867100 |\n",
       "| 3 | 558700 |\n",
       "| 4 | 725500 |\n",
       "| 5 | 669600 |\n",
       "| 6 | 951700 |\n",
       "\n"
      ],
      "text/plain": [
       "  replicate mean_land_value\n",
       "1 1         684500         \n",
       "2 2         867100         \n",
       "3 3         558700         \n",
       "4 4         725500         \n",
       "5 5         669600         \n",
       "6 6         951700         "
      ]
     },
     "metadata": {},
     "output_type": "display_data"
    }
   ],
   "source": [
    "set.seed(0510) # DO NOT CHANGE!\n",
    "\n",
    "# resampled_means_10 <- sample_10 %>% \n",
    "#     rep_sample_n(size = ..., reps = ..., replace = ...) %>% \n",
    "#     group_by(...) %>% \n",
    "#     summarise(mean_land_value = ...(...))\n",
    "\n",
    "# your code here\n",
    "resampled_means_10 <- sample_10 %>% \n",
    "     rep_sample_n(size = 10, reps = 2000, replace = TRUE) %>% \n",
    "     group_by(replicate) %>% \n",
    "     summarise(mean_land_value = mean(current_land_value))\n",
    "\n",
    "head(resampled_means_10)"
   ]
  },
  {
   "cell_type": "code",
   "execution_count": 36,
   "metadata": {
    "deletable": false,
    "editable": false,
    "nbgrader": {
     "cell_type": "code",
     "checksum": "346bc403cee192f45e6f2a8333f5f149",
     "grade": true,
     "grade_id": "cell-02812ebacc5a610e",
     "locked": true,
     "points": 1,
     "schema_version": 3,
     "solution": false,
     "task": false
    }
   },
   "outputs": [
    {
     "name": "stdout",
     "output_type": "stream",
     "text": [
      "[1] \"Success!\"\n"
     ]
    }
   ],
   "source": [
    "test_4.1()"
   ]
  },
  {
   "cell_type": "markdown",
   "metadata": {
    "deletable": false,
    "editable": false,
    "nbgrader": {
     "cell_type": "markdown",
     "checksum": "9d8a1e43e9b2b544e6b04537469b9e38",
     "grade": false,
     "grade_id": "cell-7d2e4bca670a3bdf",
     "locked": true,
     "schema_version": 3,
     "solution": false,
     "task": false
    }
   },
   "source": [
    "**Question 4.2** \n",
    "<br> {points: 1}\n",
    "\n",
    "Visualize the distribution of the sample means (the `mean_land_value` variable in `resampled_means_10`) by plotting a histogram using `geom_histogram` with the argument `binwidth = 15000`. Add a title of \"n = 10\" to the plot using `ggtitle` and ensure that the x-axis has a human-readable label.\n",
    "\n",
    "_Assign your plot to an object called `bootstrap_dist_10`._"
   ]
  },
  {
   "cell_type": "code",
   "execution_count": 37,
   "metadata": {
    "deletable": false,
    "nbgrader": {
     "cell_type": "code",
     "checksum": "b96c162e48e4f585b0eba1f6e528adf1",
     "grade": false,
     "grade_id": "cell-e192cfc3e979b2de",
     "locked": false,
     "schema_version": 3,
     "solution": true,
     "task": false
    }
   },
   "outputs": [
    {
     "data": {
      "image/png": "[encoded data removed]",
      "text/plain": [
       "plot without title"
      ]
     },
     "metadata": {
      "image/png": {
       "height": 420,
       "width": 420
      }
     },
     "output_type": "display_data"
    }
   ],
   "source": [
    "# bootstrap_dist_10 <- ... %>% \n",
    "#     ggplot(aes(x = ...)) +\n",
    "#     ...(... = ...) +\n",
    "#     xlab(\"Mean Land Value (CAD)\") +\n",
    "#     ...(\"n = 10\")\n",
    "\n",
    "# your code here\n",
    "bootstrap_dist_10 <- resampled_means_10 %>% \n",
    "    ggplot(aes(x = mean_land_value)) +\n",
    "    geom_histogram(binwidth=15000) +\n",
    "    xlab(\"Mean Land Value (CAD)\") +\n",
    "    ggtitle(\"n = 10\")\n",
    "\n",
    "bootstrap_dist_10"
   ]
  },
  {
   "cell_type": "code",
   "execution_count": 38,
   "metadata": {
    "deletable": false,
    "editable": false,
    "nbgrader": {
     "cell_type": "code",
     "checksum": "14b80a4842fad51c935b10924cf4c80e",
     "grade": true,
     "grade_id": "cell-3015035368ebbfa5",
     "locked": true,
     "points": 1,
     "schema_version": 3,
     "solution": false,
     "task": false
    }
   },
   "outputs": [
    {
     "name": "stdout",
     "output_type": "stream",
     "text": [
      "[1] \"Success!\"\n"
     ]
    }
   ],
   "source": [
    "test_4.2()"
   ]
  },
  {
   "cell_type": "markdown",
   "metadata": {
    "deletable": false,
    "editable": false,
    "nbgrader": {
     "cell_type": "markdown",
     "checksum": "b795545cf15831b0f00a3c6e737d0560",
     "grade": false,
     "grade_id": "cell-e7bd16fe8aea02c8",
     "locked": true,
     "schema_version": 3,
     "solution": false,
     "task": false
    }
   },
   "source": [
    "**Question 4.3** \n",
    "<br> {points: 1}\n",
    "\n",
    "True or false?\n",
    "\n",
    "In order to produce the distribution above, we had to sample with replacement from the population many times.\n",
    "\n",
    "_Assign your answer to an object called `answer4.3`. Your answer should be either \"true\" or \"false\", surrounded by quotes._"
   ]
  },
  {
   "cell_type": "code",
   "execution_count": 39,
   "metadata": {
    "deletable": false,
    "nbgrader": {
     "cell_type": "code",
     "checksum": "ca8a114e086de3938fa25a3170f33a0b",
     "grade": false,
     "grade_id": "cell-e034e1d8b3ac69cc",
     "locked": false,
     "schema_version": 3,
     "solution": true,
     "task": false
    }
   },
   "outputs": [],
   "source": [
    "# answer4.3 <- ...\n",
    "\n",
    "# your code here\n",
    "answer4.3 <- \"false\""
   ]
  },
  {
   "cell_type": "code",
   "execution_count": 40,
   "metadata": {
    "deletable": false,
    "editable": false,
    "nbgrader": {
     "cell_type": "code",
     "checksum": "8487c36668fea112156c2f5f15cc1509",
     "grade": true,
     "grade_id": "cell-689ca07402031a13",
     "locked": true,
     "points": 1,
     "schema_version": 3,
     "solution": false,
     "task": false
    }
   },
   "outputs": [
    {
     "name": "stdout",
     "output_type": "stream",
     "text": [
      "[1] \"Success!\"\n"
     ]
    }
   ],
   "source": [
    "test_4.3()"
   ]
  },
  {
   "cell_type": "markdown",
   "metadata": {
    "deletable": false,
    "editable": false,
    "nbgrader": {
     "cell_type": "markdown",
     "checksum": "566dc4db2fa4962b2987bf13710a1ffc",
     "grade": false,
     "grade_id": "cell-a05dbc9672af2e83",
     "locked": true,
     "schema_version": 3,
     "solution": false,
     "task": false
    }
   },
   "source": [
    "**Question 4.4** \n",
    "<br> {points: 1}\n",
    "\n",
    "Imagine you only have the resources to take a single random sample of size 30 from the population of interest. Use `rep_sample_n` with a seed of 0494 to take a single sample of size 30 from `multi_family_strata`. Select only the `current_land_value` column so your data frame has a single column.\n",
    "\n",
    "_Assign your data frame to an object called `sample_30`._"
   ]
  },
  {
   "cell_type": "code",
   "execution_count": 41,
   "metadata": {
    "deletable": false,
    "nbgrader": {
     "cell_type": "code",
     "checksum": "51ce3755fe2d4c3c7b9cd615d668a982",
     "grade": false,
     "grade_id": "cell-b225d2da00c136f1",
     "locked": false,
     "schema_version": 3,
     "solution": true,
     "task": false
    }
   },
   "outputs": [
    {
     "data": {
      "text/html": [
       "<table>\n",
       "<caption>A tibble: 6 × 1</caption>\n",
       "<thead>\n",
       "\t<tr><th scope=col>current_land_value</th></tr>\n",
       "\t<tr><th scope=col>&lt;dbl&gt;</th></tr>\n",
       "</thead>\n",
       "<tbody>\n",
       "\t<tr><td>1339000</td></tr>\n",
       "\t<tr><td> 275000</td></tr>\n",
       "\t<tr><td> 879000</td></tr>\n",
       "\t<tr><td> 419000</td></tr>\n",
       "\t<tr><td> 480000</td></tr>\n",
       "\t<tr><td>1300000</td></tr>\n",
       "</tbody>\n",
       "</table>\n"
      ],
      "text/latex": [
       "A tibble: 6 × 1\n",
       "\\begin{tabular}{l}\n",
       " current\\_land\\_value\\\\\n",
       " <dbl>\\\\\n",
       "\\hline\n",
       "\t 1339000\\\\\n",
       "\t  275000\\\\\n",
       "\t  879000\\\\\n",
       "\t  419000\\\\\n",
       "\t  480000\\\\\n",
       "\t 1300000\\\\\n",
       "\\end{tabular}\n"
      ],
      "text/markdown": [
       "\n",
       "A tibble: 6 × 1\n",
       "\n",
       "| current_land_value &lt;dbl&gt; |\n",
       "|---|\n",
       "| 1339000 |\n",
       "|  275000 |\n",
       "|  879000 |\n",
       "|  419000 |\n",
       "|  480000 |\n",
       "| 1300000 |\n",
       "\n"
      ],
      "text/plain": [
       "  current_land_value\n",
       "1 1339000           \n",
       "2  275000           \n",
       "3  879000           \n",
       "4  419000           \n",
       "5  480000           \n",
       "6 1300000           "
      ]
     },
     "metadata": {},
     "output_type": "display_data"
    }
   ],
   "source": [
    "set.seed(8183) # DO NOT CHANGE!\n",
    "\n",
    "# sample_30 <- multi_family_strata %>% \n",
    "#     rep_sample_n(size = ..., replace = ...) %>%\n",
    "#     ungroup() %>% \n",
    "#     ...(...)\n",
    "\n",
    "# your code here\n",
    "sample_30 <- multi_family_strata %>% \n",
    "     rep_sample_n(size = 30, replace = TRUE) %>%\n",
    "     ungroup() %>% \n",
    "     select(current_land_value)\n",
    "\n",
    "\n",
    "head(sample_30)"
   ]
  },
  {
   "cell_type": "code",
   "execution_count": 42,
   "metadata": {
    "deletable": false,
    "editable": false,
    "nbgrader": {
     "cell_type": "code",
     "checksum": "1ac976c768fb2e13db61aac7b2a6f682",
     "grade": true,
     "grade_id": "cell-5e16848f066c67f3",
     "locked": true,
     "points": 1,
     "schema_version": 3,
     "solution": false,
     "task": false
    }
   },
   "outputs": [
    {
     "name": "stdout",
     "output_type": "stream",
     "text": [
      "[1] \"Success!\"\n"
     ]
    }
   ],
   "source": [
    "test_4.4()"
   ]
  },
  {
   "cell_type": "markdown",
   "metadata": {
    "deletable": false,
    "editable": false,
    "nbgrader": {
     "cell_type": "markdown",
     "checksum": "80694ddc98e7f8f18d8d6cea99d71ec9",
     "grade": false,
     "grade_id": "cell-0f542f85b72df1e9",
     "locked": true,
     "schema_version": 3,
     "solution": false,
     "task": false
    }
   },
   "source": [
    "**Question 4.5** \n",
    "<br> {points: 1}\n",
    "\n",
    "Using the same strategy as you did above, take 2000 bootstrap samples from the sample you just took (`sample_30`), but this time use the seed 7032. Then, calculate the mean for each sample (name the new column `mean_land_value`). Lastly, visualize the distribution of the sample means you just calculated by plotting a histogram using `geom_histogram` with the argument `binwidth = 15000`. Add a title of \"n = 30\" to the plot using `ggtitle` and ensure that the x-axis has a human-readable label.\n",
    "\n",
    "_Assign your plot to an object called `bootstrap_dist_30`._"
   ]
  },
  {
   "cell_type": "code",
   "execution_count": 43,
   "metadata": {
    "deletable": false,
    "nbgrader": {
     "cell_type": "code",
     "checksum": "afece0d6f0e0e0e6240bd6f1cf65ea97",
     "grade": false,
     "grade_id": "cell-4153c51957605ac6",
     "locked": false,
     "schema_version": 3,
     "solution": true,
     "task": false
    }
   },
   "outputs": [
    {
     "name": "stderr",
     "output_type": "stream",
     "text": [
      "`summarise()` ungrouping output (override with `.groups` argument)\n",
      "\n"
     ]
    },
    {
     "data": {
      "image/png": "[encoded data removed]",
      "text/plain": [
       "plot without title"
      ]
     },
     "metadata": {
      "image/png": {
       "height": 420,
       "width": 420
      }
     },
     "output_type": "display_data"
    }
   ],
   "source": [
    "set.seed(7032) # DO NOT CHANGE!\n",
    "\n",
    "# your code here\n",
    "bootstrap_dist_30 <- \n",
    "    sample_30 %>%\n",
    "    rep_sample_n(size=30, reps= 2000, replace=TRUE) %>%\n",
    "    group_by(replicate) %>%\n",
    "    summarize(mean_land_value = mean(current_land_value)) %>%\n",
    "    ggplot(aes(x=mean_land_value)) +\n",
    "    geom_histogram(binwidth=15000) +\n",
    "    ggtitle(\"n=30\") +\n",
    "    xlab(\"Mean land value\")\n",
    "bootstrap_dist_30"
   ]
  },
  {
   "cell_type": "code",
   "execution_count": 44,
   "metadata": {
    "deletable": false,
    "editable": false,
    "nbgrader": {
     "cell_type": "code",
     "checksum": "bd33c6640fb1aa2f928d1917cdcf1279",
     "grade": true,
     "grade_id": "cell-ae86fbe13570d25d",
     "locked": true,
     "points": 1,
     "schema_version": 3,
     "solution": false,
     "task": false
    }
   },
   "outputs": [
    {
     "name": "stdout",
     "output_type": "stream",
     "text": [
      "[1] \"Success!\"\n"
     ]
    }
   ],
   "source": [
    "test_4.5()"
   ]
  },
  {
   "cell_type": "markdown",
   "metadata": {
    "deletable": false,
    "editable": false,
    "nbgrader": {
     "cell_type": "markdown",
     "checksum": "f5066eb786f267d0e7340ba78acd13f5",
     "grade": false,
     "grade_id": "cell-7d5754b45a9fc421",
     "locked": true,
     "schema_version": 3,
     "solution": false,
     "task": false
    }
   },
   "source": [
    "**Question 4.6** \n",
    "<br> {points: 1}\n",
    "\n",
    "Imagine you only have the resources to take a single random sample of size 100 from the population of interest. Use `rep_sample_n` with a seed of 5029 to take a single sample of size 100 from `multi_family_strata`. Select only the `current_land_value` column so your data frame has a single column.\n",
    "\n",
    "_Assign your data frame to an object called `sample_100`._"
   ]
  },
  {
   "cell_type": "code",
   "execution_count": 45,
   "metadata": {
    "deletable": false,
    "nbgrader": {
     "cell_type": "code",
     "checksum": "b981dd49c7404a9155dc8181f59e93cc",
     "grade": false,
     "grade_id": "cell-f4b5f6c9f6fd9cd3",
     "locked": false,
     "schema_version": 3,
     "solution": true,
     "task": false
    }
   },
   "outputs": [
    {
     "data": {
      "text/html": [
       "<table>\n",
       "<caption>A tibble: 6 × 1</caption>\n",
       "<thead>\n",
       "\t<tr><th scope=col>current_land_value</th></tr>\n",
       "\t<tr><th scope=col>&lt;dbl&gt;</th></tr>\n",
       "</thead>\n",
       "<tbody>\n",
       "\t<tr><td> 785000</td></tr>\n",
       "\t<tr><td> 456000</td></tr>\n",
       "\t<tr><td>1182000</td></tr>\n",
       "\t<tr><td>1338000</td></tr>\n",
       "\t<tr><td> 454000</td></tr>\n",
       "\t<tr><td>1081000</td></tr>\n",
       "</tbody>\n",
       "</table>\n"
      ],
      "text/latex": [
       "A tibble: 6 × 1\n",
       "\\begin{tabular}{l}\n",
       " current\\_land\\_value\\\\\n",
       " <dbl>\\\\\n",
       "\\hline\n",
       "\t  785000\\\\\n",
       "\t  456000\\\\\n",
       "\t 1182000\\\\\n",
       "\t 1338000\\\\\n",
       "\t  454000\\\\\n",
       "\t 1081000\\\\\n",
       "\\end{tabular}\n"
      ],
      "text/markdown": [
       "\n",
       "A tibble: 6 × 1\n",
       "\n",
       "| current_land_value &lt;dbl&gt; |\n",
       "|---|\n",
       "|  785000 |\n",
       "|  456000 |\n",
       "| 1182000 |\n",
       "| 1338000 |\n",
       "|  454000 |\n",
       "| 1081000 |\n",
       "\n"
      ],
      "text/plain": [
       "  current_land_value\n",
       "1  785000           \n",
       "2  456000           \n",
       "3 1182000           \n",
       "4 1338000           \n",
       "5  454000           \n",
       "6 1081000           "
      ]
     },
     "metadata": {},
     "output_type": "display_data"
    }
   ],
   "source": [
    "set.seed(5029) # DO NOT CHANGE!\n",
    "\n",
    "# sample_100 <- multi_family_strata %>% \n",
    "#     rep_sample_n(size = ..., replace = ...) %>%\n",
    "#     ungroup() %>% \n",
    "#     ...(...)\n",
    "\n",
    "# your code here\n",
    "sample_100 <- multi_family_strata %>% \n",
    "     rep_sample_n(size = 100, replace = TRUE) %>%\n",
    "     ungroup() %>% \n",
    "     select(current_land_value)\n",
    "\n",
    "head(sample_100)"
   ]
  },
  {
   "cell_type": "code",
   "execution_count": 46,
   "metadata": {
    "deletable": false,
    "editable": false,
    "nbgrader": {
     "cell_type": "code",
     "checksum": "baec50d95daae77ce910af9e4828c0d5",
     "grade": true,
     "grade_id": "cell-0141641c277ad8c5",
     "locked": true,
     "points": 1,
     "schema_version": 3,
     "solution": false,
     "task": false
    }
   },
   "outputs": [
    {
     "name": "stdout",
     "output_type": "stream",
     "text": [
      "[1] \"Success!\"\n"
     ]
    }
   ],
   "source": [
    "test_4.6()"
   ]
  },
  {
   "cell_type": "markdown",
   "metadata": {
    "deletable": false,
    "editable": false,
    "nbgrader": {
     "cell_type": "markdown",
     "checksum": "d5331aa79d7ba10513f8c6e2c32a2588",
     "grade": false,
     "grade_id": "cell-d92f8052dc246ca2",
     "locked": true,
     "schema_version": 3,
     "solution": false,
     "task": false
    }
   },
   "source": [
    "**Question 4.7** \n",
    "<br> {points: 1}\n",
    "\n",
    "Using the same strategy as you did above, take 2000 bootstrap samples from the sample you just took (`sample_100`), but this time use the seed 2334. Then, calculate the mean for each sample (name the new column `mean_land_value`). Lastly, visualize the distribution of the sample means you just calculated by plotting a histogram using `geom_histogram` with the argument `binwidth = 15000`. Add a title of \"n = 100\" to the plot using `ggtitle` and ensure that the x-axis has a human-readable label.\n",
    "\n",
    "_Assign your plot to an object called `bootstrap_dist_100`._"
   ]
  },
  {
   "cell_type": "code",
   "execution_count": 47,
   "metadata": {
    "deletable": false,
    "nbgrader": {
     "cell_type": "code",
     "checksum": "5d6a2971b24aa9ed3c9af725624172bf",
     "grade": false,
     "grade_id": "cell-a1d586c8ab8df866",
     "locked": false,
     "schema_version": 3,
     "solution": true,
     "task": false
    }
   },
   "outputs": [
    {
     "name": "stderr",
     "output_type": "stream",
     "text": [
      "`summarise()` ungrouping output (override with `.groups` argument)\n",
      "\n"
     ]
    },
    {
     "data": {
      "image/png": "[encoded data removed]",
      "text/plain": [
       "plot without title"
      ]
     },
     "metadata": {
      "image/png": {
       "height": 420,
       "width": 420
      }
     },
     "output_type": "display_data"
    }
   ],
   "source": [
    "set.seed(2334) # DO NOT CHANGE!\n",
    "\n",
    "# your code here\n",
    "bootstrap_dist_100 <- \n",
    "        sample_100 %>%\n",
    "        rep_sample_n(size=100, reps=2000, replace=TRUE) %>%\n",
    "        group_by(replicate)%>%\n",
    "        summarize(mean_land_value= mean(current_land_value)) %>%\n",
    "        ggplot(aes(x=mean_land_value))+\n",
    "        geom_histogram(binwidth= 15000)+\n",
    "        ggtitle(\"n = 100\")+\n",
    "        xlab(\"Mean Land value\")\n",
    "bootstrap_dist_100"
   ]
  },
  {
   "cell_type": "code",
   "execution_count": 48,
   "metadata": {
    "deletable": false,
    "editable": false,
    "nbgrader": {
     "cell_type": "code",
     "checksum": "c4d73d1d87049ca9f0048791b549c269",
     "grade": true,
     "grade_id": "cell-4b14c14a2338c9b2",
     "locked": true,
     "points": 1,
     "schema_version": 3,
     "solution": false,
     "task": false
    }
   },
   "outputs": [
    {
     "name": "stdout",
     "output_type": "stream",
     "text": [
      "[1] \"Success!\"\n"
     ]
    }
   ],
   "source": [
    "test_4.7()"
   ]
  },
  {
   "cell_type": "markdown",
   "metadata": {
    "deletable": false,
    "editable": false,
    "nbgrader": {
     "cell_type": "markdown",
     "checksum": "41ed2d9c2e7861b8f5a83af38658d4e6",
     "grade": false,
     "grade_id": "cell-f2d6ff479742e96a",
     "locked": true,
     "schema_version": 3,
     "solution": false,
     "task": false
    }
   },
   "source": [
    "In the code cell below, we have run code that generates the same sampling distributions you produced in `worksheet_02`, and displays them in a row **below** the three bootstrap distributions that you produced. We have sorted the plots by increasing order of sample size from left to right. The red vertical line shows the location of the mean for each plot.\n",
    "\n",
    "**Note**: a very small number of the sample means are not visible because we manually set bounds on the x-axis so you can compare the distributions more easily. Also, the code is inside a different file (which we ran from within this worksheet with `source`) to save some vertical space in the worksheet.\n",
    "\n",
    "_Use the set of plots below to answer the **next two questions**._"
   ]
  },
  {
   "cell_type": "code",
   "execution_count": 89,
   "metadata": {
    "deletable": false,
    "editable": false,
    "nbgrader": {
     "cell_type": "code",
     "checksum": "f918b0600d171180bcbc7c986ad31ca7",
     "grade": false,
     "grade_id": "cell-9cd9f9cad6d53153",
     "locked": true,
     "schema_version": 3,
     "solution": false,
     "task": false
    }
   },
   "outputs": [
    {
     "name": "stderr",
     "output_type": "stream",
     "text": [
      "`summarise()` ungrouping output (override with `.groups` argument)\n",
      "\n",
      "`summarise()` ungrouping output (override with `.groups` argument)\n",
      "\n",
      "`summarise()` ungrouping output (override with `.groups` argument)\n",
      "\n"
     ]
    },
    {
     "data": {
      "image/png": "[encoded data removed]",
      "text/plain": [
       "plot without title"
      ]
     },
     "metadata": {
      "image/png": {
       "height": 600,
       "width": 900
      }
     },
     "output_type": "display_data"
    }
   ],
   "source": [
    "# Run this cell before continuing.\n",
    "options(repr.plot.width = 15, repr.plot.height = 10)\n",
    "source(\"section_4.R\") # Runs code to produce the sampling distributions & arrange in grid.\n",
    "all_dist_grid"
   ]
  },
  {
   "cell_type": "markdown",
   "metadata": {
    "deletable": false,
    "editable": false,
    "nbgrader": {
     "cell_type": "markdown",
     "checksum": "4a353c7faf48cc890b02ed6c233533a4",
     "grade": false,
     "grade_id": "cell-6c4a90e25b93fd69",
     "locked": true,
     "schema_version": 3,
     "solution": false,
     "task": false
    }
   },
   "source": [
    "**Question 4.8**\n",
    "<br> {points: 1}\n",
    "\n",
    "Considering the set of plots above, which statement below **is not** correct:\n",
    "\n",
    "A. The centre of the sampling distribution and bootstrap distributions with the same sample size are different.\n",
    "\n",
    "B. The width of the sampling distribution and bootstrap distributions with the same sample size are different.\n",
    "\n",
    "C. For both the sampling distributions and bootstrap distributions, as the sample size increase, the standard deviation decreases.\n",
    "\n",
    "D. For both the sampling distributions and bootstrap distributions, as the sample size increase, the distributions appear more bell-shaped.\n",
    "\n",
    "E. The sampling distribution and bootstrap distribution are just as different from each other, no matter the sample size.\n",
    "\n",
    "_Assign your answer to an object called `answer4.8`. Your answer should be a single character surrounded by quotes._"
   ]
  },
  {
   "cell_type": "code",
   "execution_count": 98,
   "metadata": {
    "deletable": false,
    "nbgrader": {
     "cell_type": "code",
     "checksum": "9819d4e2949aa63c9f90e53d4b77c93a",
     "grade": false,
     "grade_id": "cell-cbd968352c879e51",
     "locked": false,
     "schema_version": 3,
     "solution": true,
     "task": false
    }
   },
   "outputs": [],
   "source": [
    "# answer4.8 <- ...\n",
    "\n",
    "# your code here\n",
    "answer4.8 <- \"E\""
   ]
  },
  {
   "cell_type": "code",
   "execution_count": 99,
   "metadata": {
    "deletable": false,
    "editable": false,
    "nbgrader": {
     "cell_type": "code",
     "checksum": "72635afd8894aec2d751f6e0f887e375",
     "grade": true,
     "grade_id": "cell-6e8d7076805c9ed8",
     "locked": true,
     "points": 1,
     "schema_version": 3,
     "solution": false,
     "task": false
    }
   },
   "outputs": [
    {
     "name": "stdout",
     "output_type": "stream",
     "text": [
      "[1] \"Success!\"\n"
     ]
    }
   ],
   "source": [
    "test_4.8()"
   ]
  },
  {
   "cell_type": "markdown",
   "metadata": {
    "deletable": false,
    "editable": false,
    "nbgrader": {
     "cell_type": "markdown",
     "checksum": "3e35702f1908d3498c454982ecd88223",
     "grade": false,
     "grade_id": "cell-0561298f07cbc750",
     "locked": true,
     "schema_version": 3,
     "solution": false,
     "task": false
    }
   },
   "source": [
    "**Question 4.9**\n",
    "<br> {points: 1}\n",
    "\n",
    "True or false?\n",
    "\n",
    "When we only have access to a single sample from the population of interest, we can obtain a useful approximation of standard error (specifically, the standard deviation of the distribution of an estimator, or more generally, how much we expect our point estimates to vary) by producing a bootstrap distribution.\n",
    "\n",
    "_Assign your answer to an object called `answer4.9`. Your answer should be either \"true\" or \"false\", surrounded by quotes._"
   ]
  },
  {
   "cell_type": "code",
   "execution_count": 100,
   "metadata": {
    "deletable": false,
    "nbgrader": {
     "cell_type": "code",
     "checksum": "ed858e77a7303be2481bef27ff65c947",
     "grade": false,
     "grade_id": "cell-9786afeac35dc96a",
     "locked": false,
     "schema_version": 3,
     "solution": true,
     "task": false
    }
   },
   "outputs": [],
   "source": [
    "# answer4.9 <- ...\n",
    "\n",
    "# your code here\n",
    "answer4.9 <- \"true\""
   ]
  },
  {
   "cell_type": "code",
   "execution_count": 101,
   "metadata": {
    "deletable": false,
    "editable": false,
    "nbgrader": {
     "cell_type": "code",
     "checksum": "266e4a8991f1e66f2ae9e5ca94f64c4e",
     "grade": true,
     "grade_id": "cell-9d78c06d071d02a2",
     "locked": true,
     "points": 1,
     "schema_version": 3,
     "solution": false,
     "task": false
    }
   },
   "outputs": [
    {
     "name": "stdout",
     "output_type": "stream",
     "text": [
      "[1] \"Success!\"\n"
     ]
    }
   ],
   "source": [
    "test_4.9()"
   ]
  },
  {
   "cell_type": "code",
   "execution_count": null,
   "metadata": {},
   "outputs": [],
   "source": []
  }
 ],
 "metadata": {
  "docker": {
   "latest_image_tag": "v0.4.0"
  },
  "jupytext": {
   "formats": "ipynb,Rmd"
  },
  "kernelspec": {
   "display_name": "R",
   "language": "R",
   "name": "ir"
  },
  "language_info": {
   "codemirror_mode": "r",
   "file_extension": ".r",
   "mimetype": "text/x-r-source",
   "name": "R",
   "pygments_lexer": "r",
   "version": "4.1.0"
  }
 },
 "nbformat": 4,
 "nbformat_minor": 4
}
