{
 "cells": [
  {
   "cell_type": "markdown",
   "metadata": {
    "deletable": false,
    "editable": false,
    "nbgrader": {
     "cell_type": "markdown",
     "checksum": "ee6251ece7ddb10a9e99ca05383e0a29",
     "grade": false,
     "grade_id": "cell-908015dfa63adcb4",
     "locked": true,
     "schema_version": 3,
     "solution": false,
     "task": false
    }
   },
   "source": [
    "## Tutorial 1:  Introduction to Statistical Inference and Sampling"
   ]
  },
  {
   "cell_type": "markdown",
   "metadata": {
    "deletable": false,
    "editable": false,
    "nbgrader": {
     "cell_type": "markdown",
     "checksum": "960416de56c6ffb5a475e996d7ba8d9e",
     "grade": false,
     "grade_id": "cell-b1b21626a440327a",
     "locked": true,
     "schema_version": 3,
     "solution": false,
     "task": false
    }
   },
   "source": [
    "#### Lecture and Tutorial Learning Goals:\n",
    "After completing this week's lecture and tutorial work, you will be able to:\n",
    "\n",
    "1. Describe real-world examples of questions that can be answered with the statistical inference methods presented in this course (e.g., estimation, hypothesis testing).\n",
    "2. Name common population parameters (mean, proportion, median, variance, standard deviation, and correlation) that are often estimated using sample data, and write computer scripts to calculate estimates of these parameters.\n",
    "3. Define the following terms in relation to statistical inference: population, sample, population parameter, estimate, sampling distribution.\n",
    "4. Write a computer script to draw random samples from a finite population (e.g., census data).\n",
    "5. Write a computer script to reveal a sampling distribution from a finite population."
   ]
  },
  {
   "cell_type": "markdown",
   "metadata": {
    "deletable": false,
    "editable": false,
    "nbgrader": {
     "cell_type": "markdown",
     "checksum": "abb4381206df1962601e4849bc7a25cf",
     "grade": false,
     "grade_id": "cell-e89baca94304416d",
     "locked": true,
     "schema_version": 3,
     "solution": false,
     "task": false
    }
   },
   "source": [
    "#### General instructions\n",
    "\n",
    "Any place you see `...`, you must fill in the function, variable, or data to complete the code. Replace `fail()` with your completed code and run the cell!\n",
    "\n",
    "All visible autograded questions (i.e., questions with visible tests) are worth 1 point, and all hidden autograded questions and manually graded questions are worth 3 points."
   ]
  },
  {
   "cell_type": "markdown",
   "metadata": {
    "deletable": false,
    "editable": false,
    "nbgrader": {
     "cell_type": "markdown",
     "checksum": "f6ef6b16d7cda5083352393f02b2cc6c",
     "grade": false,
     "grade_id": "cell-55edba8c34fc8bf3",
     "locked": true,
     "schema_version": 3,
     "solution": false,
     "task": false
    }
   },
   "source": [
    "### Loading some packages"
   ]
  },
  {
   "cell_type": "code",
   "execution_count": 1,
   "metadata": {
    "deletable": false,
    "editable": false,
    "nbgrader": {
     "cell_type": "code",
     "checksum": "fd0449c1473e80f17d1d97c51ac3b9e0",
     "grade": false,
     "grade_id": "cell-e38de85c42aa15da",
     "locked": true,
     "schema_version": 3,
     "solution": false,
     "task": false
    }
   },
   "outputs": [
    {
     "name": "stderr",
     "output_type": "stream",
     "text": [
      "\n",
      "********************************************************\n",
      "\n",
      "Note: As of version 1.0.0, cowplot does not change the\n",
      "\n",
      "  default ggplot2 theme anymore. To recover the previous\n",
      "\n",
      "  behavior, execute:\n",
      "  theme_set(theme_cowplot())\n",
      "\n",
      "********************************************************\n",
      "\n",
      "\n",
      "Warning message:\n",
      "“package ‘dplyr’ was built under R version 4.0.2”\n",
      "\n",
      "Attaching package: ‘dplyr’\n",
      "\n",
      "\n",
      "The following objects are masked from ‘package:stats’:\n",
      "\n",
      "    filter, lag\n",
      "\n",
      "\n",
      "The following objects are masked from ‘package:base’:\n",
      "\n",
      "    intersect, setdiff, setequal, union\n",
      "\n",
      "\n",
      "\n",
      "Attaching package: ‘gridExtra’\n",
      "\n",
      "\n",
      "The following object is masked from ‘package:dplyr’:\n",
      "\n",
      "    combine\n",
      "\n",
      "\n",
      "── \u001b[1mAttaching packages\u001b[22m ─────────────────────────────────────── tidyverse 1.3.0 ──\n",
      "\n",
      "\u001b[32m✔\u001b[39m \u001b[34mggplot2\u001b[39m 3.3.2     \u001b[32m✔\u001b[39m \u001b[34mpurrr  \u001b[39m 0.3.4\n",
      "\u001b[32m✔\u001b[39m \u001b[34mtibble \u001b[39m 3.0.3     \u001b[32m✔\u001b[39m \u001b[34mstringr\u001b[39m 1.4.0\n",
      "\u001b[32m✔\u001b[39m \u001b[34mtidyr  \u001b[39m 1.1.1     \u001b[32m✔\u001b[39m \u001b[34mforcats\u001b[39m 0.5.0\n",
      "\u001b[32m✔\u001b[39m \u001b[34mreadr  \u001b[39m 1.3.1     \n",
      "\n",
      "Warning message:\n",
      "“package ‘ggplot2’ was built under R version 4.0.1”\n",
      "Warning message:\n",
      "“package ‘tibble’ was built under R version 4.0.2”\n",
      "Warning message:\n",
      "“package ‘tidyr’ was built under R version 4.0.2”\n",
      "── \u001b[1mConflicts\u001b[22m ────────────────────────────────────────── tidyverse_conflicts() ──\n",
      "\u001b[31m✖\u001b[39m \u001b[34mgridExtra\u001b[39m::\u001b[32mcombine()\u001b[39m masks \u001b[34mdplyr\u001b[39m::combine()\n",
      "\u001b[31m✖\u001b[39m \u001b[34mdplyr\u001b[39m::\u001b[32mfilter()\u001b[39m      masks \u001b[34mstats\u001b[39m::filter()\n",
      "\u001b[31m✖\u001b[39m \u001b[34mdplyr\u001b[39m::\u001b[32mlag()\u001b[39m         masks \u001b[34mstats\u001b[39m::lag()\n",
      "\n",
      "Warning message:\n",
      "“package ‘infer’ was built under R version 4.0.2”\n",
      "\n",
      "Attaching package: ‘testthat’\n",
      "\n",
      "\n",
      "The following object is masked from ‘package:purrr’:\n",
      "\n",
      "    is_null\n",
      "\n",
      "\n",
      "The following object is masked from ‘package:tidyr’:\n",
      "\n",
      "    matches\n",
      "\n",
      "\n",
      "The following object is masked from ‘package:dplyr’:\n",
      "\n",
      "    matches\n",
      "\n",
      "\n"
     ]
    }
   ],
   "source": [
    "# Run this cell before continuing. \n",
    "library(cowplot)\n",
    "library(dplyr)\n",
    "library(gridExtra)\n",
    "library(tidyverse)\n",
    "library(repr)\n",
    "library(infer)\n",
    "library(repr)\n",
    "source(\"tests_tutorial_01.R\")"
   ]
  },
  {
   "cell_type": "markdown",
   "metadata": {
    "deletable": false,
    "editable": false,
    "nbgrader": {
     "cell_type": "markdown",
     "checksum": "49e6c0b3076c51db4e24317e5f837576",
     "grade": false,
     "grade_id": "cell-02477be7ea6ada9c",
     "locked": true,
     "schema_version": 3,
     "solution": false,
     "task": false
    }
   },
   "source": [
    "### Vancouver Street Trees\n",
    "\n",
    "In this tutorial, we will explore the population and sampling distributions of three different populations of trees planted in Vancouver. Specifically, we are interested in the diameters of three different sub-groups of trees planted along boulevards in the city. We will obtain these populations by filtering a single data set.\n",
    "\n",
    "![](https://media2.giphy.com/media/kiu8isFXsj1yqVBAOv/giphy.gif?cid=ecf05e4755256f4e6c94108bd7031859932bed37b115ca3a&rid=giphy.gif)\n",
    "<div style=\"text-align: center\"><i>Image from <a href=\"https://media2.giphy.com/media/kiu8isFXsj1yqVBAOv/giphy.gif?cid=ecf05e4755256f4e6c94108bd7031859932bed37b115ca3a&rid=giphy.gif\">giphy.com</i></a></div>\n",
    "\n",
    "\n",
    "To do this, we will use the `vancouver_trees` data set, which includes information about public trees planted along boulevards in Vancouver, such as their approximate height, diameter, family and species name, and other information describing where and when the they were planted. This data is originally from the [City of Vancouver's Open Data Portal](https://opendata.vancouver.ca/explore/dataset/street-trees/information/?disjunctive.species_name&disjunctive.common_name&disjunctive.height_range_id), but we have included it in an R package called `datateachr`. The `datateachr` package contains several open source data sets that have been compiled from various sources to make them easily accessible. We will be using data from this package regularly throughout the term. Let's now load the `datateachr` package and take a look at the first few rows of the `vancouver_trees` data set."
   ]
  },
  {
   "cell_type": "code",
   "execution_count": 2,
   "metadata": {
    "deletable": false,
    "editable": false,
    "nbgrader": {
     "cell_type": "code",
     "checksum": "f4ea5349d11d5b7c98e121c682c72bc1",
     "grade": false,
     "grade_id": "cell-54952796e66e195d",
     "locked": true,
     "schema_version": 3,
     "solution": false,
     "task": false
    }
   },
   "outputs": [
    {
     "data": {
      "text/html": [
       "<table>\n",
       "<caption>A tibble: 6 × 20</caption>\n",
       "<thead>\n",
       "\t<tr><th scope=col>tree_id</th><th scope=col>civic_number</th><th scope=col>std_street</th><th scope=col>genus_name</th><th scope=col>species_name</th><th scope=col>cultivar_name</th><th scope=col>common_name</th><th scope=col>assigned</th><th scope=col>root_barrier</th><th scope=col>plant_area</th><th scope=col>on_street_block</th><th scope=col>on_street</th><th scope=col>neighbourhood_name</th><th scope=col>street_side_name</th><th scope=col>height_range_id</th><th scope=col>diameter</th><th scope=col>curb</th><th scope=col>date_planted</th><th scope=col>longitude</th><th scope=col>latitude</th></tr>\n",
       "\t<tr><th scope=col>&lt;dbl&gt;</th><th scope=col>&lt;dbl&gt;</th><th scope=col>&lt;chr&gt;</th><th scope=col>&lt;chr&gt;</th><th scope=col>&lt;chr&gt;</th><th scope=col>&lt;chr&gt;</th><th scope=col>&lt;chr&gt;</th><th scope=col>&lt;chr&gt;</th><th scope=col>&lt;chr&gt;</th><th scope=col>&lt;chr&gt;</th><th scope=col>&lt;dbl&gt;</th><th scope=col>&lt;chr&gt;</th><th scope=col>&lt;chr&gt;</th><th scope=col>&lt;chr&gt;</th><th scope=col>&lt;dbl&gt;</th><th scope=col>&lt;dbl&gt;</th><th scope=col>&lt;chr&gt;</th><th scope=col>&lt;date&gt;</th><th scope=col>&lt;dbl&gt;</th><th scope=col>&lt;dbl&gt;</th></tr>\n",
       "</thead>\n",
       "<tbody>\n",
       "\t<tr><td>149556</td><td> 494</td><td>W 58TH AV </td><td>ULMUS   </td><td>AMERICANA </td><td>BRANDON        </td><td>BRANDON ELM        </td><td>N</td><td>N</td><td>N</td><td> 400</td><td>W 58TH AV </td><td>MARPOLE                 </td><td>EVEN</td><td>2</td><td>10</td><td>N</td><td>1999-01-13</td><td>-123.1161</td><td>49.21776</td></tr>\n",
       "\t<tr><td>149563</td><td> 450</td><td>W 58TH AV </td><td>ZELKOVA </td><td>SERRATA   </td><td>NA             </td><td>JAPANESE ZELKOVA   </td><td>N</td><td>N</td><td>N</td><td> 400</td><td>W 58TH AV </td><td>MARPOLE                 </td><td>EVEN</td><td>4</td><td>10</td><td>N</td><td>1996-05-31</td><td>-123.1147</td><td>49.21776</td></tr>\n",
       "\t<tr><td>149579</td><td>4994</td><td>WINDSOR ST</td><td>STYRAX  </td><td>JAPONICA  </td><td>NA             </td><td>JAPANESE SNOWBELL  </td><td>N</td><td>N</td><td>4</td><td>4900</td><td>WINDSOR ST</td><td>KENSINGTON-CEDAR COTTAGE</td><td>EVEN</td><td>3</td><td> 4</td><td>Y</td><td>1993-11-22</td><td>-123.0846</td><td>49.23938</td></tr>\n",
       "\t<tr><td>149590</td><td> 858</td><td>E 39TH AV </td><td>FRAXINUS</td><td>AMERICANA </td><td>AUTUMN APPLAUSE</td><td>AUTUMN APPLAUSE ASH</td><td>Y</td><td>N</td><td>4</td><td> 800</td><td>E 39TH AV </td><td>KENSINGTON-CEDAR COTTAGE</td><td>EVEN</td><td>4</td><td>18</td><td>Y</td><td>1996-04-29</td><td>-123.0870</td><td>49.23469</td></tr>\n",
       "\t<tr><td>149604</td><td>5032</td><td>WINDSOR ST</td><td>ACER    </td><td>CAMPESTRE </td><td>NA             </td><td>HEDGE MAPLE        </td><td>N</td><td>N</td><td>4</td><td>5000</td><td>WINDSOR ST</td><td>KENSINGTON-CEDAR COTTAGE</td><td>EVEN</td><td>2</td><td> 9</td><td>Y</td><td>1993-12-17</td><td>-123.0846</td><td>49.23894</td></tr>\n",
       "\t<tr><td>149616</td><td> 585</td><td>W 61ST AV </td><td>PYRUS   </td><td>CALLERYANA</td><td>CHANTICLEER    </td><td>CHANTICLEER PEAR   </td><td>N</td><td>N</td><td>B</td><td> 500</td><td>W 61ST AV </td><td>MARPOLE                 </td><td>ODD </td><td>2</td><td> 5</td><td>Y</td><td>NA</td><td>-123.1196</td><td>49.21513</td></tr>\n",
       "</tbody>\n",
       "</table>\n"
      ],
      "text/latex": [
       "A tibble: 6 × 20\n",
       "\\begin{tabular}{llllllllllllllllllll}\n",
       " tree\\_id & civic\\_number & std\\_street & genus\\_name & species\\_name & cultivar\\_name & common\\_name & assigned & root\\_barrier & plant\\_area & on\\_street\\_block & on\\_street & neighbourhood\\_name & street\\_side\\_name & height\\_range\\_id & diameter & curb & date\\_planted & longitude & latitude\\\\\n",
       " <dbl> & <dbl> & <chr> & <chr> & <chr> & <chr> & <chr> & <chr> & <chr> & <chr> & <dbl> & <chr> & <chr> & <chr> & <dbl> & <dbl> & <chr> & <date> & <dbl> & <dbl>\\\\\n",
       "\\hline\n",
       "\t 149556 &  494 & W 58TH AV  & ULMUS    & AMERICANA  & BRANDON         & BRANDON ELM         & N & N & N &  400 & W 58TH AV  & MARPOLE                  & EVEN & 2 & 10 & N & 1999-01-13 & -123.1161 & 49.21776\\\\\n",
       "\t 149563 &  450 & W 58TH AV  & ZELKOVA  & SERRATA    & NA              & JAPANESE ZELKOVA    & N & N & N &  400 & W 58TH AV  & MARPOLE                  & EVEN & 4 & 10 & N & 1996-05-31 & -123.1147 & 49.21776\\\\\n",
       "\t 149579 & 4994 & WINDSOR ST & STYRAX   & JAPONICA   & NA              & JAPANESE SNOWBELL   & N & N & 4 & 4900 & WINDSOR ST & KENSINGTON-CEDAR COTTAGE & EVEN & 3 &  4 & Y & 1993-11-22 & -123.0846 & 49.23938\\\\\n",
       "\t 149590 &  858 & E 39TH AV  & FRAXINUS & AMERICANA  & AUTUMN APPLAUSE & AUTUMN APPLAUSE ASH & Y & N & 4 &  800 & E 39TH AV  & KENSINGTON-CEDAR COTTAGE & EVEN & 4 & 18 & Y & 1996-04-29 & -123.0870 & 49.23469\\\\\n",
       "\t 149604 & 5032 & WINDSOR ST & ACER     & CAMPESTRE  & NA              & HEDGE MAPLE         & N & N & 4 & 5000 & WINDSOR ST & KENSINGTON-CEDAR COTTAGE & EVEN & 2 &  9 & Y & 1993-12-17 & -123.0846 & 49.23894\\\\\n",
       "\t 149616 &  585 & W 61ST AV  & PYRUS    & CALLERYANA & CHANTICLEER     & CHANTICLEER PEAR    & N & N & B &  500 & W 61ST AV  & MARPOLE                  & ODD  & 2 &  5 & Y & NA & -123.1196 & 49.21513\\\\\n",
       "\\end{tabular}\n"
      ],
      "text/markdown": [
       "\n",
       "A tibble: 6 × 20\n",
       "\n",
       "| tree_id &lt;dbl&gt; | civic_number &lt;dbl&gt; | std_street &lt;chr&gt; | genus_name &lt;chr&gt; | species_name &lt;chr&gt; | cultivar_name &lt;chr&gt; | common_name &lt;chr&gt; | assigned &lt;chr&gt; | root_barrier &lt;chr&gt; | plant_area &lt;chr&gt; | on_street_block &lt;dbl&gt; | on_street &lt;chr&gt; | neighbourhood_name &lt;chr&gt; | street_side_name &lt;chr&gt; | height_range_id &lt;dbl&gt; | diameter &lt;dbl&gt; | curb &lt;chr&gt; | date_planted &lt;date&gt; | longitude &lt;dbl&gt; | latitude &lt;dbl&gt; |\n",
       "|---|---|---|---|---|---|---|---|---|---|---|---|---|---|---|---|---|---|---|---|\n",
       "| 149556 |  494 | W 58TH AV  | ULMUS    | AMERICANA  | BRANDON         | BRANDON ELM         | N | N | N |  400 | W 58TH AV  | MARPOLE                  | EVEN | 2 | 10 | N | 1999-01-13 | -123.1161 | 49.21776 |\n",
       "| 149563 |  450 | W 58TH AV  | ZELKOVA  | SERRATA    | NA              | JAPANESE ZELKOVA    | N | N | N |  400 | W 58TH AV  | MARPOLE                  | EVEN | 4 | 10 | N | 1996-05-31 | -123.1147 | 49.21776 |\n",
       "| 149579 | 4994 | WINDSOR ST | STYRAX   | JAPONICA   | NA              | JAPANESE SNOWBELL   | N | N | 4 | 4900 | WINDSOR ST | KENSINGTON-CEDAR COTTAGE | EVEN | 3 |  4 | Y | 1993-11-22 | -123.0846 | 49.23938 |\n",
       "| 149590 |  858 | E 39TH AV  | FRAXINUS | AMERICANA  | AUTUMN APPLAUSE | AUTUMN APPLAUSE ASH | Y | N | 4 |  800 | E 39TH AV  | KENSINGTON-CEDAR COTTAGE | EVEN | 4 | 18 | Y | 1996-04-29 | -123.0870 | 49.23469 |\n",
       "| 149604 | 5032 | WINDSOR ST | ACER     | CAMPESTRE  | NA              | HEDGE MAPLE         | N | N | 4 | 5000 | WINDSOR ST | KENSINGTON-CEDAR COTTAGE | EVEN | 2 |  9 | Y | 1993-12-17 | -123.0846 | 49.23894 |\n",
       "| 149616 |  585 | W 61ST AV  | PYRUS    | CALLERYANA | CHANTICLEER     | CHANTICLEER PEAR    | N | N | B |  500 | W 61ST AV  | MARPOLE                  | ODD  | 2 |  5 | Y | NA | -123.1196 | 49.21513 |\n",
       "\n"
      ],
      "text/plain": [
       "  tree_id civic_number std_street genus_name species_name cultivar_name  \n",
       "1 149556   494         W 58TH AV  ULMUS      AMERICANA    BRANDON        \n",
       "2 149563   450         W 58TH AV  ZELKOVA    SERRATA      NA             \n",
       "3 149579  4994         WINDSOR ST STYRAX     JAPONICA     NA             \n",
       "4 149590   858         E 39TH AV  FRAXINUS   AMERICANA    AUTUMN APPLAUSE\n",
       "5 149604  5032         WINDSOR ST ACER       CAMPESTRE    NA             \n",
       "6 149616   585         W 61ST AV  PYRUS      CALLERYANA   CHANTICLEER    \n",
       "  common_name         assigned root_barrier plant_area on_street_block\n",
       "1 BRANDON ELM         N        N            N           400           \n",
       "2 JAPANESE ZELKOVA    N        N            N           400           \n",
       "3 JAPANESE SNOWBELL   N        N            4          4900           \n",
       "4 AUTUMN APPLAUSE ASH Y        N            4           800           \n",
       "5 HEDGE MAPLE         N        N            4          5000           \n",
       "6 CHANTICLEER PEAR    N        N            B           500           \n",
       "  on_street  neighbourhood_name       street_side_name height_range_id diameter\n",
       "1 W 58TH AV  MARPOLE                  EVEN             2               10      \n",
       "2 W 58TH AV  MARPOLE                  EVEN             4               10      \n",
       "3 WINDSOR ST KENSINGTON-CEDAR COTTAGE EVEN             3                4      \n",
       "4 E 39TH AV  KENSINGTON-CEDAR COTTAGE EVEN             4               18      \n",
       "5 WINDSOR ST KENSINGTON-CEDAR COTTAGE EVEN             2                9      \n",
       "6 W 61ST AV  MARPOLE                  ODD              2                5      \n",
       "  curb date_planted longitude latitude\n",
       "1 N    1999-01-13   -123.1161 49.21776\n",
       "2 N    1996-05-31   -123.1147 49.21776\n",
       "3 Y    1993-11-22   -123.0846 49.23938\n",
       "4 Y    1996-04-29   -123.0870 49.23469\n",
       "5 Y    1993-12-17   -123.0846 49.23894\n",
       "6 Y    <NA>         -123.1196 49.21513"
      ]
     },
     "metadata": {},
     "output_type": "display_data"
    }
   ],
   "source": [
    "library(datateachr)\n",
    "head(vancouver_trees)"
   ]
  },
  {
   "cell_type": "markdown",
   "metadata": {
    "deletable": false,
    "editable": false,
    "nbgrader": {
     "cell_type": "markdown",
     "checksum": "27ff62dd7e07b2f467c451eb9a2d9693",
     "grade": false,
     "grade_id": "cell-0d5f2ba3ad8aa891",
     "locked": true,
     "schema_version": 3,
     "solution": false,
     "task": false
    }
   },
   "source": [
    "## 1. Warm Up\n",
    "\n",
    "\n",
    "Before we get started, let's remind ourselves of a few important concepts and definitions."
   ]
  },
  {
   "cell_type": "markdown",
   "metadata": {
    "deletable": false,
    "editable": false,
    "nbgrader": {
     "cell_type": "markdown",
     "checksum": "f0a7f00b417cf5ba456bf8b0881ec772",
     "grade": false,
     "grade_id": "cell-4900fe61551b3f00",
     "locked": true,
     "schema_version": 3,
     "solution": false,
     "task": false
    }
   },
   "source": [
    "**Question 1.0**\n",
    "<br>{points: 1}\n",
    "\n",
    "What are two parameters that are typically used to describe the centre of a distribution?\n",
    "\n",
    "A. Standard deviation & variance\n",
    "\n",
    "B. Standard deviation & median\n",
    "\n",
    "C. Median & variance\n",
    "\n",
    "D. Median & mean\n",
    "\n",
    "_Assign your answer to an object called `answer1.0`. Your answer should be a single character surrounded by quotes._"
   ]
  },
  {
   "cell_type": "code",
   "execution_count": 3,
   "metadata": {
    "deletable": false,
    "nbgrader": {
     "cell_type": "code",
     "checksum": "789b60aa8bc4a1877efeaa1855681737",
     "grade": false,
     "grade_id": "cell-3a464b1626e771c0",
     "locked": false,
     "schema_version": 3,
     "solution": true,
     "task": false
    }
   },
   "outputs": [],
   "source": [
    "answer1.0 <- \"D\"\n",
    "\n",
    "# your code here\n"
   ]
  },
  {
   "cell_type": "code",
   "execution_count": 4,
   "metadata": {
    "deletable": false,
    "editable": false,
    "nbgrader": {
     "cell_type": "code",
     "checksum": "085be210c4e0900c8a4a83f17114c1d6",
     "grade": true,
     "grade_id": "cell-b0e684685f0edaeb",
     "locked": true,
     "points": 1,
     "schema_version": 3,
     "solution": false,
     "task": false
    }
   },
   "outputs": [
    {
     "name": "stdout",
     "output_type": "stream",
     "text": [
      "[1] \"Success!\"\n"
     ]
    }
   ],
   "source": [
    "test_1.0()"
   ]
  },
  {
   "cell_type": "markdown",
   "metadata": {
    "deletable": false,
    "editable": false,
    "nbgrader": {
     "cell_type": "markdown",
     "checksum": "c105e4861df248563174875e22b4ec25",
     "grade": false,
     "grade_id": "cell-941e7154315399bf",
     "locked": true,
     "schema_version": 3,
     "solution": false,
     "task": false
    }
   },
   "source": [
    "**Question 1.1**\n",
    "<br>{points: 3}\n",
    "\n",
    "In one or two sentences, explain what a sampling distribution of sample means is in your own words. Do not use the word \"distribution\" in your explanation."
   ]
  },
  {
   "cell_type": "markdown",
   "metadata": {
    "deletable": false,
    "nbgrader": {
     "cell_type": "markdown",
     "checksum": "17bbb5478f83575614c495047bc45abf",
     "grade": true,
     "grade_id": "cell-ec788aa80f383f85",
     "locked": false,
     "points": 3,
     "schema_version": 3,
     "solution": true,
     "task": false
    }
   },
   "source": [
    "A sampling distribution of sample means is an explaination or description of how the means samples of a population are spread out."
   ]
  },
  {
   "cell_type": "markdown",
   "metadata": {
    "deletable": false,
    "editable": false,
    "nbgrader": {
     "cell_type": "markdown",
     "checksum": "6492af9a1fc9c42a37f70d5d7a347268",
     "grade": false,
     "grade_id": "cell-93d5cf7bf1e8be7d",
     "locked": true,
     "schema_version": 3,
     "solution": false,
     "task": false
    }
   },
   "source": [
    "**Question 1.2**\n",
    "<br>{points: 1}\n",
    "\n",
    "True or false?\n",
    "\n",
    "In reality, we most often have access to data for the entire population that we are interested in studying.\n",
    "\n",
    "_Assign your answer to an object called `answer1.2`. Your answer should be either \"true\" or \"false\", surrounded by quotes._"
   ]
  },
  {
   "cell_type": "code",
   "execution_count": 4,
   "metadata": {
    "deletable": false,
    "nbgrader": {
     "cell_type": "code",
     "checksum": "c18b4a9fb683510c568c159a11899820",
     "grade": false,
     "grade_id": "cell-9dc33e4b16fbecff",
     "locked": false,
     "schema_version": 3,
     "solution": true,
     "task": false
    }
   },
   "outputs": [],
   "source": [
    "answer1.2 <- \"false\"\n",
    "\n",
    "# your code here\n"
   ]
  },
  {
   "cell_type": "code",
   "execution_count": 5,
   "metadata": {
    "deletable": false,
    "editable": false,
    "nbgrader": {
     "cell_type": "code",
     "checksum": "9a801ac8d36ee59ea14f0541523586c7",
     "grade": true,
     "grade_id": "cell-b75038fb29c9f50c",
     "locked": true,
     "points": 1,
     "schema_version": 3,
     "solution": false,
     "task": false
    }
   },
   "outputs": [
    {
     "name": "stdout",
     "output_type": "stream",
     "text": [
      "[1] \"Success!\"\n"
     ]
    }
   ],
   "source": [
    "test_1.2()"
   ]
  },
  {
   "cell_type": "markdown",
   "metadata": {
    "deletable": false,
    "editable": false,
    "nbgrader": {
     "cell_type": "markdown",
     "checksum": "fb45a8972697e7151c77213da4d69375",
     "grade": false,
     "grade_id": "cell-5a8d97c351173c12",
     "locked": true,
     "schema_version": 3,
     "solution": false,
     "task": false
    }
   },
   "source": [
    "**Question 1.3**\n",
    "<br>{points: 1}\n",
    "\n",
    "Consider this unordered, numbered list of tasks related to populations, sampling, and sampling distributions: \n",
    "\n",
    "1. Calculate the mean of the point estimates to use as your estimate.\n",
    "2. Take a random sample from the population.\n",
    "3. Plot the distribution of the sample(s).\n",
    "4. Calculate point estimate(s) for the sample(s).\n",
    "5. Describe the uncertainty related to your estimate.\n",
    "6. Plot the distribution of the point estimates.\n",
    "7. Calculate the population parameter.\n",
    "8. Take many random samples from the population.\n",
    "\n",
    "Choose the order of tasks that **best** describes the process of estimating a population parameter when we do not have access to the population.\n",
    "\n",
    "A. 8, 3, 7\n",
    "\n",
    "B. 2, 4, 5\n",
    "\n",
    "C. 8, 4, 1\n",
    "\n",
    "D. 2, 7, 5\n",
    "\n",
    "E. 8, 4, 6, 1\n",
    "\n",
    "F. 2, 3, 7, 5\n",
    "\n",
    "_Assign your answer to an object called `answer1.3`. Your answer should be a single character surrounded by quotes._"
   ]
  },
  {
   "cell_type": "code",
   "execution_count": 9,
   "metadata": {
    "deletable": false,
    "nbgrader": {
     "cell_type": "code",
     "checksum": "182b1db270c4423926923d94a4d5f53d",
     "grade": false,
     "grade_id": "cell-756aef05e9370e86",
     "locked": false,
     "schema_version": 3,
     "solution": true,
     "task": false
    }
   },
   "outputs": [
    {
     "data": {
      "text/html": [
       "<table>\n",
       "<caption>A tibble: 6 × 20</caption>\n",
       "<thead>\n",
       "\t<tr><th scope=col>tree_id</th><th scope=col>civic_number</th><th scope=col>std_street</th><th scope=col>genus_name</th><th scope=col>species_name</th><th scope=col>cultivar_name</th><th scope=col>common_name</th><th scope=col>assigned</th><th scope=col>root_barrier</th><th scope=col>plant_area</th><th scope=col>on_street_block</th><th scope=col>on_street</th><th scope=col>neighbourhood_name</th><th scope=col>street_side_name</th><th scope=col>height_range_id</th><th scope=col>diameter</th><th scope=col>curb</th><th scope=col>date_planted</th><th scope=col>longitude</th><th scope=col>latitude</th></tr>\n",
       "\t<tr><th scope=col>&lt;dbl&gt;</th><th scope=col>&lt;dbl&gt;</th><th scope=col>&lt;chr&gt;</th><th scope=col>&lt;chr&gt;</th><th scope=col>&lt;chr&gt;</th><th scope=col>&lt;chr&gt;</th><th scope=col>&lt;chr&gt;</th><th scope=col>&lt;chr&gt;</th><th scope=col>&lt;chr&gt;</th><th scope=col>&lt;chr&gt;</th><th scope=col>&lt;dbl&gt;</th><th scope=col>&lt;chr&gt;</th><th scope=col>&lt;chr&gt;</th><th scope=col>&lt;chr&gt;</th><th scope=col>&lt;dbl&gt;</th><th scope=col>&lt;dbl&gt;</th><th scope=col>&lt;chr&gt;</th><th scope=col>&lt;date&gt;</th><th scope=col>&lt;dbl&gt;</th><th scope=col>&lt;dbl&gt;</th></tr>\n",
       "</thead>\n",
       "<tbody>\n",
       "\t<tr><td>149556</td><td> 494</td><td>W 58TH AV </td><td>ULMUS   </td><td>AMERICANA </td><td>BRANDON        </td><td>BRANDON ELM        </td><td>N</td><td>N</td><td>N</td><td> 400</td><td>W 58TH AV </td><td>MARPOLE                 </td><td>EVEN</td><td>2</td><td>10</td><td>N</td><td>1999-01-13</td><td>-123.1161</td><td>49.21776</td></tr>\n",
       "\t<tr><td>149563</td><td> 450</td><td>W 58TH AV </td><td>ZELKOVA </td><td>SERRATA   </td><td>NA             </td><td>JAPANESE ZELKOVA   </td><td>N</td><td>N</td><td>N</td><td> 400</td><td>W 58TH AV </td><td>MARPOLE                 </td><td>EVEN</td><td>4</td><td>10</td><td>N</td><td>1996-05-31</td><td>-123.1147</td><td>49.21776</td></tr>\n",
       "\t<tr><td>149579</td><td>4994</td><td>WINDSOR ST</td><td>STYRAX  </td><td>JAPONICA  </td><td>NA             </td><td>JAPANESE SNOWBELL  </td><td>N</td><td>N</td><td>4</td><td>4900</td><td>WINDSOR ST</td><td>KENSINGTON-CEDAR COTTAGE</td><td>EVEN</td><td>3</td><td> 4</td><td>Y</td><td>1993-11-22</td><td>-123.0846</td><td>49.23938</td></tr>\n",
       "\t<tr><td>149590</td><td> 858</td><td>E 39TH AV </td><td>FRAXINUS</td><td>AMERICANA </td><td>AUTUMN APPLAUSE</td><td>AUTUMN APPLAUSE ASH</td><td>Y</td><td>N</td><td>4</td><td> 800</td><td>E 39TH AV </td><td>KENSINGTON-CEDAR COTTAGE</td><td>EVEN</td><td>4</td><td>18</td><td>Y</td><td>1996-04-29</td><td>-123.0870</td><td>49.23469</td></tr>\n",
       "\t<tr><td>149604</td><td>5032</td><td>WINDSOR ST</td><td>ACER    </td><td>CAMPESTRE </td><td>NA             </td><td>HEDGE MAPLE        </td><td>N</td><td>N</td><td>4</td><td>5000</td><td>WINDSOR ST</td><td>KENSINGTON-CEDAR COTTAGE</td><td>EVEN</td><td>2</td><td> 9</td><td>Y</td><td>1993-12-17</td><td>-123.0846</td><td>49.23894</td></tr>\n",
       "\t<tr><td>149616</td><td> 585</td><td>W 61ST AV </td><td>PYRUS   </td><td>CALLERYANA</td><td>CHANTICLEER    </td><td>CHANTICLEER PEAR   </td><td>N</td><td>N</td><td>B</td><td> 500</td><td>W 61ST AV </td><td>MARPOLE                 </td><td>ODD </td><td>2</td><td> 5</td><td>Y</td><td>NA</td><td>-123.1196</td><td>49.21513</td></tr>\n",
       "</tbody>\n",
       "</table>\n"
      ],
      "text/latex": [
       "A tibble: 6 × 20\n",
       "\\begin{tabular}{llllllllllllllllllll}\n",
       " tree\\_id & civic\\_number & std\\_street & genus\\_name & species\\_name & cultivar\\_name & common\\_name & assigned & root\\_barrier & plant\\_area & on\\_street\\_block & on\\_street & neighbourhood\\_name & street\\_side\\_name & height\\_range\\_id & diameter & curb & date\\_planted & longitude & latitude\\\\\n",
       " <dbl> & <dbl> & <chr> & <chr> & <chr> & <chr> & <chr> & <chr> & <chr> & <chr> & <dbl> & <chr> & <chr> & <chr> & <dbl> & <dbl> & <chr> & <date> & <dbl> & <dbl>\\\\\n",
       "\\hline\n",
       "\t 149556 &  494 & W 58TH AV  & ULMUS    & AMERICANA  & BRANDON         & BRANDON ELM         & N & N & N &  400 & W 58TH AV  & MARPOLE                  & EVEN & 2 & 10 & N & 1999-01-13 & -123.1161 & 49.21776\\\\\n",
       "\t 149563 &  450 & W 58TH AV  & ZELKOVA  & SERRATA    & NA              & JAPANESE ZELKOVA    & N & N & N &  400 & W 58TH AV  & MARPOLE                  & EVEN & 4 & 10 & N & 1996-05-31 & -123.1147 & 49.21776\\\\\n",
       "\t 149579 & 4994 & WINDSOR ST & STYRAX   & JAPONICA   & NA              & JAPANESE SNOWBELL   & N & N & 4 & 4900 & WINDSOR ST & KENSINGTON-CEDAR COTTAGE & EVEN & 3 &  4 & Y & 1993-11-22 & -123.0846 & 49.23938\\\\\n",
       "\t 149590 &  858 & E 39TH AV  & FRAXINUS & AMERICANA  & AUTUMN APPLAUSE & AUTUMN APPLAUSE ASH & Y & N & 4 &  800 & E 39TH AV  & KENSINGTON-CEDAR COTTAGE & EVEN & 4 & 18 & Y & 1996-04-29 & -123.0870 & 49.23469\\\\\n",
       "\t 149604 & 5032 & WINDSOR ST & ACER     & CAMPESTRE  & NA              & HEDGE MAPLE         & N & N & 4 & 5000 & WINDSOR ST & KENSINGTON-CEDAR COTTAGE & EVEN & 2 &  9 & Y & 1993-12-17 & -123.0846 & 49.23894\\\\\n",
       "\t 149616 &  585 & W 61ST AV  & PYRUS    & CALLERYANA & CHANTICLEER     & CHANTICLEER PEAR    & N & N & B &  500 & W 61ST AV  & MARPOLE                  & ODD  & 2 &  5 & Y & NA & -123.1196 & 49.21513\\\\\n",
       "\\end{tabular}\n"
      ],
      "text/markdown": [
       "\n",
       "A tibble: 6 × 20\n",
       "\n",
       "| tree_id &lt;dbl&gt; | civic_number &lt;dbl&gt; | std_street &lt;chr&gt; | genus_name &lt;chr&gt; | species_name &lt;chr&gt; | cultivar_name &lt;chr&gt; | common_name &lt;chr&gt; | assigned &lt;chr&gt; | root_barrier &lt;chr&gt; | plant_area &lt;chr&gt; | on_street_block &lt;dbl&gt; | on_street &lt;chr&gt; | neighbourhood_name &lt;chr&gt; | street_side_name &lt;chr&gt; | height_range_id &lt;dbl&gt; | diameter &lt;dbl&gt; | curb &lt;chr&gt; | date_planted &lt;date&gt; | longitude &lt;dbl&gt; | latitude &lt;dbl&gt; |\n",
       "|---|---|---|---|---|---|---|---|---|---|---|---|---|---|---|---|---|---|---|---|\n",
       "| 149556 |  494 | W 58TH AV  | ULMUS    | AMERICANA  | BRANDON         | BRANDON ELM         | N | N | N |  400 | W 58TH AV  | MARPOLE                  | EVEN | 2 | 10 | N | 1999-01-13 | -123.1161 | 49.21776 |\n",
       "| 149563 |  450 | W 58TH AV  | ZELKOVA  | SERRATA    | NA              | JAPANESE ZELKOVA    | N | N | N |  400 | W 58TH AV  | MARPOLE                  | EVEN | 4 | 10 | N | 1996-05-31 | -123.1147 | 49.21776 |\n",
       "| 149579 | 4994 | WINDSOR ST | STYRAX   | JAPONICA   | NA              | JAPANESE SNOWBELL   | N | N | 4 | 4900 | WINDSOR ST | KENSINGTON-CEDAR COTTAGE | EVEN | 3 |  4 | Y | 1993-11-22 | -123.0846 | 49.23938 |\n",
       "| 149590 |  858 | E 39TH AV  | FRAXINUS | AMERICANA  | AUTUMN APPLAUSE | AUTUMN APPLAUSE ASH | Y | N | 4 |  800 | E 39TH AV  | KENSINGTON-CEDAR COTTAGE | EVEN | 4 | 18 | Y | 1996-04-29 | -123.0870 | 49.23469 |\n",
       "| 149604 | 5032 | WINDSOR ST | ACER     | CAMPESTRE  | NA              | HEDGE MAPLE         | N | N | 4 | 5000 | WINDSOR ST | KENSINGTON-CEDAR COTTAGE | EVEN | 2 |  9 | Y | 1993-12-17 | -123.0846 | 49.23894 |\n",
       "| 149616 |  585 | W 61ST AV  | PYRUS    | CALLERYANA | CHANTICLEER     | CHANTICLEER PEAR    | N | N | B |  500 | W 61ST AV  | MARPOLE                  | ODD  | 2 |  5 | Y | NA | -123.1196 | 49.21513 |\n",
       "\n"
      ],
      "text/plain": [
       "  tree_id civic_number std_street genus_name species_name cultivar_name  \n",
       "1 149556   494         W 58TH AV  ULMUS      AMERICANA    BRANDON        \n",
       "2 149563   450         W 58TH AV  ZELKOVA    SERRATA      NA             \n",
       "3 149579  4994         WINDSOR ST STYRAX     JAPONICA     NA             \n",
       "4 149590   858         E 39TH AV  FRAXINUS   AMERICANA    AUTUMN APPLAUSE\n",
       "5 149604  5032         WINDSOR ST ACER       CAMPESTRE    NA             \n",
       "6 149616   585         W 61ST AV  PYRUS      CALLERYANA   CHANTICLEER    \n",
       "  common_name         assigned root_barrier plant_area on_street_block\n",
       "1 BRANDON ELM         N        N            N           400           \n",
       "2 JAPANESE ZELKOVA    N        N            N           400           \n",
       "3 JAPANESE SNOWBELL   N        N            4          4900           \n",
       "4 AUTUMN APPLAUSE ASH Y        N            4           800           \n",
       "5 HEDGE MAPLE         N        N            4          5000           \n",
       "6 CHANTICLEER PEAR    N        N            B           500           \n",
       "  on_street  neighbourhood_name       street_side_name height_range_id diameter\n",
       "1 W 58TH AV  MARPOLE                  EVEN             2               10      \n",
       "2 W 58TH AV  MARPOLE                  EVEN             4               10      \n",
       "3 WINDSOR ST KENSINGTON-CEDAR COTTAGE EVEN             3                4      \n",
       "4 E 39TH AV  KENSINGTON-CEDAR COTTAGE EVEN             4               18      \n",
       "5 WINDSOR ST KENSINGTON-CEDAR COTTAGE EVEN             2                9      \n",
       "6 W 61ST AV  MARPOLE                  ODD              2                5      \n",
       "  curb date_planted longitude latitude\n",
       "1 N    1999-01-13   -123.1161 49.21776\n",
       "2 N    1996-05-31   -123.1147 49.21776\n",
       "3 Y    1993-11-22   -123.0846 49.23938\n",
       "4 Y    1996-04-29   -123.0870 49.23469\n",
       "5 Y    1993-12-17   -123.0846 49.23894\n",
       "6 Y    <NA>         -123.1196 49.21513"
      ]
     },
     "metadata": {},
     "output_type": "display_data"
    }
   ],
   "source": [
    "answer1.3 <- \"B\"\n",
    "\n",
    "# your code here\n",
    "head(vancouver_trees)"
   ]
  },
  {
   "cell_type": "code",
   "execution_count": 7,
   "metadata": {
    "deletable": false,
    "editable": false,
    "nbgrader": {
     "cell_type": "code",
     "checksum": "955f01dbe2c05759e9148b678d465ea0",
     "grade": true,
     "grade_id": "cell-59868bdd46196233",
     "locked": true,
     "points": 1,
     "schema_version": 3,
     "solution": false,
     "task": false
    }
   },
   "outputs": [
    {
     "name": "stdout",
     "output_type": "stream",
     "text": [
      "[1] \"Success!\"\n"
     ]
    }
   ],
   "source": [
    "test_1.3()"
   ]
  },
  {
   "cell_type": "markdown",
   "metadata": {
    "deletable": false,
    "editable": false,
    "nbgrader": {
     "cell_type": "markdown",
     "checksum": "b4fdd617cb28845a1e555ea4a6e7cb68",
     "grade": false,
     "grade_id": "cell-438d8cbf29c6d31c",
     "locked": true,
     "schema_version": 3,
     "solution": false,
     "task": false
    }
   },
   "source": [
    "**Question 1.4**\n",
    "<br>{points: 1}\n",
    "\n",
    "We will be using the `diameter` column of the `vancouver_trees` data set throughout this tutorial. The documentation for the `vancouver_trees` data set (which can be accessed using `?vancouver_trees`) states that the diameter column is\n",
    "\n",
    "> DBH in _**inches**_ (DBH stands for \"diameter of tree at breast height\").\n",
    "\n",
    "Let's convert this to metric units (centimetres) before we get started. Use the fact that $1 \\text{ in} = 2.54 \\text{ cm}$\n",
    "to convert the `diameter` column to centimetres by overwriting it with the `mutate` function.\n",
    "\n",
    "_Assign your data frame to an object called `metric_trees`._"
   ]
  },
  {
   "cell_type": "code",
   "execution_count": 10,
   "metadata": {
    "deletable": false,
    "nbgrader": {
     "cell_type": "code",
     "checksum": "d45a878588f6cfba819abcc7002262d0",
     "grade": false,
     "grade_id": "cell-2fe17cd445c4529b",
     "locked": false,
     "schema_version": 3,
     "solution": true,
     "task": false
    }
   },
   "outputs": [
    {
     "data": {
      "text/html": [
       "<table>\n",
       "<caption>A tibble: 6 × 20</caption>\n",
       "<thead>\n",
       "\t<tr><th scope=col>tree_id</th><th scope=col>civic_number</th><th scope=col>std_street</th><th scope=col>genus_name</th><th scope=col>species_name</th><th scope=col>cultivar_name</th><th scope=col>common_name</th><th scope=col>assigned</th><th scope=col>root_barrier</th><th scope=col>plant_area</th><th scope=col>on_street_block</th><th scope=col>on_street</th><th scope=col>neighbourhood_name</th><th scope=col>street_side_name</th><th scope=col>height_range_id</th><th scope=col>diameter</th><th scope=col>curb</th><th scope=col>date_planted</th><th scope=col>longitude</th><th scope=col>latitude</th></tr>\n",
       "\t<tr><th scope=col>&lt;dbl&gt;</th><th scope=col>&lt;dbl&gt;</th><th scope=col>&lt;chr&gt;</th><th scope=col>&lt;chr&gt;</th><th scope=col>&lt;chr&gt;</th><th scope=col>&lt;chr&gt;</th><th scope=col>&lt;chr&gt;</th><th scope=col>&lt;chr&gt;</th><th scope=col>&lt;chr&gt;</th><th scope=col>&lt;chr&gt;</th><th scope=col>&lt;dbl&gt;</th><th scope=col>&lt;chr&gt;</th><th scope=col>&lt;chr&gt;</th><th scope=col>&lt;chr&gt;</th><th scope=col>&lt;dbl&gt;</th><th scope=col>&lt;dbl&gt;</th><th scope=col>&lt;chr&gt;</th><th scope=col>&lt;date&gt;</th><th scope=col>&lt;dbl&gt;</th><th scope=col>&lt;dbl&gt;</th></tr>\n",
       "</thead>\n",
       "<tbody>\n",
       "\t<tr><td>149556</td><td> 494</td><td>W 58TH AV </td><td>ULMUS   </td><td>AMERICANA </td><td>BRANDON        </td><td>BRANDON ELM        </td><td>N</td><td>N</td><td>N</td><td> 400</td><td>W 58TH AV </td><td>MARPOLE                 </td><td>EVEN</td><td>2</td><td>25.40</td><td>N</td><td>1999-01-13</td><td>-123.1161</td><td>49.21776</td></tr>\n",
       "\t<tr><td>149563</td><td> 450</td><td>W 58TH AV </td><td>ZELKOVA </td><td>SERRATA   </td><td>NA             </td><td>JAPANESE ZELKOVA   </td><td>N</td><td>N</td><td>N</td><td> 400</td><td>W 58TH AV </td><td>MARPOLE                 </td><td>EVEN</td><td>4</td><td>25.40</td><td>N</td><td>1996-05-31</td><td>-123.1147</td><td>49.21776</td></tr>\n",
       "\t<tr><td>149579</td><td>4994</td><td>WINDSOR ST</td><td>STYRAX  </td><td>JAPONICA  </td><td>NA             </td><td>JAPANESE SNOWBELL  </td><td>N</td><td>N</td><td>4</td><td>4900</td><td>WINDSOR ST</td><td>KENSINGTON-CEDAR COTTAGE</td><td>EVEN</td><td>3</td><td>10.16</td><td>Y</td><td>1993-11-22</td><td>-123.0846</td><td>49.23938</td></tr>\n",
       "\t<tr><td>149590</td><td> 858</td><td>E 39TH AV </td><td>FRAXINUS</td><td>AMERICANA </td><td>AUTUMN APPLAUSE</td><td>AUTUMN APPLAUSE ASH</td><td>Y</td><td>N</td><td>4</td><td> 800</td><td>E 39TH AV </td><td>KENSINGTON-CEDAR COTTAGE</td><td>EVEN</td><td>4</td><td>45.72</td><td>Y</td><td>1996-04-29</td><td>-123.0870</td><td>49.23469</td></tr>\n",
       "\t<tr><td>149604</td><td>5032</td><td>WINDSOR ST</td><td>ACER    </td><td>CAMPESTRE </td><td>NA             </td><td>HEDGE MAPLE        </td><td>N</td><td>N</td><td>4</td><td>5000</td><td>WINDSOR ST</td><td>KENSINGTON-CEDAR COTTAGE</td><td>EVEN</td><td>2</td><td>22.86</td><td>Y</td><td>1993-12-17</td><td>-123.0846</td><td>49.23894</td></tr>\n",
       "\t<tr><td>149616</td><td> 585</td><td>W 61ST AV </td><td>PYRUS   </td><td>CALLERYANA</td><td>CHANTICLEER    </td><td>CHANTICLEER PEAR   </td><td>N</td><td>N</td><td>B</td><td> 500</td><td>W 61ST AV </td><td>MARPOLE                 </td><td>ODD </td><td>2</td><td>12.70</td><td>Y</td><td>NA</td><td>-123.1196</td><td>49.21513</td></tr>\n",
       "</tbody>\n",
       "</table>\n"
      ],
      "text/latex": [
       "A tibble: 6 × 20\n",
       "\\begin{tabular}{llllllllllllllllllll}\n",
       " tree\\_id & civic\\_number & std\\_street & genus\\_name & species\\_name & cultivar\\_name & common\\_name & assigned & root\\_barrier & plant\\_area & on\\_street\\_block & on\\_street & neighbourhood\\_name & street\\_side\\_name & height\\_range\\_id & diameter & curb & date\\_planted & longitude & latitude\\\\\n",
       " <dbl> & <dbl> & <chr> & <chr> & <chr> & <chr> & <chr> & <chr> & <chr> & <chr> & <dbl> & <chr> & <chr> & <chr> & <dbl> & <dbl> & <chr> & <date> & <dbl> & <dbl>\\\\\n",
       "\\hline\n",
       "\t 149556 &  494 & W 58TH AV  & ULMUS    & AMERICANA  & BRANDON         & BRANDON ELM         & N & N & N &  400 & W 58TH AV  & MARPOLE                  & EVEN & 2 & 25.40 & N & 1999-01-13 & -123.1161 & 49.21776\\\\\n",
       "\t 149563 &  450 & W 58TH AV  & ZELKOVA  & SERRATA    & NA              & JAPANESE ZELKOVA    & N & N & N &  400 & W 58TH AV  & MARPOLE                  & EVEN & 4 & 25.40 & N & 1996-05-31 & -123.1147 & 49.21776\\\\\n",
       "\t 149579 & 4994 & WINDSOR ST & STYRAX   & JAPONICA   & NA              & JAPANESE SNOWBELL   & N & N & 4 & 4900 & WINDSOR ST & KENSINGTON-CEDAR COTTAGE & EVEN & 3 & 10.16 & Y & 1993-11-22 & -123.0846 & 49.23938\\\\\n",
       "\t 149590 &  858 & E 39TH AV  & FRAXINUS & AMERICANA  & AUTUMN APPLAUSE & AUTUMN APPLAUSE ASH & Y & N & 4 &  800 & E 39TH AV  & KENSINGTON-CEDAR COTTAGE & EVEN & 4 & 45.72 & Y & 1996-04-29 & -123.0870 & 49.23469\\\\\n",
       "\t 149604 & 5032 & WINDSOR ST & ACER     & CAMPESTRE  & NA              & HEDGE MAPLE         & N & N & 4 & 5000 & WINDSOR ST & KENSINGTON-CEDAR COTTAGE & EVEN & 2 & 22.86 & Y & 1993-12-17 & -123.0846 & 49.23894\\\\\n",
       "\t 149616 &  585 & W 61ST AV  & PYRUS    & CALLERYANA & CHANTICLEER     & CHANTICLEER PEAR    & N & N & B &  500 & W 61ST AV  & MARPOLE                  & ODD  & 2 & 12.70 & Y & NA & -123.1196 & 49.21513\\\\\n",
       "\\end{tabular}\n"
      ],
      "text/markdown": [
       "\n",
       "A tibble: 6 × 20\n",
       "\n",
       "| tree_id &lt;dbl&gt; | civic_number &lt;dbl&gt; | std_street &lt;chr&gt; | genus_name &lt;chr&gt; | species_name &lt;chr&gt; | cultivar_name &lt;chr&gt; | common_name &lt;chr&gt; | assigned &lt;chr&gt; | root_barrier &lt;chr&gt; | plant_area &lt;chr&gt; | on_street_block &lt;dbl&gt; | on_street &lt;chr&gt; | neighbourhood_name &lt;chr&gt; | street_side_name &lt;chr&gt; | height_range_id &lt;dbl&gt; | diameter &lt;dbl&gt; | curb &lt;chr&gt; | date_planted &lt;date&gt; | longitude &lt;dbl&gt; | latitude &lt;dbl&gt; |\n",
       "|---|---|---|---|---|---|---|---|---|---|---|---|---|---|---|---|---|---|---|---|\n",
       "| 149556 |  494 | W 58TH AV  | ULMUS    | AMERICANA  | BRANDON         | BRANDON ELM         | N | N | N |  400 | W 58TH AV  | MARPOLE                  | EVEN | 2 | 25.40 | N | 1999-01-13 | -123.1161 | 49.21776 |\n",
       "| 149563 |  450 | W 58TH AV  | ZELKOVA  | SERRATA    | NA              | JAPANESE ZELKOVA    | N | N | N |  400 | W 58TH AV  | MARPOLE                  | EVEN | 4 | 25.40 | N | 1996-05-31 | -123.1147 | 49.21776 |\n",
       "| 149579 | 4994 | WINDSOR ST | STYRAX   | JAPONICA   | NA              | JAPANESE SNOWBELL   | N | N | 4 | 4900 | WINDSOR ST | KENSINGTON-CEDAR COTTAGE | EVEN | 3 | 10.16 | Y | 1993-11-22 | -123.0846 | 49.23938 |\n",
       "| 149590 |  858 | E 39TH AV  | FRAXINUS | AMERICANA  | AUTUMN APPLAUSE | AUTUMN APPLAUSE ASH | Y | N | 4 |  800 | E 39TH AV  | KENSINGTON-CEDAR COTTAGE | EVEN | 4 | 45.72 | Y | 1996-04-29 | -123.0870 | 49.23469 |\n",
       "| 149604 | 5032 | WINDSOR ST | ACER     | CAMPESTRE  | NA              | HEDGE MAPLE         | N | N | 4 | 5000 | WINDSOR ST | KENSINGTON-CEDAR COTTAGE | EVEN | 2 | 22.86 | Y | 1993-12-17 | -123.0846 | 49.23894 |\n",
       "| 149616 |  585 | W 61ST AV  | PYRUS    | CALLERYANA | CHANTICLEER     | CHANTICLEER PEAR    | N | N | B |  500 | W 61ST AV  | MARPOLE                  | ODD  | 2 | 12.70 | Y | NA | -123.1196 | 49.21513 |\n",
       "\n"
      ],
      "text/plain": [
       "  tree_id civic_number std_street genus_name species_name cultivar_name  \n",
       "1 149556   494         W 58TH AV  ULMUS      AMERICANA    BRANDON        \n",
       "2 149563   450         W 58TH AV  ZELKOVA    SERRATA      NA             \n",
       "3 149579  4994         WINDSOR ST STYRAX     JAPONICA     NA             \n",
       "4 149590   858         E 39TH AV  FRAXINUS   AMERICANA    AUTUMN APPLAUSE\n",
       "5 149604  5032         WINDSOR ST ACER       CAMPESTRE    NA             \n",
       "6 149616   585         W 61ST AV  PYRUS      CALLERYANA   CHANTICLEER    \n",
       "  common_name         assigned root_barrier plant_area on_street_block\n",
       "1 BRANDON ELM         N        N            N           400           \n",
       "2 JAPANESE ZELKOVA    N        N            N           400           \n",
       "3 JAPANESE SNOWBELL   N        N            4          4900           \n",
       "4 AUTUMN APPLAUSE ASH Y        N            4           800           \n",
       "5 HEDGE MAPLE         N        N            4          5000           \n",
       "6 CHANTICLEER PEAR    N        N            B           500           \n",
       "  on_street  neighbourhood_name       street_side_name height_range_id diameter\n",
       "1 W 58TH AV  MARPOLE                  EVEN             2               25.40   \n",
       "2 W 58TH AV  MARPOLE                  EVEN             4               25.40   \n",
       "3 WINDSOR ST KENSINGTON-CEDAR COTTAGE EVEN             3               10.16   \n",
       "4 E 39TH AV  KENSINGTON-CEDAR COTTAGE EVEN             4               45.72   \n",
       "5 WINDSOR ST KENSINGTON-CEDAR COTTAGE EVEN             2               22.86   \n",
       "6 W 61ST AV  MARPOLE                  ODD              2               12.70   \n",
       "  curb date_planted longitude latitude\n",
       "1 N    1999-01-13   -123.1161 49.21776\n",
       "2 N    1996-05-31   -123.1147 49.21776\n",
       "3 Y    1993-11-22   -123.0846 49.23938\n",
       "4 Y    1996-04-29   -123.0870 49.23469\n",
       "5 Y    1993-12-17   -123.0846 49.23894\n",
       "6 Y    <NA>         -123.1196 49.21513"
      ]
     },
     "metadata": {},
     "output_type": "display_data"
    }
   ],
   "source": [
    "# metric_trees <- \n",
    "#   vancouver_trees %>% \n",
    "#   ...(...)\n",
    "    \n",
    "# your code here\n",
    "metric_trees <- vancouver_trees %>% \n",
    "   mutate(diameter = diameter*2.54)\n",
    "\n",
    "head(metric_trees)"
   ]
  },
  {
   "cell_type": "code",
   "execution_count": 11,
   "metadata": {
    "deletable": false,
    "editable": false,
    "nbgrader": {
     "cell_type": "code",
     "checksum": "7f0283bb01aa4fe160f37cb362f81c6d",
     "grade": true,
     "grade_id": "cell-3a2ddc8b634c2813",
     "locked": true,
     "points": 1,
     "schema_version": 3,
     "solution": false,
     "task": false
    }
   },
   "outputs": [
    {
     "name": "stdout",
     "output_type": "stream",
     "text": [
      "[1] \"Success!\"\n"
     ]
    }
   ],
   "source": [
    "test_1.4()"
   ]
  },
  {
   "cell_type": "markdown",
   "metadata": {
    "deletable": false,
    "editable": false,
    "nbgrader": {
     "cell_type": "markdown",
     "checksum": "43c54d715b4b1b9e3fbff5bd3ed8fbe1",
     "grade": false,
     "grade_id": "cell-b49ca4759a087710",
     "locked": true,
     "schema_version": 3,
     "solution": false,
     "task": false
    }
   },
   "source": [
    "## 2. Acer (Maple) Trees\n",
    "\n",
    "First, we will take a look at the population of `ACER` trees planted along the streets in Vancouver. The `ACER` genus (or family) of trees are commonly referred to as maple trees, and there are 31 different species currently planted throughout the city. Maple trees are quite popular along streets in Vancouver, making up around 25% of the entire population. They are well known for their bright shades of red, orange, and yellow during the fall, as well as for the appearance of a maple leaf on the Canadian flag.\n",
    "\n",
    "<img src=\"https://images.unsplash.com/photo-1568219273311-8616c622bc44?ixlib=rb-1.2.1&ixid=eyJhcHBfaWQiOjEyMDd9&auto=format&fit=crop&w=1650&q=80\" width=500>\n",
    "\n",
    "<div style=\"text-align: center\"><i>Photo by <a href=\"https://media2.giphy.com/media/kiu8isFXsj1yqVBAOv/giphy.gif?cid=ecf05e4755256f4e6c94108bd7031859932bed37b115ca3a&rid=giphy.gif\">Cindy Martin</a> on <a href=\"https://unsplash.com/?utm_source=unsplash&utm_medium=referral&utm_content=creditCopyText\">Unsplash</a></i></div>\n",
    "\n",
    "For this section, we are interested in exploring the distribution and sampling distribution of **sample means** for the `diameter` of the trees in our population of street maple trees. Recall that the **mean** is the sum of all observations of a variable divided by the total number of observations. It is used to measure the centre of a distribution and is an example of a population parameter."
   ]
  },
  {
   "cell_type": "markdown",
   "metadata": {
    "deletable": false,
    "editable": false,
    "nbgrader": {
     "cell_type": "markdown",
     "checksum": "48eb148bcf99108eb6507fdf38eca160",
     "grade": false,
     "grade_id": "cell-a3d7f015bc5221f0",
     "locked": true,
     "schema_version": 3,
     "solution": false,
     "task": false
    }
   },
   "source": [
    "**Question 2.0** \n",
    "<br> {points: 1}\n",
    "\n",
    "Filter the `metric_trees` data set for the population of interest (`ACER` genus of street trees) and select the characteristic that we will be working with (`diameter`). Your resulting data frame should have a single column.\n",
    "\n",
    "_Assign your data frame to an object called `acer_pop`._"
   ]
  },
  {
   "cell_type": "code",
   "execution_count": 12,
   "metadata": {
    "deletable": false,
    "nbgrader": {
     "cell_type": "code",
     "checksum": "6d091370acc5bc37302d58c752e63bda",
     "grade": false,
     "grade_id": "cell-7476bada5c340ebd",
     "locked": false,
     "schema_version": 3,
     "solution": true,
     "task": false
    }
   },
   "outputs": [
    {
     "data": {
      "text/html": [
       "<table>\n",
       "<caption>A tibble: 6 × 1</caption>\n",
       "<thead>\n",
       "\t<tr><th scope=col>diameter</th></tr>\n",
       "\t<tr><th scope=col>&lt;dbl&gt;</th></tr>\n",
       "</thead>\n",
       "<tbody>\n",
       "\t<tr><td>22.860</td></tr>\n",
       "\t<tr><td>38.100</td></tr>\n",
       "\t<tr><td>35.560</td></tr>\n",
       "\t<tr><td>40.640</td></tr>\n",
       "\t<tr><td>45.720</td></tr>\n",
       "\t<tr><td>26.035</td></tr>\n",
       "</tbody>\n",
       "</table>\n"
      ],
      "text/latex": [
       "A tibble: 6 × 1\n",
       "\\begin{tabular}{l}\n",
       " diameter\\\\\n",
       " <dbl>\\\\\n",
       "\\hline\n",
       "\t 22.860\\\\\n",
       "\t 38.100\\\\\n",
       "\t 35.560\\\\\n",
       "\t 40.640\\\\\n",
       "\t 45.720\\\\\n",
       "\t 26.035\\\\\n",
       "\\end{tabular}\n"
      ],
      "text/markdown": [
       "\n",
       "A tibble: 6 × 1\n",
       "\n",
       "| diameter &lt;dbl&gt; |\n",
       "|---|\n",
       "| 22.860 |\n",
       "| 38.100 |\n",
       "| 35.560 |\n",
       "| 40.640 |\n",
       "| 45.720 |\n",
       "| 26.035 |\n",
       "\n"
      ],
      "text/plain": [
       "  diameter\n",
       "1 22.860  \n",
       "2 38.100  \n",
       "3 35.560  \n",
       "4 40.640  \n",
       "5 45.720  \n",
       "6 26.035  "
      ]
     },
     "metadata": {},
     "output_type": "display_data"
    }
   ],
   "source": [
    "# acer_pop <- \n",
    "#    ... %>% \n",
    "#    ...(genus_name == ...) %>% \n",
    "#    select(...)\n",
    "\n",
    "# your code here\n",
    "acer_pop <- \n",
    "    metric_trees %>% \n",
    "    filter(genus_name == \"ACER\") %>% \n",
    "    select(diameter)\n",
    "\n",
    "head(acer_pop)"
   ]
  },
  {
   "cell_type": "code",
   "execution_count": 13,
   "metadata": {
    "deletable": false,
    "editable": false,
    "nbgrader": {
     "cell_type": "code",
     "checksum": "8dd2de1a9b4fca27d0d662e145a9380f",
     "grade": true,
     "grade_id": "cell-f2420a005fdbb5e5",
     "locked": true,
     "points": 1,
     "schema_version": 3,
     "solution": false,
     "task": false
    }
   },
   "outputs": [
    {
     "name": "stdout",
     "output_type": "stream",
     "text": [
      "[1] \"Success!\"\n"
     ]
    }
   ],
   "source": [
    "test_2.0()"
   ]
  },
  {
   "cell_type": "markdown",
   "metadata": {
    "deletable": false,
    "editable": false,
    "nbgrader": {
     "cell_type": "markdown",
     "checksum": "73aa2b0f21ea7f75df64ba0266ad35df",
     "grade": false,
     "grade_id": "cell-2fd3f213e3257905",
     "locked": true,
     "schema_version": 3,
     "solution": false,
     "task": false
    }
   },
   "source": [
    "**Question 2.1**\n",
    "<br> {points: 1}\n",
    "\n",
    "Visualize the distribution of the population of interest (`acer_pop`) by plotting a histogram of `diameter` with bin widths of 16 using `geom_histogram`. Add a title to the plot using `ggtitle` and ensure your axis are descriptive and human-readable.\n",
    "\n",
    "_Assign your plot to an object called `acer_pop_dist`._"
   ]
  },
  {
   "cell_type": "code",
   "execution_count": 16,
   "metadata": {
    "deletable": false,
    "nbgrader": {
     "cell_type": "code",
     "checksum": "c008f8174aec190e0624e591501d1df4",
     "grade": false,
     "grade_id": "cell-f6a48f1161bf902f",
     "locked": false,
     "schema_version": 3,
     "solution": true,
     "task": false
    }
   },
   "outputs": [
    {
     "data": {
      "image/png": "[encoded data removed]",
      "text/plain": [
       "plot without title"
      ]
     },
     "metadata": {
      "image/png": {
       "height": 420,
       "width": 420
      }
     },
     "output_type": "display_data"
    }
   ],
   "source": [
    "# acer_pop_dist <- \n",
    "#    ... %>% \n",
    "#    ggplot(aes(x = ...)) +\n",
    "#    ...(... = ..., color='white') +\n",
    "#    ...(\"Distribution of Acer Tree Diameters\") +\n",
    "#    xlab(...)\n",
    "\n",
    "# your code here\n",
    "acer_pop_dist <- \n",
    "    acer_pop %>% \n",
    "    ggplot(aes(x = diameter)) +\n",
    "    geom_histogram(binwidth = 16, color='white') +\n",
    "    ggtitle(\"Distribution of Acer Tree Diameters\") +\n",
    "    xlab(\"Diameter\")\n",
    "\n",
    "\n",
    "acer_pop_dist"
   ]
  },
  {
   "cell_type": "code",
   "execution_count": 17,
   "metadata": {
    "deletable": false,
    "editable": false,
    "nbgrader": {
     "cell_type": "code",
     "checksum": "0f8f7b7bfe52b340d7dc6657b8707e77",
     "grade": true,
     "grade_id": "cell-16cc219cc886014d",
     "locked": true,
     "points": 1,
     "schema_version": 3,
     "solution": false,
     "task": false
    }
   },
   "outputs": [
    {
     "name": "stdout",
     "output_type": "stream",
     "text": [
      "[1] \"Success!\"\n"
     ]
    }
   ],
   "source": [
    "test_2.1()"
   ]
  },
  {
   "cell_type": "markdown",
   "metadata": {
    "deletable": false,
    "editable": false,
    "nbgrader": {
     "cell_type": "markdown",
     "checksum": "368c761ac71338e650beffb4b055e6e2",
     "grade": false,
     "grade_id": "cell-2e0e29d3619802cc",
     "locked": true,
     "schema_version": 3,
     "solution": false,
     "task": false
    }
   },
   "source": [
    "**Question 2.2**\n",
    "<br>{points: 1}\n",
    "\n",
    "True or false?\n",
    "\n",
    "The population distribution is approximately bell-shaped.\n",
    "\n",
    "_Assign your answer to an object called `answer2.2`. Your answer should be either \"true\" or \"false\", surrounded by quotes._"
   ]
  },
  {
   "cell_type": "code",
   "execution_count": 20,
   "metadata": {
    "deletable": false,
    "nbgrader": {
     "cell_type": "code",
     "checksum": "1b04402366964e5614ab52f82924a20b",
     "grade": false,
     "grade_id": "cell-1801a022e149d67e",
     "locked": false,
     "schema_version": 3,
     "solution": true,
     "task": false
    }
   },
   "outputs": [],
   "source": [
    "# \n",
    "\n",
    "# your code here\n",
    "answer2.2 <- 'false'"
   ]
  },
  {
   "cell_type": "code",
   "execution_count": 21,
   "metadata": {
    "deletable": false,
    "editable": false,
    "nbgrader": {
     "cell_type": "code",
     "checksum": "bb5f573d4e3ec49dbc1a2e940f55464c",
     "grade": true,
     "grade_id": "cell-de09eb8a780565d8",
     "locked": true,
     "points": 1,
     "schema_version": 3,
     "solution": false,
     "task": false
    }
   },
   "outputs": [
    {
     "name": "stdout",
     "output_type": "stream",
     "text": [
      "[1] \"Success!\"\n"
     ]
    }
   ],
   "source": [
    "test_2.2()"
   ]
  },
  {
   "cell_type": "markdown",
   "metadata": {
    "deletable": false,
    "editable": false,
    "nbgrader": {
     "cell_type": "markdown",
     "checksum": "710e91a985f2f807def390cc0b9f8e4e",
     "grade": false,
     "grade_id": "cell-236d6d86fdc60662",
     "locked": true,
     "schema_version": 3,
     "solution": false,
     "task": false
    }
   },
   "source": [
    "**Question 2.3** \n",
    "<br> {points: 1}\n",
    "\n",
    "Take `1500` samples of size `70` from the population `acer_pop` using `rep_sample_n()` and a seed of `9558`. Then, calculate the mean diameter of each sample (which is labelled by the `replicate` column). Your final data frame should have the columns `replicate` and `sample_mean`.\n",
    "\n",
    "_Assign your data frame to an object called `acer_estimates`._"
   ]
  },
  {
   "cell_type": "code",
   "execution_count": 24,
   "metadata": {
    "deletable": false,
    "nbgrader": {
     "cell_type": "code",
     "checksum": "5e1f158e2d8893d314c640094ed8d6f5",
     "grade": false,
     "grade_id": "cell-21dc622dbfa804fb",
     "locked": false,
     "schema_version": 3,
     "solution": true,
     "task": false
    }
   },
   "outputs": [
    {
     "name": "stderr",
     "output_type": "stream",
     "text": [
      "`summarise()` ungrouping output (override with `.groups` argument)\n",
      "\n"
     ]
    },
    {
     "data": {
      "text/html": [
       "<table>\n",
       "<caption>A tibble: 6 × 2</caption>\n",
       "<thead>\n",
       "\t<tr><th scope=col>replicate</th><th scope=col>sample_mean</th></tr>\n",
       "\t<tr><th scope=col>&lt;int&gt;</th><th scope=col>&lt;dbl&gt;</th></tr>\n",
       "</thead>\n",
       "<tbody>\n",
       "\t<tr><td>1</td><td>28.65664</td></tr>\n",
       "\t<tr><td>2</td><td>27.42293</td></tr>\n",
       "\t<tr><td>3</td><td>24.83939</td></tr>\n",
       "\t<tr><td>4</td><td>29.50936</td></tr>\n",
       "\t<tr><td>5</td><td>22.86000</td></tr>\n",
       "\t<tr><td>6</td><td>29.69986</td></tr>\n",
       "</tbody>\n",
       "</table>\n"
      ],
      "text/latex": [
       "A tibble: 6 × 2\n",
       "\\begin{tabular}{ll}\n",
       " replicate & sample\\_mean\\\\\n",
       " <int> & <dbl>\\\\\n",
       "\\hline\n",
       "\t 1 & 28.65664\\\\\n",
       "\t 2 & 27.42293\\\\\n",
       "\t 3 & 24.83939\\\\\n",
       "\t 4 & 29.50936\\\\\n",
       "\t 5 & 22.86000\\\\\n",
       "\t 6 & 29.69986\\\\\n",
       "\\end{tabular}\n"
      ],
      "text/markdown": [
       "\n",
       "A tibble: 6 × 2\n",
       "\n",
       "| replicate &lt;int&gt; | sample_mean &lt;dbl&gt; |\n",
       "|---|---|\n",
       "| 1 | 28.65664 |\n",
       "| 2 | 27.42293 |\n",
       "| 3 | 24.83939 |\n",
       "| 4 | 29.50936 |\n",
       "| 5 | 22.86000 |\n",
       "| 6 | 29.69986 |\n",
       "\n"
      ],
      "text/plain": [
       "  replicate sample_mean\n",
       "1 1         28.65664   \n",
       "2 2         27.42293   \n",
       "3 3         24.83939   \n",
       "4 4         29.50936   \n",
       "5 5         22.86000   \n",
       "6 6         29.69986   "
      ]
     },
     "metadata": {},
     "output_type": "display_data"
    }
   ],
   "source": [
    "set.seed(9558) # DO NOT CHANGE!\n",
    "\n",
    "# acer_estimates <- \n",
    "#    ... %>% \n",
    "#    ...(... = 70, reps = ...) %>% \n",
    "#    ...(replicate) %>% \n",
    "#    summarize(sample_mean = ...)\n",
    "\n",
    "# your code here\n",
    "acer_estimates <- \n",
    "    acer_pop %>% \n",
    "    rep_sample_n(size = 70, reps = 1500) %>% \n",
    "    group_by(replicate) %>% \n",
    "    summarize(sample_mean = mean(diameter))\n",
    "\n",
    "head(acer_estimates)"
   ]
  },
  {
   "cell_type": "code",
   "execution_count": 25,
   "metadata": {
    "deletable": false,
    "editable": false,
    "nbgrader": {
     "cell_type": "code",
     "checksum": "7f392659b7308d67ec857b259ed4712b",
     "grade": true,
     "grade_id": "cell-908e2a05d48668e0",
     "locked": true,
     "points": 1,
     "schema_version": 3,
     "solution": false,
     "task": false
    }
   },
   "outputs": [
    {
     "name": "stdout",
     "output_type": "stream",
     "text": [
      "[1] \"Success!\"\n"
     ]
    }
   ],
   "source": [
    "test_2.3()"
   ]
  },
  {
   "cell_type": "markdown",
   "metadata": {
    "deletable": false,
    "editable": false,
    "nbgrader": {
     "cell_type": "markdown",
     "checksum": "0dc9a4b8c974aa8464e66d89905f3e27",
     "grade": false,
     "grade_id": "cell-6e317a18e89adfa1",
     "locked": true,
     "schema_version": 3,
     "solution": false,
     "task": false
    }
   },
   "source": [
    "**Question 2.4**\n",
    "<br> {points: 1}\n",
    "\n",
    "Visualize the distribution of the sample means (`acer_estimates`) by plotting a histogram with bin widths of 1 using `geom_histogram`. Add a title to the plot using `ggtitle` and ensure that the x-axis has a descriptive and human-readable label.\n",
    "\n",
    "_Assign your plot to an object called `acer_sampling_dist`._"
   ]
  },
  {
   "cell_type": "code",
   "execution_count": 26,
   "metadata": {
    "deletable": false,
    "nbgrader": {
     "cell_type": "code",
     "checksum": "c6980afe08158191206e9d2eaaa955a4",
     "grade": false,
     "grade_id": "cell-2c04c0bca3ee66b9",
     "locked": false,
     "schema_version": 3,
     "solution": true,
     "task": false
    }
   },
   "outputs": [
    {
     "data": {
      "image/png": "[encoded data removed]",
      "text/plain": [
       "plot without title"
      ]
     },
     "metadata": {
      "image/png": {
       "height": 420,
       "width": 420
      }
     },
     "output_type": "display_data"
    }
   ],
   "source": [
    "# acer_sampling_dist <- \n",
    "#    ... %>% \n",
    "#    ggplot(aes(x = ...)) + \n",
    "#    ...(... = ..., color='white') +\n",
    "#    ...(\"Sampling Distribution of Sample Means\") +\n",
    "#    xlab(\"...\")\n",
    "\n",
    "# your code here\n",
    "acer_sampling_dist <- \n",
    "    acer_estimates %>% \n",
    "    ggplot(aes(x = sample_mean)) + \n",
    "    geom_histogram(binwidth = 1, color='white') +\n",
    "    ggtitle(\"Sampling Distribution of Sample Means\") +\n",
    "    xlab(\"Sample Means\")\n",
    "\n",
    "\n",
    "acer_sampling_dist"
   ]
  },
  {
   "cell_type": "code",
   "execution_count": 27,
   "metadata": {
    "deletable": false,
    "editable": false,
    "nbgrader": {
     "cell_type": "code",
     "checksum": "04b5be61bfa89b797683c8195b18f2b4",
     "grade": true,
     "grade_id": "cell-00594abf7caee154",
     "locked": true,
     "points": 1,
     "schema_version": 3,
     "solution": false,
     "task": false
    }
   },
   "outputs": [
    {
     "name": "stdout",
     "output_type": "stream",
     "text": [
      "[1] \"Success!\"\n"
     ]
    }
   ],
   "source": [
    "test_2.4()"
   ]
  },
  {
   "cell_type": "markdown",
   "metadata": {
    "deletable": false,
    "editable": false,
    "nbgrader": {
     "cell_type": "markdown",
     "checksum": "b6d4f8083a8bbcdecf1984505940c2ad",
     "grade": false,
     "grade_id": "cell-3dc3a35a1df90d16",
     "locked": true,
     "schema_version": 3,
     "solution": false,
     "task": false
    }
   },
   "source": [
    "**Question 2.5**\n",
    "<br>{points: 1}\n",
    "\n",
    "Which of the following statements is true about the sampling distribution above?\n",
    "\n",
    "A. We would normally estimate the mean of a population by using the mean of the sampling distribution.\n",
    "\n",
    "B. The median of the population is very close to the median of the sampling distribution.\n",
    "\n",
    "C. The mean of the population is very close to the mean of the sampling distribution.\n",
    "\n",
    "D. The sampling distribution is of a similar shape to the population distribution.\n",
    "\n",
    "_Assign your answer to an object called `answer2.5`. Your answer should be a single character surrounded by quotes._"
   ]
  },
  {
   "cell_type": "code",
   "execution_count": 32,
   "metadata": {
    "deletable": false,
    "nbgrader": {
     "cell_type": "code",
     "checksum": "744d96a59c46f7b545459fd658f6244f",
     "grade": false,
     "grade_id": "cell-ae0bd451eaea77d5",
     "locked": false,
     "schema_version": 3,
     "solution": true,
     "task": false
    }
   },
   "outputs": [],
   "source": [
    "# answer2.5 <- ...\n",
    "\n",
    "# your code here\n",
    "answer2.5 <- \"C\""
   ]
  },
  {
   "cell_type": "code",
   "execution_count": 33,
   "metadata": {
    "deletable": false,
    "editable": false,
    "nbgrader": {
     "cell_type": "code",
     "checksum": "9cafb58a2229086d6ef0086076e052b1",
     "grade": true,
     "grade_id": "cell-148ad5e2ea3d650c",
     "locked": true,
     "points": 1,
     "schema_version": 3,
     "solution": false,
     "task": false
    }
   },
   "outputs": [
    {
     "name": "stdout",
     "output_type": "stream",
     "text": [
      "[1] \"Success!\"\n"
     ]
    }
   ],
   "source": [
    "test_2.5()"
   ]
  },
  {
   "cell_type": "markdown",
   "metadata": {
    "deletable": false,
    "editable": false,
    "nbgrader": {
     "cell_type": "markdown",
     "checksum": "0697c77aee69a6eeae7a19b0cd5c4e97",
     "grade": false,
     "grade_id": "cell-60ac18111e102ca2",
     "locked": true,
     "schema_version": 3,
     "solution": false,
     "task": false
    }
   },
   "source": [
    "## 3. Pissard Plum Trees\n",
    "\n",
    "Next, we are going to explore the population of Vancouver street trees with the common name `PISSARD PLUM`. These trees are a member of the plum tree family, which are often confused with cherry trees while flowering. Unlike the last part, here we are looking at a particular cultivar (cultivated variety) of trees rather than an entire family. The `PISSARD PLUM` cultivar is the second most popular cultivar along boulevards in Vancouver, making up around 6% of the total population.\n",
    "\n",
    "<img src=\"https://landscapeplants.oregonstate.edu/sites/plantid7/files/plantimage/prcea2847.jpg\" width=500>\n",
    "\n",
    "<div style=\"text-align: center\"><i>Image courtesy of <a href=\"https://landscapeplants.oregonstate.edu/plants/prunus-cerasifera-atropurpurea\">OSU, College of Agricultural Sciences - Department of Horticulture</i></a></div>\n",
    "\n",
    "For this section, we are interested in the sampling distribution of the **sample medians** for the `diameter` of these trees. Recall that the **median** is the middle observation of a sorted variable's data. Like the mean, it is used to measure the centre of a distribution and is another example of a population parameter."
   ]
  },
  {
   "cell_type": "markdown",
   "metadata": {
    "deletable": false,
    "editable": false,
    "nbgrader": {
     "cell_type": "markdown",
     "checksum": "a0e7dde7157e8755cda6be76f1917846",
     "grade": false,
     "grade_id": "cell-187988a9986e81c6",
     "locked": true,
     "schema_version": 3,
     "solution": false,
     "task": false
    }
   },
   "source": [
    "**Question 3.0** \n",
    "<br> {points: 1}\n",
    "\n",
    "Filter the `metric_trees` data set for the population of interest (trees with a common name of `PISSARD PLUM`) and select the characteristic that we will be working with (`diameter`). Your resulting data frame should have a single column.\n",
    "\n",
    "_Assign your data frame to an object called `plum_pop`._"
   ]
  },
  {
   "cell_type": "code",
   "execution_count": 39,
   "metadata": {
    "deletable": false,
    "nbgrader": {
     "cell_type": "code",
     "checksum": "48062ec67d09ed3a641ee46d89a3f09e",
     "grade": false,
     "grade_id": "cell-68262760c9425c19",
     "locked": false,
     "schema_version": 3,
     "solution": true,
     "task": false
    }
   },
   "outputs": [
    {
     "data": {
      "text/html": [
       "<table>\n",
       "<caption>A tibble: 6 × 1</caption>\n",
       "<thead>\n",
       "\t<tr><th scope=col>diameter</th></tr>\n",
       "\t<tr><th scope=col>&lt;dbl&gt;</th></tr>\n",
       "</thead>\n",
       "<tbody>\n",
       "\t<tr><td>18.415</td></tr>\n",
       "\t<tr><td>27.940</td></tr>\n",
       "\t<tr><td>25.400</td></tr>\n",
       "\t<tr><td>20.955</td></tr>\n",
       "\t<tr><td>20.320</td></tr>\n",
       "\t<tr><td>38.735</td></tr>\n",
       "</tbody>\n",
       "</table>\n"
      ],
      "text/latex": [
       "A tibble: 6 × 1\n",
       "\\begin{tabular}{l}\n",
       " diameter\\\\\n",
       " <dbl>\\\\\n",
       "\\hline\n",
       "\t 18.415\\\\\n",
       "\t 27.940\\\\\n",
       "\t 25.400\\\\\n",
       "\t 20.955\\\\\n",
       "\t 20.320\\\\\n",
       "\t 38.735\\\\\n",
       "\\end{tabular}\n"
      ],
      "text/markdown": [
       "\n",
       "A tibble: 6 × 1\n",
       "\n",
       "| diameter &lt;dbl&gt; |\n",
       "|---|\n",
       "| 18.415 |\n",
       "| 27.940 |\n",
       "| 25.400 |\n",
       "| 20.955 |\n",
       "| 20.320 |\n",
       "| 38.735 |\n",
       "\n"
      ],
      "text/plain": [
       "  diameter\n",
       "1 18.415  \n",
       "2 27.940  \n",
       "3 25.400  \n",
       "4 20.955  \n",
       "5 20.320  \n",
       "6 38.735  "
      ]
     },
     "metadata": {},
     "output_type": "display_data"
    }
   ],
   "source": [
    "# your code here\n",
    "plum_pop <- metric_trees %>%\n",
    "            filter(common_name ==\"PISSARD PLUM\")%>% \n",
    "            select(diameter)\n",
    "head(plum_pop)"
   ]
  },
  {
   "cell_type": "code",
   "execution_count": 40,
   "metadata": {
    "deletable": false,
    "editable": false,
    "nbgrader": {
     "cell_type": "code",
     "checksum": "5cc073aaf99cabe367b6569ae2db79e6",
     "grade": true,
     "grade_id": "cell-aebc3cae40aa17db",
     "locked": true,
     "points": 1,
     "schema_version": 3,
     "solution": false,
     "task": false
    }
   },
   "outputs": [
    {
     "name": "stdout",
     "output_type": "stream",
     "text": [
      "[1] \"Success!\"\n"
     ]
    }
   ],
   "source": [
    "test_3.0()"
   ]
  },
  {
   "cell_type": "markdown",
   "metadata": {
    "deletable": false,
    "editable": false,
    "nbgrader": {
     "cell_type": "markdown",
     "checksum": "e812543417a002edef69799c1f3baf21",
     "grade": false,
     "grade_id": "cell-3d0bc0c9dcb36fc5",
     "locked": true,
     "schema_version": 3,
     "solution": false,
     "task": false
    }
   },
   "source": [
    "**Question 3.1**\n",
    "<br> {points: 1}\n",
    "\n",
    "Visualize the distribution of `diameter` of the population `plum_pop` by plotting a histogram with bin widths of 8 using `geom_histogram`. Add a title to the plot using `ggtitle` and ensure your axis are descriptive and human-readable.\n",
    "\n",
    "_Assign your plot to an object called `plum_pop_dist`._"
   ]
  },
  {
   "cell_type": "code",
   "execution_count": 43,
   "metadata": {
    "deletable": false,
    "nbgrader": {
     "cell_type": "code",
     "checksum": "1a24f54cbeb8c5c0b3f9daaa7601d5b2",
     "grade": false,
     "grade_id": "cell-9e5c9136e312f856",
     "locked": false,
     "schema_version": 3,
     "solution": true,
     "task": false
    }
   },
   "outputs": [
    {
     "data": {
      "image/png": "[encoded data removed]",
      "text/plain": [
       "plot without title"
      ]
     },
     "metadata": {
      "image/png": {
       "height": 420,
       "width": 420
      }
     },
     "output_type": "display_data"
    }
   ],
   "source": [
    "# your code here\n",
    "\n",
    "plum_pop_dist <- plum_pop %>%\n",
    "                ggplot(aes(x= diameter))+\n",
    "                geom_histogram(binwidth=8, color=\"white\")+\n",
    "                ggtitle(\"Diameter Distribution\")+\n",
    "                xlab(\"Poputation Diameter\")\n",
    "\n",
    "plum_pop_dist"
   ]
  },
  {
   "cell_type": "code",
   "execution_count": 44,
   "metadata": {
    "deletable": false,
    "editable": false,
    "nbgrader": {
     "cell_type": "code",
     "checksum": "a44636d68100db686fdfde9a403748de",
     "grade": true,
     "grade_id": "cell-fc39d9461d6d86e3",
     "locked": true,
     "points": 1,
     "schema_version": 3,
     "solution": false,
     "task": false
    }
   },
   "outputs": [
    {
     "name": "stdout",
     "output_type": "stream",
     "text": [
      "[1] \"Success!\"\n"
     ]
    }
   ],
   "source": [
    "test_3.1()"
   ]
  },
  {
   "cell_type": "markdown",
   "metadata": {
    "deletable": false,
    "editable": false,
    "nbgrader": {
     "cell_type": "markdown",
     "checksum": "c2e1bc264ced3eb83e224dbb0420f816",
     "grade": false,
     "grade_id": "cell-98f3a2b6ee894a1d",
     "locked": true,
     "schema_version": 3,
     "solution": false,
     "task": false
    }
   },
   "source": [
    "**Question 3.2**\n",
    "<br> {points: 3}\n",
    "\n",
    "Given the population distribution you visualized in the previous question, what can we say about the shape of the distribution and the median of the population?"
   ]
  },
  {
   "cell_type": "markdown",
   "metadata": {
    "deletable": false,
    "nbgrader": {
     "cell_type": "markdown",
     "checksum": "5a803d0c1d46a72869bc97b1ec21e70a",
     "grade": true,
     "grade_id": "cell-04d61df14296700a",
     "locked": false,
     "points": 3,
     "schema_version": 3,
     "solution": true,
     "task": false
    }
   },
   "source": [
    "The shape of the distribution is bell shaped and the median is roughly the peak of the histogram. Such a distributio is called a normal distribution.  "
   ]
  },
  {
   "cell_type": "markdown",
   "metadata": {
    "deletable": false,
    "editable": false,
    "nbgrader": {
     "cell_type": "markdown",
     "checksum": "96866d50a04c330abfd9e79b3bab457c",
     "grade": false,
     "grade_id": "cell-4f2eaedddf57c496",
     "locked": true,
     "schema_version": 3,
     "solution": false,
     "task": false
    }
   },
   "source": [
    "**Question 3.3**\n",
    "<br> {points: 1}\n",
    "\n",
    "Take `1500` samples of size `50` from the population `plum_pop` using `rep_sample_n()` and a seed of `8905`. Then, calculate the median of each sample (which is labelled by the `replicate` column). Your final data frame should have the columns `replicate` and `sample_median`.\n",
    "\n",
    "_Assign your data frame to an object called `plum_estimates`._"
   ]
  },
  {
   "cell_type": "code",
   "execution_count": 48,
   "metadata": {
    "deletable": false,
    "nbgrader": {
     "cell_type": "code",
     "checksum": "826e8fe9819d3001d97ffd4ad0fb8a32",
     "grade": false,
     "grade_id": "cell-1c4e2cb0a1fd320b",
     "locked": false,
     "schema_version": 3,
     "solution": true,
     "task": false
    }
   },
   "outputs": [
    {
     "name": "stderr",
     "output_type": "stream",
     "text": [
      "`summarise()` ungrouping output (override with `.groups` argument)\n",
      "\n"
     ]
    },
    {
     "data": {
      "text/html": [
       "<table>\n",
       "<caption>A tibble: 6 × 2</caption>\n",
       "<thead>\n",
       "\t<tr><th scope=col>replicate</th><th scope=col>sample_median</th></tr>\n",
       "\t<tr><th scope=col>&lt;int&gt;</th><th scope=col>&lt;dbl&gt;</th></tr>\n",
       "</thead>\n",
       "<tbody>\n",
       "\t<tr><td>1</td><td>36.1950</td></tr>\n",
       "\t<tr><td>2</td><td>33.0200</td></tr>\n",
       "\t<tr><td>3</td><td>33.0200</td></tr>\n",
       "\t<tr><td>4</td><td>35.8775</td></tr>\n",
       "\t<tr><td>5</td><td>38.1000</td></tr>\n",
       "\t<tr><td>6</td><td>34.9250</td></tr>\n",
       "</tbody>\n",
       "</table>\n"
      ],
      "text/latex": [
       "A tibble: 6 × 2\n",
       "\\begin{tabular}{ll}\n",
       " replicate & sample\\_median\\\\\n",
       " <int> & <dbl>\\\\\n",
       "\\hline\n",
       "\t 1 & 36.1950\\\\\n",
       "\t 2 & 33.0200\\\\\n",
       "\t 3 & 33.0200\\\\\n",
       "\t 4 & 35.8775\\\\\n",
       "\t 5 & 38.1000\\\\\n",
       "\t 6 & 34.9250\\\\\n",
       "\\end{tabular}\n"
      ],
      "text/markdown": [
       "\n",
       "A tibble: 6 × 2\n",
       "\n",
       "| replicate &lt;int&gt; | sample_median &lt;dbl&gt; |\n",
       "|---|---|\n",
       "| 1 | 36.1950 |\n",
       "| 2 | 33.0200 |\n",
       "| 3 | 33.0200 |\n",
       "| 4 | 35.8775 |\n",
       "| 5 | 38.1000 |\n",
       "| 6 | 34.9250 |\n",
       "\n"
      ],
      "text/plain": [
       "  replicate sample_median\n",
       "1 1         36.1950      \n",
       "2 2         33.0200      \n",
       "3 3         33.0200      \n",
       "4 4         35.8775      \n",
       "5 5         38.1000      \n",
       "6 6         34.9250      "
      ]
     },
     "metadata": {},
     "output_type": "display_data"
    }
   ],
   "source": [
    "set.seed(8905) # DO NOT CHANGE!\n",
    "# your code here\n",
    "plum_estimates <- plum_pop %>%\n",
    "                  rep_sample_n(size=50, reps=1500) %>%\n",
    "                  group_by(replicate) %>%\n",
    "                  summarize(sample_median= median(diameter))\n",
    "                  \n",
    "head(plum_estimates)"
   ]
  },
  {
   "cell_type": "code",
   "execution_count": 49,
   "metadata": {
    "deletable": false,
    "editable": false,
    "nbgrader": {
     "cell_type": "code",
     "checksum": "145552ace3a3328346acf98202c71de5",
     "grade": true,
     "grade_id": "cell-6f3c51616064e661",
     "locked": true,
     "points": 1,
     "schema_version": 3,
     "solution": false,
     "task": false
    }
   },
   "outputs": [
    {
     "name": "stdout",
     "output_type": "stream",
     "text": [
      "[1] \"Success!\"\n"
     ]
    }
   ],
   "source": [
    "test_3.3()"
   ]
  },
  {
   "cell_type": "markdown",
   "metadata": {
    "deletable": false,
    "editable": false,
    "nbgrader": {
     "cell_type": "markdown",
     "checksum": "7c019a1bed2f8c293b98219acd9debf0",
     "grade": false,
     "grade_id": "cell-e8a263f0dfd8f3e0",
     "locked": true,
     "schema_version": 3,
     "solution": false,
     "task": false
    }
   },
   "source": [
    "**Question 3.4** \n",
    "<br> {points: 1}\n",
    "\n",
    "Visualize the distribution of the sample medians (`plum_estimates`) by plotting a histogram with bin widths of 1 using `geom_histogram`  Add a title to the plot using `ggtitle` and ensure that the x-axis has a descriptive and human-readable label.\n",
    "\n",
    "_Assign your plot to an object called `plum_sampling_dist`._"
   ]
  },
  {
   "cell_type": "code",
   "execution_count": 54,
   "metadata": {
    "deletable": false,
    "nbgrader": {
     "cell_type": "code",
     "checksum": "59c1380be4d1c8752aeaa06cbe333db5",
     "grade": false,
     "grade_id": "cell-7492c512df8dbcb0",
     "locked": false,
     "schema_version": 3,
     "solution": true,
     "task": false
    }
   },
   "outputs": [
    {
     "data": {
      "image/png": "[encoded data removed]",
      "text/plain": [
       "plot without title"
      ]
     },
     "metadata": {
      "image/png": {
       "height": 420,
       "width": 420
      }
     },
     "output_type": "display_data"
    }
   ],
   "source": [
    "# your code here\n",
    "plum_sampling_dist <- plum_estimates %>% \n",
    "                    ggplot(aes(x=sample_median))+\n",
    "                    geom_histogram(binwidth=1)+\n",
    "                    xlab(\"Sample Median\")+\n",
    "                    ggtitle(\"Sample Medians distribution\")\n",
    "plum_sampling_dist"
   ]
  },
  {
   "cell_type": "code",
   "execution_count": 55,
   "metadata": {
    "deletable": false,
    "editable": false,
    "nbgrader": {
     "cell_type": "code",
     "checksum": "11217e4dc4923875fb02363a375c2622",
     "grade": true,
     "grade_id": "cell-e59510fa876db9df",
     "locked": true,
     "points": 1,
     "schema_version": 3,
     "solution": false,
     "task": false
    }
   },
   "outputs": [
    {
     "name": "stdout",
     "output_type": "stream",
     "text": [
      "[1] \"Success!\"\n"
     ]
    }
   ],
   "source": [
    "test_3.4()"
   ]
  },
  {
   "cell_type": "markdown",
   "metadata": {
    "deletable": false,
    "editable": false,
    "nbgrader": {
     "cell_type": "markdown",
     "checksum": "262fdb26ef1ff701dc27987ff0e77e65",
     "grade": false,
     "grade_id": "cell-d2b43c7f4f2b7742",
     "locked": true,
     "schema_version": 3,
     "solution": false,
     "task": false
    }
   },
   "source": [
    "**Question 3.5**\n",
    "<br> {points: 3}\n",
    "\n",
    "Suppose you took a single random sample of the diameter of 50 Pissard Plum trees from public streets in Vancouver and calculated the median of the sample as a point estimate. What are some values that you would realistically obtain: any value between 10 and 60 cm, or any value between 30 and 40 cm? Justify your response in 1-2 brief sentences."
   ]
  },
  {
   "cell_type": "markdown",
   "metadata": {
    "deletable": false,
    "nbgrader": {
     "cell_type": "markdown",
     "checksum": "dc34e2e7ac0a655b41b34a9cd0dc7ab2",
     "grade": true,
     "grade_id": "cell-ddb2e5de686983dd",
     "locked": false,
     "points": 3,
     "schema_version": 3,
     "solution": true,
     "task": false
    }
   },
   "source": [
    "I would most likely get a value between 30 and 40. This is because, lookin=g at the graph, there are a lot of distributions that lie in the range 30 and 40, hence most likely for a random sample to fall in the same range."
   ]
  },
  {
   "cell_type": "markdown",
   "metadata": {
    "deletable": false,
    "editable": false,
    "nbgrader": {
     "cell_type": "markdown",
     "checksum": "d3b1af35daf2726507517a27f37f17df",
     "grade": false,
     "grade_id": "cell-95cc6f4a2d03146e",
     "locked": true,
     "schema_version": 3,
     "solution": false,
     "task": false
    }
   },
   "source": [
    "## 4. Kwanzan Flowering Cherry Trees\n",
    "\n",
    "Finally, we are going to explore the population of `KWANZAN FLOWERING CHERRY` (common name) trees planted along streets in Vancouver. Also referred to as \"Japanese Cherry trees\", this cultivar is the most popular type in Vancouver, making up 7% of the population. These trees have the infamous pink blossoms that you can see all across Vancouver and on campus in early spring.\n",
    "\n",
    "<img src=\"https://www.gardenia.net/storage/app/public/uploads/images/detail/Prunus%20Kanzan%20055089C104.jpg\" width=500>\n",
    "\n",
    "<div style=\"text-align: center\"><i>Image from <a href=\"https://www.gardenia.net/plant/prunus-kanzan-japanese-flowering-cherry\">gardenia.net</i></a></div>\n",
    "\n",
    "Here, we are interested in looking at the sampling distribution of **sample variances**, again for the `diameter` of the trees in our population. Recall that the **variance** is the mean of the sum of the squared distances of each observation of a variable from the mean. It is typically used to measure how \"wide\" a distribution is and is another example of a population parameter."
   ]
  },
  {
   "cell_type": "markdown",
   "metadata": {
    "deletable": false,
    "editable": false,
    "nbgrader": {
     "cell_type": "markdown",
     "checksum": "10c92ecd702197638d936c672384fc1f",
     "grade": false,
     "grade_id": "cell-704934fbf2abe82f",
     "locked": true,
     "schema_version": 3,
     "solution": false,
     "task": false
    }
   },
   "source": [
    "**Question 4.0** \n",
    "<br> {points: 3}\n",
    "\n",
    "Filter the `metric_trees` data set for the population of interest (trees with a common name of `KWANZAN FLOWERING CHERRY`) and select the characteristic that we will be working with (`diameter`). Your resulting data frame should have a single column.\n",
    "\n",
    "_Assign your data frame to an object called `cherry_pop`._"
   ]
  },
  {
   "cell_type": "code",
   "execution_count": 56,
   "metadata": {
    "deletable": false,
    "nbgrader": {
     "cell_type": "code",
     "checksum": "3b3951e2e56a12dc1d7eb69113cbc0f7",
     "grade": false,
     "grade_id": "cell-9da2256a70d5fe2f",
     "locked": false,
     "schema_version": 3,
     "solution": true,
     "task": false
    }
   },
   "outputs": [
    {
     "data": {
      "text/html": [
       "<table>\n",
       "<caption>A tibble: 6 × 1</caption>\n",
       "<thead>\n",
       "\t<tr><th scope=col>diameter</th></tr>\n",
       "\t<tr><th scope=col>&lt;dbl&gt;</th></tr>\n",
       "</thead>\n",
       "<tbody>\n",
       "\t<tr><td>43.18</td></tr>\n",
       "\t<tr><td>22.86</td></tr>\n",
       "\t<tr><td>40.64</td></tr>\n",
       "\t<tr><td>22.86</td></tr>\n",
       "\t<tr><td>16.51</td></tr>\n",
       "\t<tr><td>93.98</td></tr>\n",
       "</tbody>\n",
       "</table>\n"
      ],
      "text/latex": [
       "A tibble: 6 × 1\n",
       "\\begin{tabular}{l}\n",
       " diameter\\\\\n",
       " <dbl>\\\\\n",
       "\\hline\n",
       "\t 43.18\\\\\n",
       "\t 22.86\\\\\n",
       "\t 40.64\\\\\n",
       "\t 22.86\\\\\n",
       "\t 16.51\\\\\n",
       "\t 93.98\\\\\n",
       "\\end{tabular}\n"
      ],
      "text/markdown": [
       "\n",
       "A tibble: 6 × 1\n",
       "\n",
       "| diameter &lt;dbl&gt; |\n",
       "|---|\n",
       "| 43.18 |\n",
       "| 22.86 |\n",
       "| 40.64 |\n",
       "| 22.86 |\n",
       "| 16.51 |\n",
       "| 93.98 |\n",
       "\n"
      ],
      "text/plain": [
       "  diameter\n",
       "1 43.18   \n",
       "2 22.86   \n",
       "3 40.64   \n",
       "4 22.86   \n",
       "5 16.51   \n",
       "6 93.98   "
      ]
     },
     "metadata": {},
     "output_type": "display_data"
    }
   ],
   "source": [
    "# your code here\n",
    "cherry_pop <- metric_trees %>%\n",
    "            filter(common_name == \"KWANZAN FLOWERING CHERRY\") %>%\n",
    "            select(diameter)\n",
    "head(cherry_pop)"
   ]
  },
  {
   "cell_type": "code",
   "execution_count": 57,
   "metadata": {
    "deletable": false,
    "editable": false,
    "nbgrader": {
     "cell_type": "code",
     "checksum": "9e19267312c33ffd6f7e0c428a6ac98e",
     "grade": true,
     "grade_id": "cell-066ab81aee21ffd3",
     "locked": true,
     "points": 3,
     "schema_version": 3,
     "solution": false,
     "task": false
    }
   },
   "outputs": [],
   "source": [
    "# Here we check to see whether you have given your answer the correct\n",
    "# object name. However, all other tests have been hidden so you can\n",
    "# practice deciding when you have the correct answer.\n",
    "\n",
    "test_that('Did not assign answer to an object called \"cherry_pop\"', {\n",
    "    expect_true(exists(\"cherry_pop\"))\n",
    "})"
   ]
  },
  {
   "cell_type": "markdown",
   "metadata": {
    "deletable": false,
    "editable": false,
    "nbgrader": {
     "cell_type": "markdown",
     "checksum": "e1031cd0c91a9bce82798a1ff7efc41d",
     "grade": false,
     "grade_id": "cell-582df55b6a501176",
     "locked": true,
     "schema_version": 3,
     "solution": false,
     "task": false
    }
   },
   "source": [
    "**Question 4.1**\n",
    "<br> {points: 3}\n",
    "\n",
    "Visualize the distribution `diameter` of the population `cherry_pop` by plotting a histogram with bins widths of 15 using `geom_histogram`. Add a title to the plot using `ggtitle` and ensure your axis are descriptive and human-readable.\n",
    "\n",
    "_Assign your plot to an object called `cherry_pop_dist`._"
   ]
  },
  {
   "cell_type": "code",
   "execution_count": 59,
   "metadata": {
    "deletable": false,
    "nbgrader": {
     "cell_type": "code",
     "checksum": "de6ebeccf5ad3c21e22bdfb1816357d8",
     "grade": false,
     "grade_id": "cell-1c852a66a3d4a32f",
     "locked": false,
     "schema_version": 3,
     "solution": true,
     "task": false
    }
   },
   "outputs": [
    {
     "data": {
      "image/png": "[encoded data removed]",
      "text/plain": [
       "plot without title"
      ]
     },
     "metadata": {
      "image/png": {
       "height": 420,
       "width": 420
      }
     },
     "output_type": "display_data"
    }
   ],
   "source": [
    "# your code here\n",
    "cherry_pop_dist <- cherry_pop %>%\n",
    "                ggplot(aes(x=diameter))+\n",
    "                geom_histogram(binwidth=15)+\n",
    "                xlab(\"Population Diameter\")+\n",
    "                ggtitle(\"Distribution of diameter of population\")\n",
    "\n",
    "cherry_pop_dist"
   ]
  },
  {
   "cell_type": "code",
   "execution_count": null,
   "metadata": {
    "deletable": false,
    "editable": false,
    "nbgrader": {
     "cell_type": "code",
     "checksum": "fb0474bef73befa831afe38e501f608b",
     "grade": true,
     "grade_id": "cell-2448f81d1156dc97",
     "locked": true,
     "points": 3,
     "schema_version": 3,
     "solution": false,
     "task": false
    }
   },
   "outputs": [],
   "source": [
    "# Here we check to see whether you have given your answer the correct\n",
    "# object name. However, all other tests have been hidden so you can\n",
    "# practice deciding when you have the correct answer.\n",
    "\n",
    "test_that('Did not assign answer to an object called \"cherry_pop_dist\"', {\n",
    "  expect_true(exists(\"cherry_pop_dist\"))\n",
    "})"
   ]
  },
  {
   "cell_type": "markdown",
   "metadata": {
    "deletable": false,
    "editable": false,
    "nbgrader": {
     "cell_type": "markdown",
     "checksum": "a6b2b99e74f80c1cdcd9665e91e41625",
     "grade": false,
     "grade_id": "cell-2b3b1c9d1cd2ba05",
     "locked": true,
     "schema_version": 3,
     "solution": false,
     "task": false
    }
   },
   "source": [
    "**Question 4.2**\n",
    "<br> {points: 3}\n",
    "\n",
    "Using the two population distributions below, compare the standard deviation of the two populations. Be sure to justify your answer.\n",
    "\n",
    "**Note:** we have changed the scale and set an upper bound on where a large majority of the tree diameters fall, so you can focus on the most important parts of the distributions. This will remove a couple larger observations from our population, which results in the warnings shown below."
   ]
  },
  {
   "cell_type": "code",
   "execution_count": 60,
   "metadata": {
    "deletable": false,
    "editable": false,
    "nbgrader": {
     "cell_type": "code",
     "checksum": "fef468b3eb77aa206f820ad1ea1e6b1d",
     "grade": false,
     "grade_id": "cell-d2b878f8f6f9b9de",
     "locked": true,
     "schema_version": 3,
     "solution": false,
     "task": false
    }
   },
   "outputs": [
    {
     "name": "stderr",
     "output_type": "stream",
     "text": [
      "Warning message:\n",
      "“Removed 4 rows containing non-finite values (stat_bin).”\n",
      "Warning message:\n",
      "“Removed 1 rows containing missing values (geom_bar).”\n",
      "Warning message:\n",
      "“Removed 2 rows containing non-finite values (stat_bin).”\n",
      "Warning message:\n",
      "“Removed 1 rows containing missing values (geom_bar).”\n"
     ]
    },
    {
     "data": {
      "image/png": "[encoded data removed]",
      "text/plain": [
       "plot without title"
      ]
     },
     "metadata": {
      "image/png": {
       "height": 420,
       "width": 420
      }
     },
     "output_type": "display_data"
    }
   ],
   "source": [
    "plot_grid(plum_pop_dist + xlim(NA, 150),\n",
    "             cherry_pop_dist + xlim(NA, 150),\n",
    "             ncol = 2)"
   ]
  },
  {
   "cell_type": "markdown",
   "metadata": {
    "deletable": false,
    "nbgrader": {
     "cell_type": "markdown",
     "checksum": "4c2909b21da23ea575f40e9136883f31",
     "grade": true,
     "grade_id": "cell-74d6964e6aa3e72e",
     "locked": false,
     "points": 3,
     "schema_version": 3,
     "solution": true,
     "task": false
    }
   },
   "source": [
    "The first graph looks more symetrical than the second one. The standard deviation is not significantly different."
   ]
  },
  {
   "cell_type": "markdown",
   "metadata": {
    "deletable": false,
    "editable": false,
    "nbgrader": {
     "cell_type": "markdown",
     "checksum": "1439e8b25dc75221dd20a63922070e70",
     "grade": false,
     "grade_id": "cell-61c9644b17b2e3b5",
     "locked": true,
     "schema_version": 3,
     "solution": false,
     "task": false
    }
   },
   "source": [
    "**Question 4.3**\n",
    "<br> {points: 3}\n",
    "\n",
    "Take `1500` samples of size `90` from the population `cherry_pop` using `rep_sample_n()` and a seed of `6919`. Then, calculate the variance of each sample (which is labelled by the `replicate` column). Your final data frame should have the columns `replicate` and `sample_variance`.\n",
    "\n",
    "**Hint:** you can use `var()` to compute variance.\n",
    "\n",
    "_Assign your data frame to an object called `cherry_estimates`._"
   ]
  },
  {
   "cell_type": "code",
   "execution_count": 62,
   "metadata": {
    "deletable": false,
    "nbgrader": {
     "cell_type": "code",
     "checksum": "940625059b1544fa90bcbce85a658e37",
     "grade": false,
     "grade_id": "cell-d3d97303f5727199",
     "locked": false,
     "schema_version": 3,
     "solution": true,
     "task": false
    }
   },
   "outputs": [
    {
     "name": "stderr",
     "output_type": "stream",
     "text": [
      "`summarise()` ungrouping output (override with `.groups` argument)\n",
      "\n"
     ]
    },
    {
     "data": {
      "text/html": [
       "<table>\n",
       "<caption>A tibble: 6 × 2</caption>\n",
       "<thead>\n",
       "\t<tr><th scope=col>replicate</th><th scope=col>sample_variance</th></tr>\n",
       "\t<tr><th scope=col>&lt;int&gt;</th><th scope=col>&lt;dbl&gt;</th></tr>\n",
       "</thead>\n",
       "<tbody>\n",
       "\t<tr><td>1</td><td>477.4017</td></tr>\n",
       "\t<tr><td>2</td><td>478.5221</td></tr>\n",
       "\t<tr><td>3</td><td>462.6115</td></tr>\n",
       "\t<tr><td>4</td><td>581.9231</td></tr>\n",
       "\t<tr><td>5</td><td>457.1865</td></tr>\n",
       "\t<tr><td>6</td><td>499.5910</td></tr>\n",
       "</tbody>\n",
       "</table>\n"
      ],
      "text/latex": [
       "A tibble: 6 × 2\n",
       "\\begin{tabular}{ll}\n",
       " replicate & sample\\_variance\\\\\n",
       " <int> & <dbl>\\\\\n",
       "\\hline\n",
       "\t 1 & 477.4017\\\\\n",
       "\t 2 & 478.5221\\\\\n",
       "\t 3 & 462.6115\\\\\n",
       "\t 4 & 581.9231\\\\\n",
       "\t 5 & 457.1865\\\\\n",
       "\t 6 & 499.5910\\\\\n",
       "\\end{tabular}\n"
      ],
      "text/markdown": [
       "\n",
       "A tibble: 6 × 2\n",
       "\n",
       "| replicate &lt;int&gt; | sample_variance &lt;dbl&gt; |\n",
       "|---|---|\n",
       "| 1 | 477.4017 |\n",
       "| 2 | 478.5221 |\n",
       "| 3 | 462.6115 |\n",
       "| 4 | 581.9231 |\n",
       "| 5 | 457.1865 |\n",
       "| 6 | 499.5910 |\n",
       "\n"
      ],
      "text/plain": [
       "  replicate sample_variance\n",
       "1 1         477.4017       \n",
       "2 2         478.5221       \n",
       "3 3         462.6115       \n",
       "4 4         581.9231       \n",
       "5 5         457.1865       \n",
       "6 6         499.5910       "
      ]
     },
     "metadata": {},
     "output_type": "display_data"
    }
   ],
   "source": [
    "set.seed(6919) # DO NOT CHANGE THIS\n",
    "\n",
    "# your code here\n",
    "cherry_estimates <- cherry_pop %>% \n",
    "                    rep_sample_n(size= 90, reps=1500) %>%\n",
    "                    group_by(replicate) %>%\n",
    "                    summarize(sample_variance = var(diameter))\n",
    "head(cherry_estimates)"
   ]
  },
  {
   "cell_type": "code",
   "execution_count": 63,
   "metadata": {
    "deletable": false,
    "editable": false,
    "nbgrader": {
     "cell_type": "code",
     "checksum": "547ef6813631385677ab3de6f39cc8f4",
     "grade": true,
     "grade_id": "cell-03d16843a8dbe8e8",
     "locked": true,
     "points": 3,
     "schema_version": 3,
     "solution": false,
     "task": false
    }
   },
   "outputs": [],
   "source": [
    "# Here we check to see whether you have given your answer the correct\n",
    "# object name. However, all other tests have been hidden so you can\n",
    "# practice deciding when you have the correct answer.\n",
    "\n",
    "test_that('Did not assign answer to an object called \"cherry_estimates\"', {\n",
    "  expect_true(exists(\"cherry_estimates\"))\n",
    "})"
   ]
  },
  {
   "cell_type": "markdown",
   "metadata": {
    "deletable": false,
    "editable": false,
    "nbgrader": {
     "cell_type": "markdown",
     "checksum": "d1f053043808e9e4c491b57049abbee3",
     "grade": false,
     "grade_id": "cell-444e57f92fb0e980",
     "locked": true,
     "schema_version": 3,
     "solution": false,
     "task": false
    }
   },
   "source": [
    "**Question 4.4**\n",
    "<br> {points: 3}\n",
    "\n",
    "Visualize the distribution of the sample variances (`cherry_estimates`) by plotting a histogram with bin widths of 25 using `geom_histogram`. Add a title to the plot using `ggtitle` and ensure that the x-axis has a descriptive and human-readable label.\n",
    "\n",
    "_Assign your plot to an object called `cherry_sampling_dist`._"
   ]
  },
  {
   "cell_type": "code",
   "execution_count": 65,
   "metadata": {
    "deletable": false,
    "nbgrader": {
     "cell_type": "code",
     "checksum": "2c73235a860dbbed79d2b028cb381605",
     "grade": false,
     "grade_id": "cell-b6dcac1e6134c913",
     "locked": false,
     "schema_version": 3,
     "solution": true,
     "task": false
    }
   },
   "outputs": [
    {
     "data": {
      "image/png": "[encoded data removed]",
      "text/plain": [
       "plot without title"
      ]
     },
     "metadata": {
      "image/png": {
       "height": 420,
       "width": 420
      }
     },
     "output_type": "display_data"
    }
   ],
   "source": [
    "# your code here\n",
    "cherry_sampling_dist <- cherry_estimates %>%\n",
    "                        ggplot(aes(x=sample_variance))+\n",
    "                        geom_histogram(binwidth=25)+\n",
    "                        xlab(\"Sample Variance\")+\n",
    "                        ggtitle(\"Sample Variance Distribution\")\n",
    "cherry_sampling_dist"
   ]
  },
  {
   "cell_type": "code",
   "execution_count": 66,
   "metadata": {
    "deletable": false,
    "editable": false,
    "nbgrader": {
     "cell_type": "code",
     "checksum": "1b7b821f9a6049ccbc4fc616c91f0e41",
     "grade": true,
     "grade_id": "cell-8d831378059516dc",
     "locked": true,
     "points": 3,
     "schema_version": 3,
     "solution": false,
     "task": false
    }
   },
   "outputs": [],
   "source": [
    "# Here we check to see whether you have given your answer the correct\n",
    "# object name. However, all other tests have been hidden so you can\n",
    "# practice deciding when you have the correct answer.\n",
    "\n",
    "test_that('Did not assign answer to an object called \"cherry_sampling_dist\"', {\n",
    "  expect_true(exists(\"cherry_sampling_dist\"))\n",
    "})"
   ]
  },
  {
   "cell_type": "code",
   "execution_count": null,
   "metadata": {},
   "outputs": [],
   "source": []
  }
 ],
 "metadata": {
  "docker": {
   "latest_image_tag": "v0.4.0"
  },
  "jupytext": {
   "formats": "ipynb,Rmd"
  },
  "kernelspec": {
   "display_name": "R",
   "language": "R",
   "name": "ir"
  },
  "language_info": {
   "codemirror_mode": "r",
   "file_extension": ".r",
   "mimetype": "text/x-r-source",
   "name": "R",
   "pygments_lexer": "r",
   "version": "4.1.1"
  }
 },
 "nbformat": 4,
 "nbformat_minor": 4
}
